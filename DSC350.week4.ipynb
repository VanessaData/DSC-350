{
 "cells": [
  {
   "cell_type": "markdown",
   "id": "8396bb8b-d3ad-4c7c-b254-92d20c8b97ca",
   "metadata": {},
   "source": [
    "# Vanessa Williams"
   ]
  },
  {
   "cell_type": "markdown",
   "id": "14005ca8-9ce0-4cfd-a975-5c2ade94b8d9",
   "metadata": {},
   "source": [
    "## DSC350: Week 4"
   ]
  },
  {
   "cell_type": "code",
   "execution_count": 381,
   "id": "7520abfe-8fc8-414a-9a2c-b53abed5ef14",
   "metadata": {},
   "outputs": [
    {
     "name": "stdout",
     "output_type": "stream",
     "text": [
      "Requirement already satisfied: quandl in c:\\users\\tnh05\\anaconda3\\aco\\lib\\site-packages (3.7.0)Note: you may need to restart the kernel to use updated packages.\n",
      "\n",
      "Requirement already satisfied: pandas>=0.14 in c:\\users\\tnh05\\anaconda3\\aco\\lib\\site-packages (from quandl) (2.1.4)\n",
      "Requirement already satisfied: numpy>=1.8 in c:\\users\\tnh05\\anaconda3\\aco\\lib\\site-packages (from quandl) (1.26.4)\n",
      "Requirement already satisfied: requests>=2.7.0 in c:\\users\\tnh05\\anaconda3\\aco\\lib\\site-packages (from quandl) (2.31.0)\n",
      "Requirement already satisfied: inflection>=0.3.1 in c:\\users\\tnh05\\anaconda3\\aco\\lib\\site-packages (from quandl) (0.5.1)\n",
      "Requirement already satisfied: python-dateutil in c:\\users\\tnh05\\anaconda3\\aco\\lib\\site-packages (from quandl) (2.8.2)\n",
      "Requirement already satisfied: six in c:\\users\\tnh05\\anaconda3\\aco\\lib\\site-packages (from quandl) (1.16.0)\n",
      "Requirement already satisfied: more-itertools in c:\\users\\tnh05\\anaconda3\\aco\\lib\\site-packages (from quandl) (10.1.0)\n",
      "Requirement already satisfied: pytz>=2020.1 in c:\\users\\tnh05\\anaconda3\\aco\\lib\\site-packages (from pandas>=0.14->quandl) (2023.3.post1)\n",
      "Requirement already satisfied: tzdata>=2022.1 in c:\\users\\tnh05\\anaconda3\\aco\\lib\\site-packages (from pandas>=0.14->quandl) (2023.3)\n",
      "Requirement already satisfied: charset-normalizer<4,>=2 in c:\\users\\tnh05\\anaconda3\\aco\\lib\\site-packages (from requests>=2.7.0->quandl) (2.0.4)\n",
      "Requirement already satisfied: idna<4,>=2.5 in c:\\users\\tnh05\\anaconda3\\aco\\lib\\site-packages (from requests>=2.7.0->quandl) (3.4)\n",
      "Requirement already satisfied: urllib3<3,>=1.21.1 in c:\\users\\tnh05\\anaconda3\\aco\\lib\\site-packages (from requests>=2.7.0->quandl) (2.0.7)\n",
      "Requirement already satisfied: certifi>=2017.4.17 in c:\\users\\tnh05\\anaconda3\\aco\\lib\\site-packages (from requests>=2.7.0->quandl) (2024.7.4)\n"
     ]
    }
   ],
   "source": [
    "pip install quandl"
   ]
  },
  {
   "cell_type": "code",
   "execution_count": 383,
   "id": "69577fb7-5c43-445b-99ca-a1d9d3cc9e39",
   "metadata": {},
   "outputs": [],
   "source": [
    "import pandas as pd\n",
    "import quandl\n",
    "import numpy as np\n",
    "from numpy.random import seed\n",
    "from numpy.random import rand\n",
    "from numpy.random import randint"
   ]
  },
  {
   "cell_type": "markdown",
   "id": "15b7ea45-4916-42a4-9867-c7033e2795b1",
   "metadata": {},
   "source": [
    "## Section 1"
   ]
  },
  {
   "cell_type": "code",
   "execution_count": 386,
   "id": "3079f05e-1d90-4b68-afa9-cc15627bf357",
   "metadata": {},
   "outputs": [
    {
     "name": "stdout",
     "output_type": "stream",
     "text": [
      "Dataframe:\n",
      "                 Country  CountryID  Continent  Adolescent fertility rate (%)  \\\n",
      "0           Afghanistan          1          1                          151.0   \n",
      "1               Albania          2          2                           27.0   \n",
      "2               Algeria          3          3                            6.0   \n",
      "3               Andorra          4          2                            NaN   \n",
      "4                Angola          5          3                          146.0   \n",
      "..                  ...        ...        ...                            ...   \n",
      "197             Vietnam        198          6                           25.0   \n",
      "198  West Bank and Gaza        199          1                            NaN   \n",
      "199               Yemen        200          1                           83.0   \n",
      "200              Zambia        201          3                          161.0   \n",
      "201            Zimbabwe        202          3                          101.0   \n",
      "\n",
      "     Adult literacy rate (%)  \\\n",
      "0                       28.0   \n",
      "1                       98.7   \n",
      "2                       69.9   \n",
      "3                        NaN   \n",
      "4                       67.4   \n",
      "..                       ...   \n",
      "197                     90.3   \n",
      "198                      NaN   \n",
      "199                     54.1   \n",
      "200                     68.0   \n",
      "201                     89.5   \n",
      "\n",
      "     Gross national income per capita (PPP international $)  \\\n",
      "0                                                  NaN        \n",
      "1                                               6000.0        \n",
      "2                                               5940.0        \n",
      "3                                                  NaN        \n",
      "4                                               3890.0        \n",
      "..                                                 ...        \n",
      "197                                             2310.0        \n",
      "198                                                NaN        \n",
      "199                                             2090.0        \n",
      "200                                             1140.0        \n",
      "201                                                NaN        \n",
      "\n",
      "     Net primary school enrolment ratio female (%)  \\\n",
      "0                                              NaN   \n",
      "1                                             93.0   \n",
      "2                                             94.0   \n",
      "3                                             83.0   \n",
      "4                                             49.0   \n",
      "..                                             ...   \n",
      "197                                           91.0   \n",
      "198                                            NaN   \n",
      "199                                           65.0   \n",
      "200                                           94.0   \n",
      "201                                           88.0   \n",
      "\n",
      "     Net primary school enrolment ratio male (%)  \\\n",
      "0                                            NaN   \n",
      "1                                           94.0   \n",
      "2                                           96.0   \n",
      "3                                           83.0   \n",
      "4                                           51.0   \n",
      "..                                           ...   \n",
      "197                                         96.0   \n",
      "198                                          NaN   \n",
      "199                                         85.0   \n",
      "200                                         90.0   \n",
      "201                                         87.0   \n",
      "\n",
      "     Population (in thousands) total  \n",
      "0                            26088.0  \n",
      "1                             3172.0  \n",
      "2                            33351.0  \n",
      "3                               74.0  \n",
      "4                            16557.0  \n",
      "..                               ...  \n",
      "197                          86206.0  \n",
      "198                              NaN  \n",
      "199                          21732.0  \n",
      "200                          11696.0  \n",
      "201                          13228.0  \n",
      "\n",
      "[202 rows x 9 columns]\n"
     ]
    }
   ],
   "source": [
    "# Uploading and printing dataframe\n",
    "from pandas.io.parsers import read_csv\n",
    "df = read_csv(\"WHO_first9cols.csv\")\n",
    "print(\"Dataframe:\\n\", df)"
   ]
  },
  {
   "cell_type": "code",
   "execution_count": 388,
   "id": "214d2c95-d0ce-498c-b57d-57af3c5c4707",
   "metadata": {},
   "outputs": [
    {
     "name": "stdout",
     "output_type": "stream",
     "text": [
      "length of rows:  202\n"
     ]
    }
   ],
   "source": [
    "# Printing the number of rows from dataframe\n",
    "rows = len(df)\n",
    "print(\"length of rows: \", rows)"
   ]
  },
  {
   "cell_type": "code",
   "execution_count": 390,
   "id": "a8ff4621-02cf-44b6-ab28-85dbba279282",
   "metadata": {},
   "outputs": [
    {
     "name": "stdout",
     "output_type": "stream",
     "text": [
      "column headers: Index(['Country', 'CountryID', 'Continent', 'Adolescent fertility rate (%)',\n",
      "       'Adult literacy rate (%)',\n",
      "       'Gross national income per capita (PPP international $)',\n",
      "       'Net primary school enrolment ratio female (%)',\n",
      "       'Net primary school enrolment ratio male (%)',\n",
      "       'Population (in thousands) total'],\n",
      "      dtype='object')\n"
     ]
    }
   ],
   "source": [
    "# Printing the column headers from dataframe\n",
    "headers = df.columns\n",
    "print(\"column headers:\", headers)"
   ]
  },
  {
   "cell_type": "code",
   "execution_count": 392,
   "id": "b0952b49-45ef-4a88-a930-a117c8117f6a",
   "metadata": {},
   "outputs": [
    {
     "name": "stdout",
     "output_type": "stream",
     "text": [
      "RangeIndex(start=0, stop=202, step=1)\n"
     ]
    }
   ],
   "source": [
    "# Printing the index\n",
    "print(df.index)"
   ]
  },
  {
   "cell_type": "markdown",
   "id": "cabea349-73bb-4bd4-b2f2-131ed6acd90a",
   "metadata": {},
   "source": [
    "## Section 2"
   ]
  },
  {
   "cell_type": "code",
   "execution_count": 395,
   "id": "f5234df3-0611-4e6c-bc8e-f62ca4a29d53",
   "metadata": {},
   "outputs": [
    {
     "name": "stdout",
     "output_type": "stream",
     "text": [
      "object\n",
      "(202,)\n",
      "RangeIndex(start=0, stop=202, step=1)\n",
      "['Afghanistan' 'Albania' 'Algeria' 'Andorra' 'Angola'\n",
      " 'Antigua and Barbuda' 'Argentina' 'Armenia' 'Australia' 'Austria'\n",
      " 'Azerbaijan' 'Bahamas' 'Bahrain' 'Bangladesh' 'Barbados' 'Belarus'\n",
      " 'Belgium' 'Belize' 'Benin' 'Bermuda' 'Bhutan' 'Bolivia'\n",
      " 'Bosnia and Herzegovina' 'Botswana' 'Brazil' 'Brunei Darussalam'\n",
      " 'Bulgaria' 'Burkina Faso' 'Burundi' 'Cambodia' 'Cameroon' 'Canada'\n",
      " 'Cape Verde' 'Central African Republic' 'Chad' 'Chile' 'China' 'Colombia'\n",
      " 'Comoros' 'Congo, Dem. Rep.' 'Congo, Rep.' 'Cook Islands' 'Costa Rica'\n",
      " \"Cote d'Ivoire\" 'Croatia' 'Cuba' 'Cyprus' 'Czech Republic' 'Denmark'\n",
      " 'Djibouti' 'Dominica' 'Dominican Republic' 'Ecuador' 'Egypt'\n",
      " 'El Salvador' 'Equatorial Guinea' 'Eritrea' 'Estonia' 'Ethiopia' 'Fiji'\n",
      " 'Finland' 'France' 'French Polynesia' 'Gabon' 'Gambia' 'Georgia'\n",
      " 'Germany' 'Ghana' 'Greece' 'Grenada' 'Guatemala' 'Guinea' 'Guinea-Bissau'\n",
      " 'Guyana' 'Haiti' 'Honduras' 'Hong Kong, China' 'Hungary' 'Iceland'\n",
      " 'India' 'Indonesia' 'Iran (Islamic Republic of)' 'Iraq' 'Ireland'\n",
      " 'Israel' 'Italy' 'Jamaica' 'Japan' 'Jordan' 'Kazakhstan' 'Kenya'\n",
      " 'Kiribati' 'Korea, Dem. Rep.' 'Korea, Rep.' 'Kuwait' 'Kyrgyzstan'\n",
      " \"Lao People's Democratic Republic\" 'Latvia' 'Lebanon' 'Lesotho' 'Liberia'\n",
      " 'Libyan Arab Jamahiriya' 'Lithuania' 'Luxembourg' 'Macao, China'\n",
      " 'Macedonia' 'Madagascar' 'Malawi' 'Malaysia' 'Maldives' 'Mali' 'Malta'\n",
      " 'Marshall Islands' 'Mauritania' 'Mauritius' 'Mexico'\n",
      " 'Micronesia (Federated States of)' 'Moldova' 'Monaco' 'Mongolia'\n",
      " 'Montenegro' 'Morocco' 'Mozambique' 'Myanmar' 'Namibia' 'Nauru' 'Nepal'\n",
      " 'Netherlands' 'Netherlands Antilles' 'New Caledonia' 'New Zealand'\n",
      " 'Nicaragua' 'Niger' 'Nigeria' 'Niue' 'Norway' 'Oman' 'Pakistan' 'Palau'\n",
      " 'Panama' 'Papua New Guinea' 'Paraguay' 'Peru' 'Philippines' 'Poland'\n",
      " 'Portugal' 'Puerto Rico' 'Qatar' 'Romania' 'Russia' 'Rwanda'\n",
      " 'Saint Kitts and Nevis' 'Saint Lucia' 'Saint Vincent and the Grenadines'\n",
      " 'Samoa' 'San Marino' 'Sao Tome and Principe' 'Saudi Arabia' 'Senegal'\n",
      " 'Serbia' 'Seychelles' 'Sierra Leone' 'Singapore' 'Slovakia' 'Slovenia'\n",
      " 'Solomon Islands' 'Somalia' 'South Africa' 'Spain' 'Sri Lanka' 'Sudan'\n",
      " 'Suriname' 'Swaziland' 'Sweden' 'Switzerland' 'Syria' 'Taiwan'\n",
      " 'Tajikistan' 'Tanzania' 'Thailand' 'Timor-Leste' 'Togo' 'Tonga'\n",
      " 'Trinidad and Tobago' 'Tunisia' 'Turkey' 'Turkmenistan' 'Tuvalu' 'Uganda'\n",
      " 'Ukraine' 'United Arab Emirates' 'United Kingdom'\n",
      " 'United States of America' 'Uruguay' 'Uzbekistan' 'Vanuatu' 'Venezuela'\n",
      " 'Vietnam' 'West Bank and Gaza' 'Yemen' 'Zambia' 'Zimbabwe']\n"
     ]
    }
   ],
   "source": [
    "# Printing data tpye of the column Country\n",
    "print(df['Country'].dtypes)\n",
    "\n",
    "# Pinting its series shape\n",
    "print(pd.Series(df.Country).shape)\n",
    "\n",
    "# Printing its index\n",
    "print(df.Country.index)\n",
    "\n",
    "# Printing the values\n",
    "print(df.Country.values)\n"
   ]
  },
  {
   "cell_type": "markdown",
   "id": "a948f2fa-9a63-48bf-90cf-97d5f3f8d264",
   "metadata": {},
   "source": [
    "## Section 3"
   ]
  },
  {
   "cell_type": "code",
   "execution_count": 398,
   "id": "e755aecd-62e2-42ee-b643-976de6b9c029",
   "metadata": {},
   "outputs": [],
   "source": [
    "import quandl\n",
    "quandl.ApiConfig.api_key = 's4YsJzqszoSGeJMsHP6_'"
   ]
  },
  {
   "cell_type": "code",
   "execution_count": 439,
   "id": "d87ac44b-cfda-4c45-bb75-79c334a75c48",
   "metadata": {},
   "outputs": [],
   "source": [
    "import pandas as pd"
   ]
  },
  {
   "cell_type": "code",
   "execution_count": 441,
   "id": "09dfc6af-e534-4b91-bf46-4911e9ed65b9",
   "metadata": {},
   "outputs": [
    {
     "name": "stdout",
     "output_type": "stream",
     "text": [
      "           date  value\n",
      "None                  \n",
      "0    2024-01-25  81.98\n",
      "1    2024-01-24  81.05\n",
      "2    2024-01-23  81.30\n",
      "3    2024-01-22  79.70\n",
      "4    2024-01-19  80.27\n"
     ]
    }
   ],
   "source": [
    "# Loading data \n",
    "data = quandl.get_table(\"QDL/OPEC\")\n",
    "\n",
    "# Printing the first several rows of the dataframe\n",
    "print(data.head())"
   ]
  },
  {
   "cell_type": "code",
   "execution_count": 442,
   "id": "6638877b-a5cd-455a-9c49-c5046411a9e0",
   "metadata": {},
   "outputs": [
    {
     "name": "stdout",
     "output_type": "stream",
     "text": [
      "           date  value\n",
      "None                  \n",
      "5430 2003-01-08  28.86\n",
      "5431 2003-01-07  29.72\n",
      "5432 2003-01-06  30.71\n",
      "5433 2003-01-03  30.83\n",
      "5434 2003-01-02  30.05\n"
     ]
    }
   ],
   "source": [
    "# Printing the last several rows of the dataframe\n",
    "print(data.tail())"
   ]
  },
  {
   "cell_type": "code",
   "execution_count": 445,
   "id": "b122fb19-d68c-4799-b1dd-8cb5f995af45",
   "metadata": {},
   "outputs": [
    {
     "data": {
      "text/plain": [
       "date     datetime64[ns]\n",
       "value           float64\n",
       "dtype: object"
      ]
     },
     "execution_count": 445,
     "metadata": {},
     "output_type": "execute_result"
    }
   ],
   "source": [
    "data.dtypes"
   ]
  },
  {
   "cell_type": "code",
   "execution_count": 447,
   "id": "9b6ab456-3cee-43f7-bf4e-90b46a4c4d28",
   "metadata": {},
   "outputs": [
    {
     "name": "stdout",
     "output_type": "stream",
     "text": [
      "Last value: date     2003-01-02 00:00:00\n",
      "value                  30.05\n",
      "Name: 5434, dtype: object\n"
     ]
    }
   ],
   "source": [
    "# Get the last value (the last row in the dataframe)\n",
    "last_value = data.iloc[-1]\n",
    "print(\"Last value:\", last_value)"
   ]
  },
  {
   "cell_type": "code",
   "execution_count": 449,
   "id": "a5fa557c-bd38-4be5-8a69-73c69b8537ac",
   "metadata": {},
   "outputs": [],
   "source": [
    "# Set the \"date\" column as the index\n",
    "data.set_index(\"date\", inplace=True)"
   ]
  },
  {
   "cell_type": "code",
   "execution_count": 451,
   "id": "ae7e6ac7-f4cf-4488-b1c7-4350d301b66c",
   "metadata": {},
   "outputs": [
    {
     "name": "stdout",
     "output_type": "stream",
     "text": [
      "            value\n",
      "date             \n",
      "2024-01-25  81.98\n",
      "2024-01-24  81.05\n",
      "2024-01-23  81.30\n",
      "2024-01-22  79.70\n",
      "2024-01-19  80.27\n"
     ]
    }
   ],
   "source": [
    "print(data.head())"
   ]
  },
  {
   "cell_type": "code",
   "execution_count": 453,
   "id": "e5989e8d-69fc-490a-8383-bf5a7288654d",
   "metadata": {},
   "outputs": [],
   "source": [
    "data = data.sort_index()"
   ]
  },
  {
   "cell_type": "code",
   "execution_count": 455,
   "id": "ff561bce-ad13-4154-a067-988c0f985d80",
   "metadata": {},
   "outputs": [
    {
     "data": {
      "text/html": [
       "<div>\n",
       "<style scoped>\n",
       "    .dataframe tbody tr th:only-of-type {\n",
       "        vertical-align: middle;\n",
       "    }\n",
       "\n",
       "    .dataframe tbody tr th {\n",
       "        vertical-align: top;\n",
       "    }\n",
       "\n",
       "    .dataframe thead th {\n",
       "        text-align: right;\n",
       "    }\n",
       "</style>\n",
       "<table border=\"1\" class=\"dataframe\">\n",
       "  <thead>\n",
       "    <tr style=\"text-align: right;\">\n",
       "      <th></th>\n",
       "      <th>value</th>\n",
       "    </tr>\n",
       "    <tr>\n",
       "      <th>date</th>\n",
       "      <th></th>\n",
       "    </tr>\n",
       "  </thead>\n",
       "  <tbody>\n",
       "    <tr>\n",
       "      <th>2024-01-19</th>\n",
       "      <td>80.27</td>\n",
       "    </tr>\n",
       "    <tr>\n",
       "      <th>2024-01-22</th>\n",
       "      <td>79.70</td>\n",
       "    </tr>\n",
       "    <tr>\n",
       "      <th>2024-01-23</th>\n",
       "      <td>81.30</td>\n",
       "    </tr>\n",
       "    <tr>\n",
       "      <th>2024-01-24</th>\n",
       "      <td>81.05</td>\n",
       "    </tr>\n",
       "    <tr>\n",
       "      <th>2024-01-25</th>\n",
       "      <td>81.98</td>\n",
       "    </tr>\n",
       "  </tbody>\n",
       "</table>\n",
       "</div>"
      ],
      "text/plain": [
       "            value\n",
       "date             \n",
       "2024-01-19  80.27\n",
       "2024-01-22  79.70\n",
       "2024-01-23  81.30\n",
       "2024-01-24  81.05\n",
       "2024-01-25  81.98"
      ]
     },
     "execution_count": 455,
     "metadata": {},
     "output_type": "execute_result"
    }
   ],
   "source": [
    "data.tail()"
   ]
  },
  {
   "cell_type": "code",
   "execution_count": 457,
   "id": "b16c525f-3043-4208-8529-20f230304ee2",
   "metadata": {},
   "outputs": [
    {
     "name": "stdout",
     "output_type": "stream",
     "text": [
      "            value\n",
      "date             \n",
      "2003-01-02  30.05\n",
      "2003-01-03  30.83\n",
      "2003-01-06  30.71\n",
      "2003-01-07  29.72\n",
      "2003-01-08  28.86\n",
      "...           ...\n",
      "2023-12-22  81.23\n",
      "2023-12-26  80.71\n",
      "2023-12-27  81.82\n",
      "2023-12-28  80.31\n",
      "2023-12-29  78.44\n",
      "\n",
      "[5417 rows x 1 columns]\n"
     ]
    }
   ],
   "source": [
    "# Quering the correct date range\n",
    "data_query = data[\"2003-01-02\":\"2023-12-31\"]\n",
    "print(data_query)"
   ]
  },
  {
   "cell_type": "code",
   "execution_count": 459,
   "id": "c88fa905-9b2a-4942-85a7-e0e34846659e",
   "metadata": {},
   "outputs": [
    {
     "name": "stdout",
     "output_type": "stream",
     "text": [
      "Mean value: 69.90859797608097\n"
     ]
    }
   ],
   "source": [
    "# Query with a Boolean, where the number of observations is greater than the mean number of observations\n",
    "mean_value = data[\"value\"].mean()\n",
    "print(\"Mean value:\", mean_value)"
   ]
  },
  {
   "cell_type": "code",
   "execution_count": 461,
   "id": "41ac37bb-9f90-40cb-abb4-1f758b2a558f",
   "metadata": {},
   "outputs": [
    {
     "name": "stdout",
     "output_type": "stream",
     "text": [
      "            value\n",
      "date             \n",
      "2006-07-13  70.27\n",
      "2006-07-14  71.71\n",
      "2006-07-17  71.40\n",
      "2006-07-18  70.29\n",
      "2006-08-01  69.97\n",
      "...           ...\n",
      "2024-01-19  80.27\n",
      "2024-01-22  79.70\n",
      "2024-01-23  81.30\n",
      "2024-01-24  81.05\n",
      "2024-01-25  81.98\n",
      "\n",
      "[2513 rows x 1 columns]\n"
     ]
    }
   ],
   "source": [
    "# FIlter rows where the value is greater than the mean\n",
    "greater_than_mean = data[data[\"value\"] > mean_value]\n",
    "print(greater_than_mean)"
   ]
  },
  {
   "cell_type": "markdown",
   "id": "80a9f859-f084-40d1-8dd3-edd5460bc9ab",
   "metadata": {},
   "source": [
    "## Part 4"
   ]
  },
  {
   "cell_type": "code",
   "execution_count": 470,
   "id": "112ef135-4deb-46dc-abdb-697546317b24",
   "metadata": {},
   "outputs": [
    {
     "name": "stdout",
     "output_type": "stream",
     "text": [
      "           col1       col2\n",
      "count  5.000000   5.000000\n",
      "mean   3.000000  30.000000\n",
      "std    1.581139  15.811388\n",
      "min    1.000000  10.000000\n",
      "25%    2.000000  20.000000\n",
      "50%    3.000000  30.000000\n",
      "75%    4.000000  40.000000\n",
      "max    5.000000  50.000000\n"
     ]
    }
   ],
   "source": [
    "import pandas as pd\n",
    "\n",
    "# Convert your data into a DataFrame\n",
    "data = {'col1': [1, 2, 3, 4, 5], 'col2': [10, 20, 30, 40, 50]}\n",
    "df = pd.DataFrame(data)\n",
    "\n",
    "# Now you can use .describe()\n",
    "print(df.describe())"
   ]
  },
  {
   "cell_type": "code",
   "execution_count": 472,
   "id": "b6a97bad-33d4-450c-bc9c-d51d3fbe1548",
   "metadata": {},
   "outputs": [
    {
     "name": "stdout",
     "output_type": "stream",
     "text": [
      "           col1       col2\n",
      "count  5.000000   5.000000\n",
      "mean   3.000000  30.000000\n",
      "std    1.581139  15.811388\n",
      "min    1.000000  10.000000\n",
      "25%    2.000000  20.000000\n",
      "50%    3.000000  30.000000\n",
      "75%    4.000000  40.000000\n",
      "max    5.000000  50.000000 \n",
      "\n",
      "col1    5\n",
      "col2    5\n",
      "dtype: int64 \n",
      "\n"
     ]
    },
    {
     "ename": "AttributeError",
     "evalue": "'DataFrame' object has no attribute 'mad'",
     "output_type": "error",
     "traceback": [
      "\u001b[1;31m---------------------------------------------------------------------------\u001b[0m",
      "\u001b[1;31mAttributeError\u001b[0m                            Traceback (most recent call last)",
      "\u001b[1;32m~\\AppData\\Local\\Temp\\ipykernel_14276\\3868337538.py\u001b[0m in \u001b[0;36m?\u001b[1;34m()\u001b[0m\n\u001b[0;32m      1\u001b[0m \u001b[1;32mimport\u001b[0m \u001b[0mquandl\u001b[0m\u001b[1;33m\u001b[0m\u001b[1;33m\u001b[0m\u001b[0m\n\u001b[0;32m      2\u001b[0m \u001b[0mprint\u001b[0m\u001b[1;33m(\u001b[0m\u001b[0mdf\u001b[0m\u001b[1;33m.\u001b[0m\u001b[0mdescribe\u001b[0m\u001b[1;33m(\u001b[0m\u001b[1;33m)\u001b[0m\u001b[1;33m,\u001b[0m\u001b[1;34m'\\n'\u001b[0m\u001b[1;33m)\u001b[0m\u001b[1;33m\u001b[0m\u001b[1;33m\u001b[0m\u001b[0m\n\u001b[0;32m      3\u001b[0m \u001b[0mprint\u001b[0m\u001b[1;33m(\u001b[0m\u001b[0mdf\u001b[0m\u001b[1;33m.\u001b[0m\u001b[0mcount\u001b[0m\u001b[1;33m(\u001b[0m\u001b[1;33m)\u001b[0m\u001b[1;33m,\u001b[0m\u001b[1;34m'\\n'\u001b[0m\u001b[1;33m)\u001b[0m\u001b[1;33m\u001b[0m\u001b[1;33m\u001b[0m\u001b[0m\n\u001b[1;32m----> 4\u001b[1;33m \u001b[0mprint\u001b[0m\u001b[1;33m(\u001b[0m\u001b[0mdf\u001b[0m\u001b[1;33m.\u001b[0m\u001b[0mmad\u001b[0m\u001b[1;33m(\u001b[0m\u001b[1;33m)\u001b[0m\u001b[1;33m,\u001b[0m\u001b[1;34m'\\n'\u001b[0m\u001b[1;33m)\u001b[0m\u001b[1;33m\u001b[0m\u001b[1;33m\u001b[0m\u001b[0m\n\u001b[0m\u001b[0;32m      5\u001b[0m \u001b[0mprint\u001b[0m\u001b[1;33m(\u001b[0m\u001b[0mdf\u001b[0m\u001b[1;33m.\u001b[0m\u001b[0mmedian\u001b[0m\u001b[1;33m(\u001b[0m\u001b[1;33m)\u001b[0m\u001b[1;33m,\u001b[0m\u001b[1;34m'\\n'\u001b[0m\u001b[1;33m)\u001b[0m\u001b[1;33m\u001b[0m\u001b[1;33m\u001b[0m\u001b[0m\n\u001b[0;32m      6\u001b[0m \u001b[0mprint\u001b[0m\u001b[1;33m(\u001b[0m\u001b[0mdf\u001b[0m\u001b[1;33m.\u001b[0m\u001b[0mmin\u001b[0m\u001b[1;33m(\u001b[0m\u001b[1;33m)\u001b[0m\u001b[1;33m,\u001b[0m\u001b[1;34m'\\n'\u001b[0m\u001b[1;33m)\u001b[0m\u001b[1;33m\u001b[0m\u001b[1;33m\u001b[0m\u001b[0m\n\u001b[0;32m      7\u001b[0m \u001b[0mprint\u001b[0m\u001b[1;33m(\u001b[0m\u001b[0mdf\u001b[0m\u001b[1;33m.\u001b[0m\u001b[0mmax\u001b[0m\u001b[1;33m(\u001b[0m\u001b[1;33m)\u001b[0m\u001b[1;33m,\u001b[0m\u001b[1;34m'\\n'\u001b[0m\u001b[1;33m)\u001b[0m\u001b[1;33m\u001b[0m\u001b[1;33m\u001b[0m\u001b[0m\n",
      "\u001b[1;32m~\\anaconda3\\aco\\Lib\\site-packages\\pandas\\core\\generic.py\u001b[0m in \u001b[0;36m?\u001b[1;34m(self, name)\u001b[0m\n\u001b[0;32m   6200\u001b[0m             \u001b[1;32mand\u001b[0m \u001b[0mname\u001b[0m \u001b[1;32mnot\u001b[0m \u001b[1;32min\u001b[0m \u001b[0mself\u001b[0m\u001b[1;33m.\u001b[0m\u001b[0m_accessors\u001b[0m\u001b[1;33m\u001b[0m\u001b[1;33m\u001b[0m\u001b[0m\n\u001b[0;32m   6201\u001b[0m             \u001b[1;32mand\u001b[0m \u001b[0mself\u001b[0m\u001b[1;33m.\u001b[0m\u001b[0m_info_axis\u001b[0m\u001b[1;33m.\u001b[0m\u001b[0m_can_hold_identifiers_and_holds_name\u001b[0m\u001b[1;33m(\u001b[0m\u001b[0mname\u001b[0m\u001b[1;33m)\u001b[0m\u001b[1;33m\u001b[0m\u001b[1;33m\u001b[0m\u001b[0m\n\u001b[0;32m   6202\u001b[0m         ):\n\u001b[0;32m   6203\u001b[0m             \u001b[1;32mreturn\u001b[0m \u001b[0mself\u001b[0m\u001b[1;33m[\u001b[0m\u001b[0mname\u001b[0m\u001b[1;33m]\u001b[0m\u001b[1;33m\u001b[0m\u001b[1;33m\u001b[0m\u001b[0m\n\u001b[1;32m-> 6204\u001b[1;33m         \u001b[1;32mreturn\u001b[0m \u001b[0mobject\u001b[0m\u001b[1;33m.\u001b[0m\u001b[0m__getattribute__\u001b[0m\u001b[1;33m(\u001b[0m\u001b[0mself\u001b[0m\u001b[1;33m,\u001b[0m \u001b[0mname\u001b[0m\u001b[1;33m)\u001b[0m\u001b[1;33m\u001b[0m\u001b[1;33m\u001b[0m\u001b[0m\n\u001b[0m",
      "\u001b[1;31mAttributeError\u001b[0m: 'DataFrame' object has no attribute 'mad'"
     ]
    }
   ],
   "source": [
    "import quandl\n",
    "print(df.describe(),'\\n')\n",
    "print(df.count(),'\\n')\n",
    "print(df.mad(),'\\n')\n",
    "print(df.median(),'\\n')\n",
    "print(df.min(),'\\n')\n",
    "print(df.max(),'\\n')\n",
    "print(df.mode(),'\\n')\n",
    "print(df.std(),'\\n')\n",
    "print(df.var(),'\\n')\n",
    "print(df.skew(),'\\n')\n",
    "print(df.kurt(),'\\n')"
   ]
  },
  {
   "cell_type": "markdown",
   "id": "27183821-973e-496c-89de-f41c9c1032fc",
   "metadata": {},
   "source": [
    "# Help"
   ]
  },
  {
   "cell_type": "code",
   "execution_count": 509,
   "id": "1841df6e-a7f6-4bdc-8ec0-b0b35989d3d5",
   "metadata": {},
   "outputs": [
    {
     "name": "stdout",
     "output_type": "stream",
     "text": [
      "Mean Absolute Deviation: 1.2\n"
     ]
    }
   ],
   "source": [
    "import numpy as np\n",
    "\n",
    "# Defining data frame\n",
    "df = np.array([1, 2, 3, 4, 5])\n",
    "\n",
    "# Step 1: Calculate the mean of the data\n",
    "mean = df.mean()\n",
    "\n",
    "# Step 2: Calculate the absolute deviation from the mean\n",
    "absolute_deviation = np.abs(df - mean)\n",
    "\n",
    "# Step 3: Calculate the mean of the absolute deviations (MAD)\n",
    "mad = absolute_deviation.mean()\n",
    "\n",
    "print(f'Mean Absolute Deviation: {mad}')"
   ]
  },
  {
   "cell_type": "markdown",
   "id": "0e5b3d2b-f53c-4773-b97c-94bd90e17a3d",
   "metadata": {},
   "source": [
    "## Section 5"
   ]
  },
  {
   "cell_type": "code",
   "execution_count": 513,
   "id": "6692b218-4d41-475e-82f6-70a6973fcec7",
   "metadata": {},
   "outputs": [
    {
     "name": "stdout",
     "output_type": "stream",
     "text": [
      "  Weather    Food      Price  Number\n",
      "0     Hot   Salad  14.130691       5\n",
      "1    Cold  Burger   9.368809       4\n",
      "2     Hot  Burger  13.330199       8\n",
      "3     Hot  Burger  22.665605       8\n",
      "4     Hot  Burger  11.486900       7\n"
     ]
    }
   ],
   "source": [
    "import numpy as np\n",
    "import pandas as pd\n",
    "\n",
    "# Generate random data\n",
    "np.random.seed(42)\n",
    "data = {\n",
    "    'Weather': np.random.choice(['Hot', 'Cold'], size=100),\n",
    "    'Food': np.random.choice(['Pizza', 'Burger', 'Salad'], size=100),\n",
    "    'Price': np.random.uniform(5, 25, size=100), # Random prices between 5 and 25 dollars\n",
    "    'Number': np.random.randint(1, 10, size=100) # Random integer for number\n",
    "}\n",
    "df = pd.DataFrame(data)\n",
    "print(df.head())"
   ]
  },
  {
   "cell_type": "code",
   "execution_count": 519,
   "id": "c1010287-2e69-4d10-9fff-db79edc96553",
   "metadata": {},
   "outputs": [
    {
     "name": "stdout",
     "output_type": "stream",
     "text": [
      "Group: Cold\n",
      "First row:\n",
      " Weather        Cold\n",
      "Food         Burger\n",
      "Price      9.368809\n",
      "Number            4\n",
      "Name: 1, dtype: object\n",
      "Last row:\n",
      " Weather        Cold\n",
      "Food          Pizza\n",
      "Price      8.518505\n",
      "Number            3\n",
      "Name: 98, dtype: object\n",
      "Mean for Price and Number:\n",
      " Price     15.396534\n",
      "Number     4.482143\n",
      "dtype: float64\n",
      "\n",
      "\n",
      "Group: Hot\n",
      "First row:\n",
      " Weather          Hot\n",
      "Food           Salad\n",
      "Price      14.130691\n",
      "Number             5\n",
      "Name: 0, dtype: object\n",
      "Last row:\n",
      " Weather         Hot\n",
      "Food         Burger\n",
      "Price      5.361507\n",
      "Number            1\n",
      "Name: 99, dtype: object\n",
      "Mean for Price and Number:\n",
      " Price     15.122423\n",
      "Number     4.977273\n",
      "dtype: float64\n",
      "\n",
      "\n"
     ]
    }
   ],
   "source": [
    "weather_group = df.groupby('Weather')\n",
    "\n",
    "# Print first row, last row, and mean for each group\n",
    "for name, group in weather_group:\n",
    "    print(f\"Group: {name}\")\n",
    "    print(\"First row:\\n\", group.iloc[0])\n",
    "    print(\"Last row:\\n\", group.iloc[-1])\n",
    "    print(\"Mean for Price and Number:\\n\", group[['Price', 'Number']].mean())\n",
    "    print(\"\\n\")"
   ]
  },
  {
   "cell_type": "code",
   "execution_count": 521,
   "id": "ca80421c-ce90-4bea-93ec-474b39b37e60",
   "metadata": {},
   "outputs": [
    {
     "name": "stdout",
     "output_type": "stream",
     "text": [
      "\n",
      "Aggregated results for 'Weather' and 'Food' with mean and median:\n",
      "                   Number             Price           \n",
      "                    mean median       mean     median\n",
      "Weather Food                                         \n",
      "Cold    Burger  4.250000    4.0  13.303772  10.892848\n",
      "        Pizza   3.545455    3.0  14.580279  12.734906\n",
      "        Salad   5.545455    6.0  17.354295  18.882204\n",
      "Hot     Burger  4.785714    6.0  13.955085  14.013399\n",
      "        Pizza   5.384615    6.0  14.884638  13.955663\n",
      "        Salad   4.823529    5.0  16.265597  15.828959\n"
     ]
    }
   ],
   "source": [
    "weather_food_group = df.groupby(['Weather', 'Food'])\n",
    "\n",
    "# Applying aggregate functions: Mean and Median for 'Number' and 'Price'\n",
    "agg_result = weather_food_group.agg({\n",
    "    'Number': ['mean', 'median'],\n",
    "    'Price': ['mean', 'median']\n",
    "})\n",
    "\n",
    "print(\"\\nAggregated results for 'Weather' and 'Food' with mean and median:\\n\", agg_result)"
   ]
  },
  {
   "cell_type": "markdown",
   "id": "28b0884b-c804-47dc-b942-f8eebb11c141",
   "metadata": {},
   "source": [
    "## Section 6"
   ]
  },
  {
   "cell_type": "code",
   "execution_count": 523,
   "id": "874b460c-5cba-4e43-86a1-e2300942f0f8",
   "metadata": {},
   "outputs": [],
   "source": [
    "# Select first three rows\n",
    "first_three_rows = df.head(3)"
   ]
  },
  {
   "cell_type": "code",
   "execution_count": 525,
   "id": "0d278775-e2eb-46b0-a883-8b88379b410e",
   "metadata": {},
   "outputs": [
    {
     "name": "stdout",
     "output_type": "stream",
     "text": [
      "Concatenated DataFrame:\n",
      "     Weather    Food      Price  Number\n",
      "98     Cold   Pizza   8.518505       3\n",
      "99      Hot  Burger   5.361507       1\n",
      "100     Hot   Salad  14.130691       5\n",
      "101    Cold  Burger   9.368809       4\n",
      "102     Hot  Burger  13.330199       8\n",
      "\n",
      "Combined DataFrame (first three and last two rows):\n",
      "   Weather    Food      Price  Number\n",
      "0     Hot   Salad  14.130691       5\n",
      "1    Cold  Burger   9.368809       4\n",
      "2     Hot  Burger  13.330199       8\n",
      "3    Cold   Pizza   8.518505       3\n",
      "4     Hot  Burger   5.361507       1\n"
     ]
    }
   ],
   "source": [
    "# Concatatenate the first three rows with the original data frame\n",
    "df_concat = pd.concat([df, first_three_rows], ignore_index=True)\n",
    "print(\"Concatenated DataFrame:\\n\", df_concat.tail())\n",
    "\n",
    "# Concatatenate the first three rows and the last two rows together\n",
    "last_two_rows = df.tail(2)\n",
    "df_combined = pd.concat([first_three_rows, last_two_rows], ignore_index=True)\n",
    "print(\"\\nCombined DataFrame (first three and last two rows):\\n\", df_combined)"
   ]
  },
  {
   "cell_type": "code",
   "execution_count": null,
   "id": "6634f577-1270-436f-8456-12f3d85af817",
   "metadata": {},
   "outputs": [],
   "source": []
  },
  {
   "cell_type": "code",
   "execution_count": null,
   "id": "53bf102e-b7d5-4ed7-936a-67dc163fc92a",
   "metadata": {},
   "outputs": [],
   "source": []
  },
  {
   "cell_type": "code",
   "execution_count": null,
   "id": "3a3eecc5-fe1d-43ad-8a3c-c861e7f1090a",
   "metadata": {},
   "outputs": [],
   "source": []
  },
  {
   "cell_type": "code",
   "execution_count": null,
   "id": "170db683-e247-462f-80b1-82290d4d0727",
   "metadata": {},
   "outputs": [],
   "source": []
  },
  {
   "cell_type": "code",
   "execution_count": null,
   "id": "b1638753-3f56-44ca-986b-acb81daed18b",
   "metadata": {},
   "outputs": [],
   "source": []
  },
  {
   "cell_type": "code",
   "execution_count": null,
   "id": "4b141283-c7fa-4590-9d80-6b9a6c68cf9c",
   "metadata": {},
   "outputs": [],
   "source": []
  },
  {
   "cell_type": "code",
   "execution_count": null,
   "id": "3543b64c-750a-4604-bc07-1f44cf58375a",
   "metadata": {},
   "outputs": [],
   "source": []
  },
  {
   "cell_type": "code",
   "execution_count": 479,
   "id": "55a8c39e-f262-4373-ace9-12a80695a28e",
   "metadata": {},
   "outputs": [
    {
     "data": {
      "text/html": [
       "<div>\n",
       "<style scoped>\n",
       "    .dataframe tbody tr th:only-of-type {\n",
       "        vertical-align: middle;\n",
       "    }\n",
       "\n",
       "    .dataframe tbody tr th {\n",
       "        vertical-align: top;\n",
       "    }\n",
       "\n",
       "    .dataframe thead th {\n",
       "        text-align: right;\n",
       "    }\n",
       "</style>\n",
       "<table border=\"1\" class=\"dataframe\">\n",
       "  <thead>\n",
       "    <tr style=\"text-align: right;\">\n",
       "      <th></th>\n",
       "      <th>weather</th>\n",
       "      <th>food</th>\n",
       "      <th>price</th>\n",
       "      <th>number</th>\n",
       "    </tr>\n",
       "  </thead>\n",
       "  <tbody>\n",
       "    <tr>\n",
       "      <th>0</th>\n",
       "      <td>cold</td>\n",
       "      <td>soup</td>\n",
       "      <td>3.745401</td>\n",
       "      <td>8</td>\n",
       "    </tr>\n",
       "    <tr>\n",
       "      <th>1</th>\n",
       "      <td>hot</td>\n",
       "      <td>popsicle</td>\n",
       "      <td>9.507143</td>\n",
       "      <td>5</td>\n",
       "    </tr>\n",
       "    <tr>\n",
       "      <th>2</th>\n",
       "      <td>cold</td>\n",
       "      <td>steak</td>\n",
       "      <td>7.319939</td>\n",
       "      <td>4</td>\n",
       "    </tr>\n",
       "    <tr>\n",
       "      <th>3</th>\n",
       "      <td>hot</td>\n",
       "      <td>seafood</td>\n",
       "      <td>5.986585</td>\n",
       "      <td>8</td>\n",
       "    </tr>\n",
       "    <tr>\n",
       "      <th>4</th>\n",
       "      <td>cold</td>\n",
       "      <td>soup</td>\n",
       "      <td>1.560186</td>\n",
       "      <td>8</td>\n",
       "    </tr>\n",
       "    <tr>\n",
       "      <th>5</th>\n",
       "      <td>hot</td>\n",
       "      <td>steak</td>\n",
       "      <td>1.559945</td>\n",
       "      <td>3</td>\n",
       "    </tr>\n",
       "    <tr>\n",
       "      <th>6</th>\n",
       "      <td>cold</td>\n",
       "      <td>popsicle</td>\n",
       "      <td>0.580836</td>\n",
       "      <td>6</td>\n",
       "    </tr>\n",
       "  </tbody>\n",
       "</table>\n",
       "</div>"
      ],
      "text/plain": [
       "  weather      food     price  number\n",
       "0    cold      soup  3.745401       8\n",
       "1     hot  popsicle  9.507143       5\n",
       "2    cold     steak  7.319939       4\n",
       "3     hot   seafood  5.986585       8\n",
       "4    cold      soup  1.560186       8\n",
       "5     hot     steak  1.559945       3\n",
       "6    cold  popsicle  0.580836       6"
      ]
     },
     "execution_count": 479,
     "metadata": {},
     "output_type": "execute_result"
    }
   ],
   "source": [
    "# Combining two data frames to create \n",
    "pd.concat([dataFrame[:3], dataFrame[3:]])"
   ]
  },
  {
   "cell_type": "markdown",
   "id": "e204ba9f-2efe-4842-ba4a-d10deabde734",
   "metadata": {},
   "source": [
    "## Section 7"
   ]
  },
  {
   "cell_type": "code",
   "execution_count": 485,
   "id": "ceb01d81-4479-469d-a2ce-6c6694ecbc12",
   "metadata": {},
   "outputs": [
    {
     "name": "stdout",
     "output_type": "stream",
     "text": [
      "   EmpNr       Dest  Amount\n",
      "0      5  The Hague    10.0\n",
      "1      9  Rotterdam     5.0\n"
     ]
    }
   ],
   "source": [
    "# Reading in the data\n",
    "dests = pd.read_csv('dest.csv')\n",
    "tips = pd.read_csv('tips.csv')\n",
    "\n",
    "# Applying a merge to each data set\n",
    "new_set = pd.merge(dests, tips, on='EmpNr')\n",
    "print(new_set) # Printing the new set"
   ]
  },
  {
   "cell_type": "code",
   "execution_count": 487,
   "id": "9f8bb31b-60e8-4fe2-8b5e-f1521b2dd8bf",
   "metadata": {},
   "outputs": [
    {
     "name": "stdout",
     "output_type": "stream",
     "text": [
      "   EmpNrDest       Dest  EmpNrtips  Amount\n",
      "0          5  The Hague          5    10.0\n",
      "1          3  Amsterdam          9     5.0\n",
      "2          9  Rotterdam          7     2.5\n"
     ]
    }
   ],
   "source": [
    "# Applying a join to each data set\n",
    "new_set2 = dests.join(tips, lsuffix='Dest', rsuffix='tips')\n",
    "print(new_set2) "
   ]
  },
  {
   "cell_type": "markdown",
   "id": "7171afc5-5dec-4afb-8574-cd78dcf33142",
   "metadata": {},
   "source": [
    "## Section 8"
   ]
  },
  {
   "cell_type": "code",
   "execution_count": 489,
   "id": "84836aa7-cb37-44be-96d8-7687411b4818",
   "metadata": {},
   "outputs": [
    {
     "name": "stdout",
     "output_type": "stream",
     "text": [
      "New df\n",
      "        Country  Net primary school enrolment ratio male (%)\n",
      "0  Afghanistan                                          NaN\n",
      "1      Albania                                         94.0\n",
      "Null Values\n",
      "    Country  Net primary school enrolment ratio male (%)\n",
      "0    False                                         True\n",
      "1    False                                        False\n",
      "Total Null Values\n",
      " Country                                        0\n",
      "Net primary school enrolment ratio male (%)    1\n",
      "dtype: int64\n",
      "Not Null Values\n",
      "    Country  Net primary school enrolment ratio male (%)\n",
      "0     True                                        False\n",
      "1     True                                         True\n",
      "Last Column Doubled\n",
      " 0      NaN\n",
      "1    188.0\n",
      "Name: Net primary school enrolment ratio male (%), dtype: float64\n",
      "Last Column plus NaN\n",
      " 0   NaN\n",
      "1   NaN\n",
      "Name: Net primary school enrolment ratio male (%), dtype: float64\n",
      "Zero filled\n",
      "        Country  Net primary school enrolment ratio male (%)\n",
      "0  Afghanistan                                          0.0\n",
      "1      Albania                                         94.0\n"
     ]
    }
   ],
   "source": [
    "df = pd.read_csv('WHO_first9cols.csv')\n",
    "# Selecting the first three rows of the who data, including the headers for these two columns: Country & Net primary school enrolment ratio male (%)\n",
    "df = df[['Country', df.columns[-2]]][:2]\n",
    "\n",
    "# Check for missing values, count the number of NaN values, print any non-missing values, and replace the missing values with a scalar value\n",
    "print(\"New df\\n\", df)\n",
    "print(\"Null Values\\n\", pd.isnull(df))\n",
    "print(\"Total Null Values\\n\", pd.isnull(df).sum())\n",
    "print(\"Not Null Values\\n\", df.notnull())\n",
    "print(\"Last Column Doubled\\n\", 2 * df[df.columns[-1]])\n",
    "print(\"Last Column plus NaN\\n\", df[df.columns[-1]] + np.nan)\n",
    "print(\"Zero filled\\n\", df.fillna(0))"
   ]
  },
  {
   "cell_type": "markdown",
   "id": "293e4fb3-30d2-494e-b098-5afb7d0e5f8b",
   "metadata": {},
   "source": [
    "#### Cite:\n",
    "#### Title: 4.2 Exercise\n",
    "#### Author: Armando Fandago\n",
    "#### Date: 10/09/2024\n",
    "#### Modified By: Isis Lara\n",
    "#### Description: Follow along code snippets in required reading"
   ]
  }
 ],
 "metadata": {
  "kernelspec": {
   "display_name": "Python 3 (ipykernel)",
   "language": "python",
   "name": "python3"
  },
  "language_info": {
   "codemirror_mode": {
    "name": "ipython",
    "version": 3
   },
   "file_extension": ".py",
   "mimetype": "text/x-python",
   "name": "python",
   "nbconvert_exporter": "python",
   "pygments_lexer": "ipython3",
   "version": "3.11.7"
  }
 },
 "nbformat": 4,
 "nbformat_minor": 5
}
