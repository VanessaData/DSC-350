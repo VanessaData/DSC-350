{
 "cells": [
  {
   "cell_type": "markdown",
   "id": "19c946f2-2f92-4f1e-8a87-56d933d24121",
   "metadata": {},
   "source": [
    "# Vanessa Williams\n",
    "# Week 11"
   ]
  },
  {
   "cell_type": "markdown",
   "id": "9312f0d0-0e17-4fb9-b514-d6efa5e6ede4",
   "metadata": {},
   "source": [
    "# Section 1  \n",
    "-Import sqlite3 and create a cursor  \n",
    "-Create the sensors table (pg 180)  \n",
    "-Write a query to confirm your table was created – print the results  \n",
    "-Insert random data into the table you created and then select all the results from the table (Select *)  \n",
    "-Drop the table and confirm it has been dropped based on your previous query  \n",
    "-Close your connection  "
   ]
  },
  {
   "cell_type": "code",
   "execution_count": 1,
   "id": "f919e9d3-4a23-490b-b181-3f3b5df02493",
   "metadata": {},
   "outputs": [
    {
     "name": "stdout",
     "output_type": "stream",
     "text": [
      "Table sensors\n",
      "('2024-07-11', 'Utrecht', 'Green', 42.0, 15.14)\n",
      "# of tables 0\n"
     ]
    }
   ],
   "source": [
    "import sqlite3\n",
    "\n",
    "#creating sensors table with five columns\n",
    "with sqlite3.connect(\":memory:\") as con:\n",
    "    c = con.cursor()\n",
    "    c.execute('''CREATE TABLE sensors (date text, city text, code text, sensor_id real, temperature real)''')\n",
    "#listing the sql table\n",
    "    for table in c.execute(\"SELECT name FROM sqlite_master WHERE type = 'table'\"):\n",
    "        print(\"Table\", table[0])\n",
    "#inserting random data\n",
    "    c.execute(\"INSERT INTO sensors VALUES ('2024-07-11','Utrecht','Green',42,15.14)\")\n",
    "    c.execute(\"SELECT * FROM sensors\")\n",
    "    print(c.fetchone())\n",
    "#dropping the table\n",
    "    con.execute(\"DROP TABLE sensors\")\n",
    "\n",
    "    print(\"# of tables\", c.execute(\"SELECT COUNT(*) FROM sqlite_master WHERE type = 'table'\").fetchone()[0])\n",
    "\n",
    "    c.close()"
   ]
  },
  {
   "cell_type": "markdown",
   "id": "7ad12276-8409-4a3e-b981-33070f5f9c2c",
   "metadata": {},
   "source": [
    "# Section 2\n",
    "-Create a list of tuples to form the pandas DataFrame  \n",
    "-Create a table without specifying data types  \n",
    "-Insert records from a list of tuples – insert all the rows into the table and show the row count  \n",
    "-Delete the records where the sunactivity is greater than 20  \n",
    "-Write a query to select all data where the year is less than 1732  "
   ]
  },
  {
   "cell_type": "code",
   "execution_count": 2,
   "id": "4a8f4cfd-d232-4d39-9079-9af21ec7e95c",
   "metadata": {},
   "outputs": [
    {
     "name": "stdout",
     "output_type": "stream",
     "text": [
      "(309,)\n",
      "Deleted 217 rows\n",
      "      year  sunactivity\n",
      "0   1700.0          5.0\n",
      "1   1701.0         11.0\n",
      "2   1702.0         16.0\n",
      "3   1707.0         20.0\n",
      "4   1708.0         10.0\n",
      "5   1709.0          8.0\n",
      "6   1710.0          3.0\n",
      "7   1711.0          0.0\n",
      "8   1712.0          0.0\n",
      "9   1713.0          2.0\n",
      "10  1714.0         11.0\n",
      "11  1723.0         11.0\n"
     ]
    }
   ],
   "source": [
    "import statsmodels.api as sm\n",
    "from pandas.io.sql import read_sql\n",
    "import sqlite3\n",
    "\n",
    "#create an in-memory SQLite database connection\n",
    "with sqlite3.connect(\":memory:\") as con:\n",
    "    c = con.cursor()\n",
    "#load sunspot data using the statsmodels library\n",
    "    data_loader = sm.datasets.sunspots.load_pandas()\n",
    "    df = data_loader.data\n",
    "#convert to list of tuples\n",
    "    rows = [tuple(x) for x in df.values]\n",
    "#Create table with two columns\n",
    "    con.execute(\"CREATE TABLE sunspots(year, sunactivity)\")\n",
    "#insert the data\n",
    "    con.executemany(\"INSERT INTO sunspots(year, sunactivity) VALUES (?, ?)\", rows)\n",
    "    c.execute(\"SELECT COUNT(*) FROM sunspots\")\n",
    "    print(c.fetchone())\n",
    "#drop sunactivity greater than 20\n",
    "    print(\"Deleted\", con.execute(\"DELETE FROM sunspots where sunactivity > 20\").rowcount, \"rows\")\n",
    "#print data for years before 1732\n",
    "    print(read_sql(\"SELECT * FROM sunspots where year < 1732\", con))   \n",
    "#drop the table and close the cursor\n",
    "    con.execute(\"DROP TABLE sunspots\")\n",
    "    c.close()"
   ]
  },
  {
   "cell_type": "markdown",
   "id": "de4288fc-a86b-420c-92b0-50e37bf370ba",
   "metadata": {},
   "source": [
    "# Section 3\n",
    "-Install sqlalchemy  \n",
    "-Define the superclass  \n",
    "-Create the DBSession  \n",
    "-Create 2 stations and commit the session  \n",
    "-Insert a sensor record  "
   ]
  },
  {
   "cell_type": "code",
   "execution_count": 8,
   "id": "f2dd8616-05f3-4809-bb12-3197575235bd",
   "metadata": {},
   "outputs": [
    {
     "name": "stdout",
     "output_type": "stream",
     "text": [
      "Requirement already satisfied: sqlalchemy in c:\\users\\isisv\\anaconda3\\lib\\site-packages (1.4.39)\n",
      "Requirement already satisfied: greenlet!=0.4.17 in c:\\users\\isisv\\anaconda3\\lib\\site-packages (from sqlalchemy) (1.1.1)\n",
      "Note: you may need to restart the kernel to use updated packages.\n"
     ]
    }
   ],
   "source": [
    "pip install sqlalchemy"
   ]
  },
  {
   "cell_type": "code",
   "execution_count": 3,
   "id": "e9b250ab-a8ef-4ee9-8089-834b7b8102e5",
   "metadata": {},
   "outputs": [
    {
     "name": "stdout",
     "output_type": "stream",
     "text": [
      "This script is used by code further down in this notebook.\n"
     ]
    }
   ],
   "source": [
    "from sqlalchemy import Column, ForeignKey, Integer, String, Float\n",
    "from sqlalchemy.ext.declarative import declarative_base\n",
    "from sqlalchemy.orm import relationship\n",
    "from sqlalchemy import create_engine\n",
    "from sqlalchemy import UniqueConstraint\n",
    "\n",
    "#define superclass\n",
    "Base = declarative_base()\n",
    "#create station class for station table\n",
    "class Station(Base):\n",
    "    __tablename__ = 'station'\n",
    "    id = Column(Integer, primary_key=True)\n",
    "    name = Column(String(14), nullable=False, unique=True)\n",
    "\n",
    "    def __repr__(self):\n",
    "        return \"Id=%d name=%s\" %(self.id, self.name)\n",
    "    \n",
    "#create sensor class for sensor table\n",
    "class Sensor(Base):\n",
    "    __tablename__ = 'sensor'\n",
    "    id = Column(Integer, primary_key=True)\n",
    "    last = Column(Integer)\n",
    "    multiplier = Column(Float)\n",
    "    station_id = Column(Integer, ForeignKey('station.id'))\n",
    "    station = relationship(Station)\n",
    "\n",
    "    def __repr__(self):\n",
    "        return \"Id=%d last=%d multiplier=%.1f station_id=%d\" \n",
    "# %(self.id, self.last, self.multiplier, self.station_id)\n",
    "\n",
    "#define main block to represent this script to be used with other code\n",
    "if __name__ == \"__main__\":\n",
    "    print(\"This script is used by code further down in this notebook.\")"
   ]
  },
  {
   "cell_type": "markdown",
   "id": "2eedb910-e661-4183-9087-2b1fa1df954b",
   "metadata": {},
   "source": [
    "# Section 4\n",
    "-Create an engine from a URI  \n",
    "-Create the station and sensor tables with the engine we just created  \n",
    "-Create a DBSession object  \n",
    "-Select the first row in the station table  \n",
    "-Select all the stations  \n",
    "-Select all the sensors  \n",
    "-Select the first sensor, which belongs to the first station  \n",
    "-Query the station table with pandas read_sql()  "
   ]
  },
  {
   "cell_type": "code",
   "execution_count": 6,
   "id": "2b978255-9f9b-4c6b-8b98-70185462300e",
   "metadata": {},
   "outputs": [
    {
     "name": "stdout",
     "output_type": "stream",
     "text": [
      "This script is used by code further down in this notebook\n"
     ]
    }
   ],
   "source": [
    "from sqlalchemy.orm import sessionmaker\n",
    "\n",
    "#creat dbsesssion object\n",
    "def populate(engine):\n",
    "    Base.metadata.bind = engine\n",
    "    DBSession = sessionmaker(bind=engine)\n",
    "    session = DBSession()\n",
    "\n",
    "    # Check if 'De Bilt' station exists, if not, add it\n",
    "    de_bilt = session.query(Station).filter_by(name='De Bilt').first()\n",
    "    if not de_bilt:\n",
    "        de_bilt = Station(name='De Bilt')\n",
    "        session.add(de_bilt)\n",
    "        print(\"Added Station\", de_bilt)\n",
    "\n",
    "    # Check if 'Utrecht' station exists, if not, add it\n",
    "    utrecht = session.query(Station).filter_by(name='Utrecht').first()\n",
    "    if not utrecht:\n",
    "        utrecht = Station(name='Utrecht')\n",
    "        session.add(utrecht)\n",
    "        print(\"Added Station\", utrecht)\n",
    "\n",
    "    session.commit()\n",
    "\n",
    "    # Check if sensor exists, if not, add it\n",
    "    sensor = session.query(Sensor).filter_by(station=de_bilt).first()\n",
    "    if not sensor:\n",
    "        temp_sensor = Sensor(last=20, multiplier=0.1, station=de_bilt)\n",
    "        session.add(temp_sensor)\n",
    "        session.commit()\n",
    "        print(\"Added Sensor\", temp_sensor)\n",
    "#define main block to represent this script to be used with other code\n",
    "if __name__ == \"__main__\":\n",
    "    print(\"This script is used by code further down in this notebook\")"
   ]
  },
  {
   "cell_type": "code",
   "execution_count": 8,
   "id": "dbb9c12e-6c00-4bf9-9369-d0ad45b15440",
   "metadata": {},
   "outputs": [
    {
     "name": "stdout",
     "output_type": "stream",
     "text": [
      "Query 1 [Id=1 name=De Bilt, Id=2 name=Utrecht]\n",
      "Query 2 [Id=%d last=%d multiplier=%.1f station_id=%d]\n",
      "Query 3 Id=%d last=%d multiplier=%.1f station_id=%d\n",
      "   id     name\n",
      "0   1  De Bilt\n",
      "1   2  Utrecht\n"
     ]
    }
   ],
   "source": [
    "import os\n",
    "import pandas as pd\n",
    "from pandas.io.sql import read_sql\n",
    "\n",
    "#create engine\n",
    "engine = create_engine('sqlite:///demo.db')\n",
    "#create all tables defined in base metadata\n",
    "Base.metadata.create_all(engine)\n",
    "#call function to add data to the dataset\n",
    "populate(engine)\n",
    "#bind the engine to the base metadata\n",
    "Base.metadata.bind = engine\n",
    "#create session factory and bind it to the engine\n",
    "DBSession = sessionmaker()\n",
    "DBSession.bind = engine\n",
    "#create the session object\n",
    "session = DBSession()\n",
    "\n",
    "station = session.query(Station).first()\n",
    "#Query the data\n",
    "print(\"Query 1\", session.query(Station).all())\n",
    "print(\"Query 2\", session.query(Sensor).all())\n",
    "print(\"Query 3\", session.query(Sensor).filter(Sensor.station == station).one())\n",
    "\n",
    "# Use the engine directly with pandas read_sql\n",
    "print(pd.read_sql(\"SELECT * FROM station\", engine))\n",
    "\n",
    "try:\n",
    "    os.remove('demo.db')\n",
    "    print(\"Deleted demo.db\")\n",
    "except OSError:\n",
    "    pass"
   ]
  },
  {
   "cell_type": "markdown",
   "id": "0a5014ef-f150-41d5-9efe-0a1d9942ede7",
   "metadata": {},
   "source": [
    "Code Attribution:  \n",
    "Title: 11.2 Exercise  \n",
    "Author: Armando Fandango  \n",
    "Date: 07/11/2024  \n",
    "Modified By: Vanessa Williams  \n",
    "Description: Databases"
   ]
  },
  {
   "cell_type": "code",
   "execution_count": null,
   "id": "e9a2a67e-aedd-449c-9d85-508015f71cd4",
   "metadata": {},
   "outputs": [],
   "source": []
  }
 ],
 "metadata": {
  "kernelspec": {
   "display_name": "Python 3 (ipykernel)",
   "language": "python",
   "name": "python3"
  },
  "language_info": {
   "codemirror_mode": {
    "name": "ipython",
    "version": 3
   },
   "file_extension": ".py",
   "mimetype": "text/x-python",
   "name": "python",
   "nbconvert_exporter": "python",
   "pygments_lexer": "ipython3",
   "version": "3.11.7"
  }
 },
 "nbformat": 4,
 "nbformat_minor": 5
}
