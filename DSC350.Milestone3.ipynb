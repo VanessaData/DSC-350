{
 "cells": [
  {
   "cell_type": "markdown",
   "id": "00355599-f40b-4e98-9690-aeee99fcb868",
   "metadata": {},
   "source": [
    "# Vanessa Williams\n",
    "# Milestone 3"
   ]
  },
  {
   "cell_type": "markdown",
   "id": "03aec373-2d45-4393-aba7-eaff3338d8ca",
   "metadata": {},
   "source": [
    "## Cleaning data from an API"
   ]
  },
  {
   "cell_type": "code",
   "execution_count": 103,
   "id": "a8d7af23-b2e2-49c1-8dc5-1c5c9fe7d49d",
   "metadata": {},
   "outputs": [
    {
     "name": "stdout",
     "output_type": "stream",
     "text": [
      "Requirement already satisfied: requests in c:\\users\\tnh05\\anaconda3\\aco\\lib\\site-packages (2.31.0)\n",
      "Requirement already satisfied: pandas in c:\\users\\tnh05\\anaconda3\\aco\\lib\\site-packages (1.5.3)\n",
      "Requirement already satisfied: charset-normalizer<4,>=2 in c:\\users\\tnh05\\anaconda3\\aco\\lib\\site-packages (from requests) (2.0.4)\n",
      "Requirement already satisfied: idna<4,>=2.5 in c:\\users\\tnh05\\anaconda3\\aco\\lib\\site-packages (from requests) (3.4)\n",
      "Requirement already satisfied: urllib3<3,>=1.21.1 in c:\\users\\tnh05\\anaconda3\\aco\\lib\\site-packages (from requests) (2.0.7)\n",
      "Requirement already satisfied: certifi>=2017.4.17 in c:\\users\\tnh05\\anaconda3\\aco\\lib\\site-packages (from requests) (2024.8.30)\n",
      "Requirement already satisfied: python-dateutil>=2.8.1 in c:\\users\\tnh05\\anaconda3\\aco\\lib\\site-packages (from pandas) (2.8.2)\n",
      "Requirement already satisfied: pytz>=2020.1 in c:\\users\\tnh05\\anaconda3\\aco\\lib\\site-packages (from pandas) (2023.3.post1)\n",
      "Requirement already satisfied: numpy>=1.21.0 in c:\\users\\tnh05\\anaconda3\\aco\\lib\\site-packages (from pandas) (1.26.4)\n",
      "Requirement already satisfied: six>=1.5 in c:\\users\\tnh05\\anaconda3\\aco\\lib\\site-packages (from python-dateutil>=2.8.1->pandas) (1.16.0)\n"
     ]
    }
   ],
   "source": [
    "!pip install requests pandas"
   ]
  },
  {
   "cell_type": "code",
   "execution_count": 104,
   "id": "ece26317-cca5-49e9-bd23-53bcc16b8e5d",
   "metadata": {},
   "outputs": [],
   "source": [
    "import requests\n",
    "import pandas as pd"
   ]
  },
  {
   "cell_type": "code",
   "execution_count": 21,
   "id": "67641c6b-3ace-4be9-a6d8-2977ab81d027",
   "metadata": {},
   "outputs": [
    {
     "name": "stdout",
     "output_type": "stream",
     "text": [
      "[{'team': {'id': '22', 'uid': 's:20~l:28~t:22', 'slug': 'arizona-cardinals', 'abbreviation': 'ARI', 'displayName': 'Arizona Cardinals', 'shortDisplayName': 'Cardinals', 'name': 'Cardinals', 'nickname': 'Cardinals', 'location': 'Arizona', 'color': 'a40227', 'alternateColor': 'ffffff', 'isActive': True, 'isAllStar': False, 'logos': [{'href': 'https://a.espncdn.com/i/teamlogos/nfl/500/ari.png', 'alt': '', 'rel': ['full', 'default'], 'width': 500, 'height': 500}, {'href': 'https://a.espncdn.com/i/teamlogos/nfl/500-dark/ari.png', 'alt': '', 'rel': ['full', 'dark'], 'width': 500, 'height': 500}, {'href': 'https://a.espncdn.com/i/teamlogos/nfl/500/scoreboard/ari.png', 'alt': '', 'rel': ['full', 'scoreboard'], 'width': 500, 'height': 500}, {'href': 'https://a.espncdn.com/i/teamlogos/nfl/500-dark/scoreboard/ari.png', 'alt': '', 'rel': ['full', 'scoreboard', 'dark'], 'width': 500, 'height': 500}], 'links': [{'language': 'en-US', 'rel': ['clubhouse', 'desktop', 'team'], 'href': 'https://www.espn.com/nfl/team/_/name/ari/arizona-cardinals', 'text': 'Clubhouse', 'shortText': 'Clubhouse', 'isExternal': False, 'isPremium': False, 'isHidden': False}, {'language': 'en-US', 'rel': ['roster', 'desktop', 'team'], 'href': 'https://www.espn.com/nfl/team/roster/_/name/ari/arizona-cardinals', 'text': 'Roster', 'shortText': 'Roster', 'isExternal': False, 'isPremium': False, 'isHidden': False}, {'language': 'en-US', 'rel': ['stats', 'desktop', 'team'], 'href': 'https://www.espn.com/nfl/team/stats/_/name/ari/arizona-cardinals', 'text': 'Statistics', 'shortText': 'Statistics', 'isExternal': False, 'isPremium': False, 'isHidden': False}, {'language': 'en-US', 'rel': ['schedule', 'desktop', 'team'], 'href': 'https://www.espn.com/nfl/team/schedule/_/name/ari', 'text': 'Schedule', 'shortText': 'Schedule', 'isExternal': False, 'isPremium': False, 'isHidden': False}, {'language': 'en-US', 'rel': ['tickets', 'desktop', 'team'], 'href': 'https://www.vividseats.com/arizona-cardinals-tickets--sports-nfl-football/performer/40?wsUser=717', 'text': 'Tickets', 'shortText': 'Tickets', 'isExternal': True, 'isPremium': False, 'isHidden': False}, {'language': 'en-US', 'rel': ['depthchart', 'desktop', 'team'], 'href': 'https://www.espn.com/nfl/team/depth/_/name/ari', 'text': 'Depth Chart', 'shortText': 'Depth Chart', 'isExternal': False, 'isPremium': False, 'isHidden': False}]}}, {'team': {'id': '1', 'uid': 's:20~l:28~t:1', 'slug': 'atlanta-falcons', 'abbreviation': 'ATL', 'displayName': 'Atlanta Falcons', 'shortDisplayName': 'Falcons', 'name': 'Falcons', 'nickname': 'Falcons', 'location': 'Atlanta', 'color': 'a71930', 'alternateColor': '000000', 'isActive': True, 'isAllStar': False, 'logos': [{'href': 'https://a.espncdn.com/i/teamlogos/nfl/500/atl.png', 'alt': '', 'rel': ['full', 'default'], 'width': 500, 'height': 500}, {'href': 'https://a.espncdn.com/i/teamlogos/nfl/500-dark/atl.png', 'alt': '', 'rel': ['full', 'dark'], 'width': 500, 'height': 500}, {'href': 'https://a.espncdn.com/i/teamlogos/nfl/500/scoreboard/atl.png', 'alt': '', 'rel': ['full', 'scoreboard'], 'width': 500, 'height': 500}, {'href': 'https://a.espncdn.com/i/teamlogos/nfl/500-dark/scoreboard/atl.png', 'alt': '', 'rel': ['full', 'scoreboard', 'dark'], 'width': 500, 'height': 500}], 'links': [{'language': 'en-US', 'rel': ['clubhouse', 'desktop', 'team'], 'href': 'https://www.espn.com/nfl/team/_/name/atl/atlanta-falcons', 'text': 'Clubhouse', 'shortText': 'Clubhouse', 'isExternal': False, 'isPremium': False, 'isHidden': False}, {'language': 'en-US', 'rel': ['roster', 'desktop', 'team'], 'href': 'https://www.espn.com/nfl/team/roster/_/name/atl/atlanta-falcons', 'text': 'Roster', 'shortText': 'Roster', 'isExternal': False, 'isPremium': False, 'isHidden': False}, {'language': 'en-US', 'rel': ['stats', 'desktop', 'team'], 'href': 'https://www.espn.com/nfl/team/stats/_/name/atl/atlanta-falcons', 'text': 'Statistics', 'shortText': 'Statistics', 'isExternal': False, 'isPremium': False, 'isHidden': False}, {'language': 'en-US', 'rel': ['schedule', 'desktop', 'team'], 'href': 'https://www.espn.com/nfl/team/schedule/_/name/atl', 'text': 'Schedule', 'shortText': 'Schedule', 'isExternal': False, 'isPremium': False, 'isHidden': False}, {'language': 'en-US', 'rel': ['tickets', 'desktop', 'team'], 'href': 'https://www.vividseats.com/atlanta-falcons-tickets--sports-nfl-football/performer/51?wsUser=717', 'text': 'Tickets', 'shortText': 'Tickets', 'isExternal': True, 'isPremium': False, 'isHidden': False}, {'language': 'en-US', 'rel': ['depthchart', 'desktop', 'team'], 'href': 'https://www.espn.com/nfl/team/depth/_/name/atl', 'text': 'Depth Chart', 'shortText': 'Depth Chart', 'isExternal': False, 'isPremium': False, 'isHidden': False}]}}, {'team': {'id': '33', 'uid': 's:20~l:28~t:33', 'slug': 'baltimore-ravens', 'abbreviation': 'BAL', 'displayName': 'Baltimore Ravens', 'shortDisplayName': 'Ravens', 'name': 'Ravens', 'nickname': 'Ravens', 'location': 'Baltimore', 'color': '29126f', 'alternateColor': '000000', 'isActive': True, 'isAllStar': False, 'logos': [{'href': 'https://a.espncdn.com/i/teamlogos/nfl/500/bal.png', 'alt': '', 'rel': ['full', 'default'], 'width': 500, 'height': 500}, {'href': 'https://a.espncdn.com/i/teamlogos/nfl/500-dark/bal.png', 'alt': '', 'rel': ['full', 'dark'], 'width': 500, 'height': 500}, {'href': 'https://a.espncdn.com/i/teamlogos/nfl/500/scoreboard/bal.png', 'alt': '', 'rel': ['full', 'scoreboard'], 'width': 500, 'height': 500}, {'href': 'https://a.espncdn.com/i/teamlogos/nfl/500-dark/scoreboard/bal.png', 'alt': '', 'rel': ['full', 'scoreboard', 'dark'], 'width': 500, 'height': 500}], 'links': [{'language': 'en-US', 'rel': ['clubhouse', 'desktop', 'team'], 'href': 'https://www.espn.com/nfl/team/_/name/bal/baltimore-ravens', 'text': 'Clubhouse', 'shortText': 'Clubhouse', 'isExternal': False, 'isPremium': False, 'isHidden': False}, {'language': 'en-US', 'rel': ['roster', 'desktop', 'team'], 'href': 'https://www.espn.com/nfl/team/roster/_/name/bal/baltimore-ravens', 'text': 'Roster', 'shortText': 'Roster', 'isExternal': False, 'isPremium': False, 'isHidden': False}, {'language': 'en-US', 'rel': ['stats', 'desktop', 'team'], 'href': 'https://www.espn.com/nfl/team/stats/_/name/bal/baltimore-ravens', 'text': 'Statistics', 'shortText': 'Statistics', 'isExternal': False, 'isPremium': False, 'isHidden': False}, {'language': 'en-US', 'rel': ['schedule', 'desktop', 'team'], 'href': 'https://www.espn.com/nfl/team/schedule/_/name/bal', 'text': 'Schedule', 'shortText': 'Schedule', 'isExternal': False, 'isPremium': False, 'isHidden': False}, {'language': 'en-US', 'rel': ['tickets', 'desktop', 'team'], 'href': 'https://www.vividseats.com/baltimore-ravens-tickets--sports-nfl-football/performer/60?wsUser=717', 'text': 'Tickets', 'shortText': 'Tickets', 'isExternal': True, 'isPremium': False, 'isHidden': False}, {'language': 'en-US', 'rel': ['depthchart', 'desktop', 'team'], 'href': 'https://www.espn.com/nfl/team/depth/_/name/bal', 'text': 'Depth Chart', 'shortText': 'Depth Chart', 'isExternal': False, 'isPremium': False, 'isHidden': False}]}}, {'team': {'id': '2', 'uid': 's:20~l:28~t:2', 'slug': 'buffalo-bills', 'abbreviation': 'BUF', 'displayName': 'Buffalo Bills', 'shortDisplayName': 'Bills', 'name': 'Bills', 'nickname': 'Bills', 'location': 'Buffalo', 'color': '00338d', 'alternateColor': 'd50a0a', 'isActive': True, 'isAllStar': False, 'logos': [{'href': 'https://a.espncdn.com/i/teamlogos/nfl/500/buf.png', 'alt': '', 'rel': ['full', 'default'], 'width': 500, 'height': 500}, {'href': 'https://a.espncdn.com/i/teamlogos/nfl/500-dark/buf.png', 'alt': '', 'rel': ['full', 'dark'], 'width': 500, 'height': 500}, {'href': 'https://a.espncdn.com/i/teamlogos/nfl/500/scoreboard/buf.png', 'alt': '', 'rel': ['full', 'scoreboard'], 'width': 500, 'height': 500}, {'href': 'https://a.espncdn.com/i/teamlogos/nfl/500-dark/scoreboard/buf.png', 'alt': '', 'rel': ['full', 'scoreboard', 'dark'], 'width': 500, 'height': 500}], 'links': [{'language': 'en-US', 'rel': ['clubhouse', 'desktop', 'team'], 'href': 'https://www.espn.com/nfl/team/_/name/buf/buffalo-bills', 'text': 'Clubhouse', 'shortText': 'Clubhouse', 'isExternal': False, 'isPremium': False, 'isHidden': False}, {'language': 'en-US', 'rel': ['roster', 'desktop', 'team'], 'href': 'https://www.espn.com/nfl/team/roster/_/name/buf/buffalo-bills', 'text': 'Roster', 'shortText': 'Roster', 'isExternal': False, 'isPremium': False, 'isHidden': False}, {'language': 'en-US', 'rel': ['stats', 'desktop', 'team'], 'href': 'https://www.espn.com/nfl/team/stats/_/name/buf/buffalo-bills', 'text': 'Statistics', 'shortText': 'Statistics', 'isExternal': False, 'isPremium': False, 'isHidden': False}, {'language': 'en-US', 'rel': ['schedule', 'desktop', 'team'], 'href': 'https://www.espn.com/nfl/team/schedule/_/name/buf', 'text': 'Schedule', 'shortText': 'Schedule', 'isExternal': False, 'isPremium': False, 'isHidden': False}, {'language': 'en-US', 'rel': ['tickets', 'desktop', 'team'], 'href': 'https://www.vividseats.com/buffalo-bills-tickets--sports-nfl-football/performer/128?wsUser=717', 'text': 'Tickets', 'shortText': 'Tickets', 'isExternal': True, 'isPremium': False, 'isHidden': False}, {'language': 'en-US', 'rel': ['depthchart', 'desktop', 'team'], 'href': 'https://www.espn.com/nfl/team/depth/_/name/buf', 'text': 'Depth Chart', 'shortText': 'Depth Chart', 'isExternal': False, 'isPremium': False, 'isHidden': False}]}}, {'team': {'id': '29', 'uid': 's:20~l:28~t:29', 'slug': 'carolina-panthers', 'abbreviation': 'CAR', 'displayName': 'Carolina Panthers', 'shortDisplayName': 'Panthers', 'name': 'Panthers', 'nickname': 'Panthers', 'location': 'Carolina', 'color': '0085ca', 'alternateColor': '000000', 'isActive': True, 'isAllStar': False, 'logos': [{'href': 'https://a.espncdn.com/i/teamlogos/nfl/500/car.png', 'alt': '', 'rel': ['full', 'default'], 'width': 500, 'height': 500}, {'href': 'https://a.espncdn.com/i/teamlogos/nfl/500-dark/car.png', 'alt': '', 'rel': ['full', 'dark'], 'width': 500, 'height': 500}, {'href': 'https://a.espncdn.com/i/teamlogos/nfl/500/scoreboard/car.png', 'alt': '', 'rel': ['full', 'scoreboard'], 'width': 500, 'height': 500}, {'href': 'https://a.espncdn.com/i/teamlogos/nfl/500-dark/scoreboard/car.png', 'alt': '', 'rel': ['full', 'scoreboard', 'dark'], 'width': 500, 'height': 500}], 'links': [{'language': 'en-US', 'rel': ['clubhouse', 'desktop', 'team'], 'href': 'https://www.espn.com/nfl/team/_/name/car/carolina-panthers', 'text': 'Clubhouse', 'shortText': 'Clubhouse', 'isExternal': False, 'isPremium': False, 'isHidden': False}, {'language': 'en-US', 'rel': ['roster', 'desktop', 'team'], 'href': 'https://www.espn.com/nfl/team/roster/_/name/car/carolina-panthers', 'text': 'Roster', 'shortText': 'Roster', 'isExternal': False, 'isPremium': False, 'isHidden': False}, {'language': 'en-US', 'rel': ['stats', 'desktop', 'team'], 'href': 'https://www.espn.com/nfl/team/stats/_/name/car/carolina-panthers', 'text': 'Statistics', 'shortText': 'Statistics', 'isExternal': False, 'isPremium': False, 'isHidden': False}, {'language': 'en-US', 'rel': ['schedule', 'desktop', 'team'], 'href': 'https://www.espn.com/nfl/team/schedule/_/name/car', 'text': 'Schedule', 'shortText': 'Schedule', 'isExternal': False, 'isPremium': False, 'isHidden': False}, {'language': 'en-US', 'rel': ['tickets', 'desktop', 'team'], 'href': 'https://www.vividseats.com/carolina-panthers-tickets--sports-nfl-football/performer/144?wsUser=717', 'text': 'Tickets', 'shortText': 'Tickets', 'isExternal': True, 'isPremium': False, 'isHidden': False}, {'language': 'en-US', 'rel': ['depthchart', 'desktop', 'team'], 'href': 'https://www.espn.com/nfl/team/depth/_/name/car', 'text': 'Depth Chart', 'shortText': 'Depth Chart', 'isExternal': False, 'isPremium': False, 'isHidden': False}]}}, {'team': {'id': '3', 'uid': 's:20~l:28~t:3', 'slug': 'chicago-bears', 'abbreviation': 'CHI', 'displayName': 'Chicago Bears', 'shortDisplayName': 'Bears', 'name': 'Bears', 'nickname': 'Bears', 'location': 'Chicago', 'color': '0b1c3a', 'alternateColor': 'e64100', 'isActive': True, 'isAllStar': False, 'logos': [{'href': 'https://a.espncdn.com/i/teamlogos/nfl/500/chi.png', 'alt': '', 'rel': ['full', 'default'], 'width': 500, 'height': 500}, {'href': 'https://a.espncdn.com/i/teamlogos/nfl/500-dark/chi.png', 'alt': '', 'rel': ['full', 'dark'], 'width': 500, 'height': 500}, {'href': 'https://a.espncdn.com/i/teamlogos/nfl/500/scoreboard/chi.png', 'alt': '', 'rel': ['full', 'scoreboard'], 'width': 500, 'height': 500}, {'href': 'https://a.espncdn.com/i/teamlogos/nfl/500-dark/scoreboard/chi.png', 'alt': '', 'rel': ['full', 'scoreboard', 'dark'], 'width': 500, 'height': 500}], 'links': [{'language': 'en-US', 'rel': ['clubhouse', 'desktop', 'team'], 'href': 'https://www.espn.com/nfl/team/_/name/chi/chicago-bears', 'text': 'Clubhouse', 'shortText': 'Clubhouse', 'isExternal': False, 'isPremium': False, 'isHidden': False}, {'language': 'en-US', 'rel': ['roster', 'desktop', 'team'], 'href': 'https://www.espn.com/nfl/team/roster/_/name/chi/chicago-bears', 'text': 'Roster', 'shortText': 'Roster', 'isExternal': False, 'isPremium': False, 'isHidden': False}, {'language': 'en-US', 'rel': ['stats', 'desktop', 'team'], 'href': 'https://www.espn.com/nfl/team/stats/_/name/chi/chicago-bears', 'text': 'Statistics', 'shortText': 'Statistics', 'isExternal': False, 'isPremium': False, 'isHidden': False}, {'language': 'en-US', 'rel': ['schedule', 'desktop', 'team'], 'href': 'https://www.espn.com/nfl/team/schedule/_/name/chi', 'text': 'Schedule', 'shortText': 'Schedule', 'isExternal': False, 'isPremium': False, 'isHidden': False}, {'language': 'en-US', 'rel': ['tickets', 'desktop', 'team'], 'href': 'https://www.vividseats.com/chicago-bears-tickets--sports-nfl-football/performer/159?wsUser=717', 'text': 'Tickets', 'shortText': 'Tickets', 'isExternal': True, 'isPremium': False, 'isHidden': False}, {'language': 'en-US', 'rel': ['depthchart', 'desktop', 'team'], 'href': 'https://www.espn.com/nfl/team/depth/_/name/chi', 'text': 'Depth Chart', 'shortText': 'Depth Chart', 'isExternal': False, 'isPremium': False, 'isHidden': False}]}}, {'team': {'id': '4', 'uid': 's:20~l:28~t:4', 'slug': 'cincinnati-bengals', 'abbreviation': 'CIN', 'displayName': 'Cincinnati Bengals', 'shortDisplayName': 'Bengals', 'name': 'Bengals', 'nickname': 'Bengals', 'location': 'Cincinnati', 'color': 'fb4f14', 'alternateColor': '000000', 'isActive': True, 'isAllStar': False, 'logos': [{'href': 'https://a.espncdn.com/i/teamlogos/nfl/500/cin.png', 'alt': '', 'rel': ['full', 'default'], 'width': 500, 'height': 500}, {'href': 'https://a.espncdn.com/i/teamlogos/nfl/500-dark/cin.png', 'alt': '', 'rel': ['full', 'dark'], 'width': 500, 'height': 500}, {'href': 'https://a.espncdn.com/i/teamlogos/nfl/500/scoreboard/cin.png', 'alt': '', 'rel': ['full', 'scoreboard'], 'width': 500, 'height': 500}, {'href': 'https://a.espncdn.com/i/teamlogos/nfl/500-dark/scoreboard/cin.png', 'alt': '', 'rel': ['full', 'scoreboard', 'dark'], 'width': 500, 'height': 500}], 'links': [{'language': 'en-US', 'rel': ['clubhouse', 'desktop', 'team'], 'href': 'https://www.espn.com/nfl/team/_/name/cin/cincinnati-bengals', 'text': 'Clubhouse', 'shortText': 'Clubhouse', 'isExternal': False, 'isPremium': False, 'isHidden': False}, {'language': 'en-US', 'rel': ['roster', 'desktop', 'team'], 'href': 'https://www.espn.com/nfl/team/roster/_/name/cin/cincinnati-bengals', 'text': 'Roster', 'shortText': 'Roster', 'isExternal': False, 'isPremium': False, 'isHidden': False}, {'language': 'en-US', 'rel': ['stats', 'desktop', 'team'], 'href': 'https://www.espn.com/nfl/team/stats/_/name/cin/cincinnati-bengals', 'text': 'Statistics', 'shortText': 'Statistics', 'isExternal': False, 'isPremium': False, 'isHidden': False}, {'language': 'en-US', 'rel': ['schedule', 'desktop', 'team'], 'href': 'https://www.espn.com/nfl/team/schedule/_/name/cin', 'text': 'Schedule', 'shortText': 'Schedule', 'isExternal': False, 'isPremium': False, 'isHidden': False}, {'language': 'en-US', 'rel': ['tickets', 'desktop', 'team'], 'href': 'https://www.vividseats.com/cincinnati-bengals-tickets--sports-nfl-football/performer/172?wsUser=717', 'text': 'Tickets', 'shortText': 'Tickets', 'isExternal': True, 'isPremium': False, 'isHidden': False}, {'language': 'en-US', 'rel': ['depthchart', 'desktop', 'team'], 'href': 'https://www.espn.com/nfl/team/depth/_/name/cin', 'text': 'Depth Chart', 'shortText': 'Depth Chart', 'isExternal': False, 'isPremium': False, 'isHidden': False}]}}, {'team': {'id': '5', 'uid': 's:20~l:28~t:5', 'slug': 'cleveland-browns', 'abbreviation': 'CLE', 'displayName': 'Cleveland Browns', 'shortDisplayName': 'Browns', 'name': 'Browns', 'nickname': 'Browns', 'location': 'Cleveland', 'color': '472a08', 'alternateColor': 'ff3c00', 'isActive': True, 'isAllStar': False, 'logos': [{'href': 'https://a.espncdn.com/i/teamlogos/nfl/500/cle.png', 'alt': '', 'rel': ['full', 'default'], 'width': 500, 'height': 500}, {'href': 'https://a.espncdn.com/i/teamlogos/nfl/500-dark/cle.png', 'alt': '', 'rel': ['full', 'dark'], 'width': 500, 'height': 500}, {'href': 'https://a.espncdn.com/i/teamlogos/nfl/500/scoreboard/cle.png', 'alt': '', 'rel': ['full', 'scoreboard'], 'width': 500, 'height': 500}, {'href': 'https://a.espncdn.com/i/teamlogos/nfl/500-dark/scoreboard/cle.png', 'alt': '', 'rel': ['full', 'scoreboard', 'dark'], 'width': 500, 'height': 500}], 'links': [{'language': 'en-US', 'rel': ['clubhouse', 'desktop', 'team'], 'href': 'https://www.espn.com/nfl/team/_/name/cle/cleveland-browns', 'text': 'Clubhouse', 'shortText': 'Clubhouse', 'isExternal': False, 'isPremium': False, 'isHidden': False}, {'language': 'en-US', 'rel': ['roster', 'desktop', 'team'], 'href': 'https://www.espn.com/nfl/team/roster/_/name/cle/cleveland-browns', 'text': 'Roster', 'shortText': 'Roster', 'isExternal': False, 'isPremium': False, 'isHidden': False}, {'language': 'en-US', 'rel': ['stats', 'desktop', 'team'], 'href': 'https://www.espn.com/nfl/team/stats/_/name/cle/cleveland-browns', 'text': 'Statistics', 'shortText': 'Statistics', 'isExternal': False, 'isPremium': False, 'isHidden': False}, {'language': 'en-US', 'rel': ['schedule', 'desktop', 'team'], 'href': 'https://www.espn.com/nfl/team/schedule/_/name/cle', 'text': 'Schedule', 'shortText': 'Schedule', 'isExternal': False, 'isPremium': False, 'isHidden': False}, {'language': 'en-US', 'rel': ['tickets', 'desktop', 'team'], 'href': 'https://www.vividseats.com/cleveland-browns-tickets--sports-nfl-football/performer/181?wsUser=717', 'text': 'Tickets', 'shortText': 'Tickets', 'isExternal': True, 'isPremium': False, 'isHidden': False}, {'language': 'en-US', 'rel': ['depthchart', 'desktop', 'team'], 'href': 'https://www.espn.com/nfl/team/depth/_/name/cle', 'text': 'Depth Chart', 'shortText': 'Depth Chart', 'isExternal': False, 'isPremium': False, 'isHidden': False}]}}, {'team': {'id': '6', 'uid': 's:20~l:28~t:6', 'slug': 'dallas-cowboys', 'abbreviation': 'DAL', 'displayName': 'Dallas Cowboys', 'shortDisplayName': 'Cowboys', 'name': 'Cowboys', 'nickname': 'Cowboys', 'location': 'Dallas', 'color': '002a5c', 'alternateColor': 'b0b7bc', 'isActive': True, 'isAllStar': False, 'logos': [{'href': 'https://a.espncdn.com/i/teamlogos/nfl/500/dal.png', 'alt': '', 'rel': ['full', 'default'], 'width': 500, 'height': 500}, {'href': 'https://a.espncdn.com/i/teamlogos/nfl/500-dark/dal.png', 'alt': '', 'rel': ['full', 'dark'], 'width': 500, 'height': 500}, {'href': 'https://a.espncdn.com/i/teamlogos/nfl/500/scoreboard/dal.png', 'alt': '', 'rel': ['full', 'scoreboard'], 'width': 500, 'height': 500}, {'href': 'https://a.espncdn.com/i/teamlogos/nfl/500-dark/scoreboard/dal.png', 'alt': '', 'rel': ['full', 'scoreboard', 'dark'], 'width': 500, 'height': 500}], 'links': [{'language': 'en-US', 'rel': ['clubhouse', 'desktop', 'team'], 'href': 'https://www.espn.com/nfl/team/_/name/dal/dallas-cowboys', 'text': 'Clubhouse', 'shortText': 'Clubhouse', 'isExternal': False, 'isPremium': False, 'isHidden': False}, {'language': 'en-US', 'rel': ['roster', 'desktop', 'team'], 'href': 'https://www.espn.com/nfl/team/roster/_/name/dal/dallas-cowboys', 'text': 'Roster', 'shortText': 'Roster', 'isExternal': False, 'isPremium': False, 'isHidden': False}, {'language': 'en-US', 'rel': ['stats', 'desktop', 'team'], 'href': 'https://www.espn.com/nfl/team/stats/_/name/dal/dallas-cowboys', 'text': 'Statistics', 'shortText': 'Statistics', 'isExternal': False, 'isPremium': False, 'isHidden': False}, {'language': 'en-US', 'rel': ['schedule', 'desktop', 'team'], 'href': 'https://www.espn.com/nfl/team/schedule/_/name/dal', 'text': 'Schedule', 'shortText': 'Schedule', 'isExternal': False, 'isPremium': False, 'isHidden': False}, {'language': 'en-US', 'rel': ['tickets', 'desktop', 'team'], 'href': 'https://www.vividseats.com/dallas-cowboys-tickets--sports-nfl-football/performer/214?wsUser=717', 'text': 'Tickets', 'shortText': 'Tickets', 'isExternal': True, 'isPremium': False, 'isHidden': False}, {'language': 'en-US', 'rel': ['depthchart', 'desktop', 'team'], 'href': 'https://www.espn.com/nfl/team/depth/_/name/dal', 'text': 'Depth Chart', 'shortText': 'Depth Chart', 'isExternal': False, 'isPremium': False, 'isHidden': False}]}}, {'team': {'id': '7', 'uid': 's:20~l:28~t:7', 'slug': 'denver-broncos', 'abbreviation': 'DEN', 'displayName': 'Denver Broncos', 'shortDisplayName': 'Broncos', 'name': 'Broncos', 'nickname': 'Broncos', 'location': 'Denver', 'color': '0a2343', 'alternateColor': 'fc4c02', 'isActive': True, 'isAllStar': False, 'logos': [{'href': 'https://a.espncdn.com/i/teamlogos/nfl/500/den.png', 'alt': '', 'rel': ['full', 'default'], 'width': 500, 'height': 500}, {'href': 'https://a.espncdn.com/i/teamlogos/nfl/500-dark/den.png', 'alt': '', 'rel': ['full', 'dark'], 'width': 500, 'height': 500}, {'href': 'https://a.espncdn.com/i/teamlogos/nfl/500/scoreboard/den.png', 'alt': '', 'rel': ['full', 'scoreboard'], 'width': 500, 'height': 500}, {'href': 'https://a.espncdn.com/i/teamlogos/nfl/500-dark/scoreboard/den.png', 'alt': '', 'rel': ['full', 'scoreboard', 'dark'], 'width': 500, 'height': 500}], 'links': [{'language': 'en-US', 'rel': ['clubhouse', 'desktop', 'team'], 'href': 'https://www.espn.com/nfl/team/_/name/den/denver-broncos', 'text': 'Clubhouse', 'shortText': 'Clubhouse', 'isExternal': False, 'isPremium': False, 'isHidden': False}, {'language': 'en-US', 'rel': ['roster', 'desktop', 'team'], 'href': 'https://www.espn.com/nfl/team/roster/_/name/den/denver-broncos', 'text': 'Roster', 'shortText': 'Roster', 'isExternal': False, 'isPremium': False, 'isHidden': False}, {'language': 'en-US', 'rel': ['stats', 'desktop', 'team'], 'href': 'https://www.espn.com/nfl/team/stats/_/name/den/denver-broncos', 'text': 'Statistics', 'shortText': 'Statistics', 'isExternal': False, 'isPremium': False, 'isHidden': False}, {'language': 'en-US', 'rel': ['schedule', 'desktop', 'team'], 'href': 'https://www.espn.com/nfl/team/schedule/_/name/den', 'text': 'Schedule', 'shortText': 'Schedule', 'isExternal': False, 'isPremium': False, 'isHidden': False}, {'language': 'en-US', 'rel': ['tickets', 'desktop', 'team'], 'href': 'https://www.vividseats.com/denver-broncos-tickets--sports-nfl-football/performer/234?wsUser=717', 'text': 'Tickets', 'shortText': 'Tickets', 'isExternal': True, 'isPremium': False, 'isHidden': False}, {'language': 'en-US', 'rel': ['depthchart', 'desktop', 'team'], 'href': 'https://www.espn.com/nfl/team/depth/_/name/den', 'text': 'Depth Chart', 'shortText': 'Depth Chart', 'isExternal': False, 'isPremium': False, 'isHidden': False}]}}, {'team': {'id': '8', 'uid': 's:20~l:28~t:8', 'slug': 'detroit-lions', 'abbreviation': 'DET', 'displayName': 'Detroit Lions', 'shortDisplayName': 'Lions', 'name': 'Lions', 'nickname': 'Lions', 'location': 'Detroit', 'color': '0076b6', 'alternateColor': 'bbbbbb', 'isActive': True, 'isAllStar': False, 'logos': [{'href': 'https://a.espncdn.com/i/teamlogos/nfl/500/det.png', 'alt': '', 'rel': ['full', 'default'], 'width': 500, 'height': 500}, {'href': 'https://a.espncdn.com/i/teamlogos/nfl/500-dark/det.png', 'alt': '', 'rel': ['full', 'dark'], 'width': 500, 'height': 500}, {'href': 'https://a.espncdn.com/i/teamlogos/nfl/500/scoreboard/det.png', 'alt': '', 'rel': ['full', 'scoreboard'], 'width': 500, 'height': 500}, {'href': 'https://a.espncdn.com/i/teamlogos/nfl/500-dark/scoreboard/det.png', 'alt': '', 'rel': ['full', 'scoreboard', 'dark'], 'width': 500, 'height': 500}], 'links': [{'language': 'en-US', 'rel': ['clubhouse', 'desktop', 'team'], 'href': 'https://www.espn.com/nfl/team/_/name/det/detroit-lions', 'text': 'Clubhouse', 'shortText': 'Clubhouse', 'isExternal': False, 'isPremium': False, 'isHidden': False}, {'language': 'en-US', 'rel': ['roster', 'desktop', 'team'], 'href': 'https://www.espn.com/nfl/team/roster/_/name/det/detroit-lions', 'text': 'Roster', 'shortText': 'Roster', 'isExternal': False, 'isPremium': False, 'isHidden': False}, {'language': 'en-US', 'rel': ['stats', 'desktop', 'team'], 'href': 'https://www.espn.com/nfl/team/stats/_/name/det/detroit-lions', 'text': 'Statistics', 'shortText': 'Statistics', 'isExternal': False, 'isPremium': False, 'isHidden': False}, {'language': 'en-US', 'rel': ['schedule', 'desktop', 'team'], 'href': 'https://www.espn.com/nfl/team/schedule/_/name/det', 'text': 'Schedule', 'shortText': 'Schedule', 'isExternal': False, 'isPremium': False, 'isHidden': False}, {'language': 'en-US', 'rel': ['tickets', 'desktop', 'team'], 'href': 'https://www.vividseats.com/detroit-lions-tickets--sports-nfl-football/performer/238?wsUser=717', 'text': 'Tickets', 'shortText': 'Tickets', 'isExternal': True, 'isPremium': False, 'isHidden': False}, {'language': 'en-US', 'rel': ['depthchart', 'desktop', 'team'], 'href': 'https://www.espn.com/nfl/team/depth/_/name/det', 'text': 'Depth Chart', 'shortText': 'Depth Chart', 'isExternal': False, 'isPremium': False, 'isHidden': False}]}}, {'team': {'id': '9', 'uid': 's:20~l:28~t:9', 'slug': 'green-bay-packers', 'abbreviation': 'GB', 'displayName': 'Green Bay Packers', 'shortDisplayName': 'Packers', 'name': 'Packers', 'nickname': 'Packers', 'location': 'Green Bay', 'color': '204e32', 'alternateColor': 'ffb612', 'isActive': True, 'isAllStar': False, 'logos': [{'href': 'https://a.espncdn.com/i/teamlogos/nfl/500/gb.png', 'alt': '', 'rel': ['full', 'default'], 'width': 500, 'height': 500}, {'href': 'https://a.espncdn.com/i/teamlogos/nfl/500-dark/gb.png', 'alt': '', 'rel': ['full', 'dark'], 'width': 500, 'height': 500}, {'href': 'https://a.espncdn.com/i/teamlogos/nfl/500/scoreboard/gb.png', 'alt': '', 'rel': ['full', 'scoreboard'], 'width': 500, 'height': 500}, {'href': 'https://a.espncdn.com/i/teamlogos/nfl/500-dark/scoreboard/gb.png', 'alt': '', 'rel': ['full', 'scoreboard', 'dark'], 'width': 500, 'height': 500}], 'links': [{'language': 'en-US', 'rel': ['clubhouse', 'desktop', 'team'], 'href': 'https://www.espn.com/nfl/team/_/name/gb/green-bay-packers', 'text': 'Clubhouse', 'shortText': 'Clubhouse', 'isExternal': False, 'isPremium': False, 'isHidden': False}, {'language': 'en-US', 'rel': ['roster', 'desktop', 'team'], 'href': 'https://www.espn.com/nfl/team/roster/_/name/gb/green-bay-packers', 'text': 'Roster', 'shortText': 'Roster', 'isExternal': False, 'isPremium': False, 'isHidden': False}, {'language': 'en-US', 'rel': ['stats', 'desktop', 'team'], 'href': 'https://www.espn.com/nfl/team/stats/_/name/gb/green-bay-packers', 'text': 'Statistics', 'shortText': 'Statistics', 'isExternal': False, 'isPremium': False, 'isHidden': False}, {'language': 'en-US', 'rel': ['schedule', 'desktop', 'team'], 'href': 'https://www.espn.com/nfl/team/schedule/_/name/gb', 'text': 'Schedule', 'shortText': 'Schedule', 'isExternal': False, 'isPremium': False, 'isHidden': False}, {'language': 'en-US', 'rel': ['tickets', 'desktop', 'team'], 'href': 'https://www.vividseats.com/green-bay-packers-tickets--sports-nfl-football/performer/339?wsUser=717', 'text': 'Tickets', 'shortText': 'Tickets', 'isExternal': True, 'isPremium': False, 'isHidden': False}, {'language': 'en-US', 'rel': ['depthchart', 'desktop', 'team'], 'href': 'https://www.espn.com/nfl/team/depth/_/name/gb', 'text': 'Depth Chart', 'shortText': 'Depth Chart', 'isExternal': False, 'isPremium': False, 'isHidden': False}]}}, {'team': {'id': '34', 'uid': 's:20~l:28~t:34', 'slug': 'houston-texans', 'abbreviation': 'HOU', 'displayName': 'Houston Texans', 'shortDisplayName': 'Texans', 'name': 'Texans', 'nickname': 'Texans', 'location': 'Houston', 'color': '00143f', 'alternateColor': 'c41230', 'isActive': True, 'isAllStar': False, 'logos': [{'href': 'https://a.espncdn.com/i/teamlogos/nfl/500/hou.png', 'alt': '', 'rel': ['full', 'default'], 'width': 500, 'height': 500}, {'href': 'https://a.espncdn.com/i/teamlogos/nfl/500-dark/hou.png', 'alt': '', 'rel': ['full', 'dark'], 'width': 500, 'height': 500}, {'href': 'https://a.espncdn.com/i/teamlogos/nfl/500/scoreboard/hou.png', 'alt': '', 'rel': ['full', 'scoreboard'], 'width': 500, 'height': 500}, {'href': 'https://a.espncdn.com/i/teamlogos/nfl/500-dark/scoreboard/hou.png', 'alt': '', 'rel': ['full', 'scoreboard', 'dark'], 'width': 500, 'height': 500}], 'links': [{'language': 'en-US', 'rel': ['clubhouse', 'desktop', 'team'], 'href': 'https://www.espn.com/nfl/team/_/name/hou/houston-texans', 'text': 'Clubhouse', 'shortText': 'Clubhouse', 'isExternal': False, 'isPremium': False, 'isHidden': False}, {'language': 'en-US', 'rel': ['roster', 'desktop', 'team'], 'href': 'https://www.espn.com/nfl/team/roster/_/name/hou/houston-texans', 'text': 'Roster', 'shortText': 'Roster', 'isExternal': False, 'isPremium': False, 'isHidden': False}, {'language': 'en-US', 'rel': ['stats', 'desktop', 'team'], 'href': 'https://www.espn.com/nfl/team/stats/_/name/hou/houston-texans', 'text': 'Statistics', 'shortText': 'Statistics', 'isExternal': False, 'isPremium': False, 'isHidden': False}, {'language': 'en-US', 'rel': ['schedule', 'desktop', 'team'], 'href': 'https://www.espn.com/nfl/team/schedule/_/name/hou', 'text': 'Schedule', 'shortText': 'Schedule', 'isExternal': False, 'isPremium': False, 'isHidden': False}, {'language': 'en-US', 'rel': ['tickets', 'desktop', 'team'], 'href': 'https://www.vividseats.com/houston-texans-tickets--sports-nfl-football/performer/2559?wsUser=717', 'text': 'Tickets', 'shortText': 'Tickets', 'isExternal': True, 'isPremium': False, 'isHidden': False}, {'language': 'en-US', 'rel': ['depthchart', 'desktop', 'team'], 'href': 'https://www.espn.com/nfl/team/depth/_/name/hou', 'text': 'Depth Chart', 'shortText': 'Depth Chart', 'isExternal': False, 'isPremium': False, 'isHidden': False}]}}, {'team': {'id': '11', 'uid': 's:20~l:28~t:11', 'slug': 'indianapolis-colts', 'abbreviation': 'IND', 'displayName': 'Indianapolis Colts', 'shortDisplayName': 'Colts', 'name': 'Colts', 'nickname': 'Colts', 'location': 'Indianapolis', 'color': '003b75', 'alternateColor': 'ffffff', 'isActive': True, 'isAllStar': False, 'logos': [{'href': 'https://a.espncdn.com/i/teamlogos/nfl/500/ind.png', 'alt': '', 'rel': ['full', 'default'], 'width': 500, 'height': 500}, {'href': 'https://a.espncdn.com/i/teamlogos/nfl/500-dark/ind.png', 'alt': '', 'rel': ['full', 'dark'], 'width': 500, 'height': 500}, {'href': 'https://a.espncdn.com/i/teamlogos/nfl/500/scoreboard/ind.png', 'alt': '', 'rel': ['full', 'scoreboard'], 'width': 500, 'height': 500}, {'href': 'https://a.espncdn.com/i/teamlogos/nfl/500-dark/scoreboard/ind.png', 'alt': '', 'rel': ['full', 'scoreboard', 'dark'], 'width': 500, 'height': 500}], 'links': [{'language': 'en-US', 'rel': ['clubhouse', 'desktop', 'team'], 'href': 'https://www.espn.com/nfl/team/_/name/ind/indianapolis-colts', 'text': 'Clubhouse', 'shortText': 'Clubhouse', 'isExternal': False, 'isPremium': False, 'isHidden': False}, {'language': 'en-US', 'rel': ['roster', 'desktop', 'team'], 'href': 'https://www.espn.com/nfl/team/roster/_/name/ind/indianapolis-colts', 'text': 'Roster', 'shortText': 'Roster', 'isExternal': False, 'isPremium': False, 'isHidden': False}, {'language': 'en-US', 'rel': ['stats', 'desktop', 'team'], 'href': 'https://www.espn.com/nfl/team/stats/_/name/ind/indianapolis-colts', 'text': 'Statistics', 'shortText': 'Statistics', 'isExternal': False, 'isPremium': False, 'isHidden': False}, {'language': 'en-US', 'rel': ['schedule', 'desktop', 'team'], 'href': 'https://www.espn.com/nfl/team/schedule/_/name/ind', 'text': 'Schedule', 'shortText': 'Schedule', 'isExternal': False, 'isPremium': False, 'isHidden': False}, {'language': 'en-US', 'rel': ['tickets', 'desktop', 'team'], 'href': 'https://www.vividseats.com/indianapolis-colts-tickets--sports-nfl-football/performer/370?wsUser=717', 'text': 'Tickets', 'shortText': 'Tickets', 'isExternal': True, 'isPremium': False, 'isHidden': False}, {'language': 'en-US', 'rel': ['depthchart', 'desktop', 'team'], 'href': 'https://www.espn.com/nfl/team/depth/_/name/ind', 'text': 'Depth Chart', 'shortText': 'Depth Chart', 'isExternal': False, 'isPremium': False, 'isHidden': False}]}}, {'team': {'id': '30', 'uid': 's:20~l:28~t:30', 'slug': 'jacksonville-jaguars', 'abbreviation': 'JAX', 'displayName': 'Jacksonville Jaguars', 'shortDisplayName': 'Jaguars', 'name': 'Jaguars', 'nickname': 'Jaguars', 'location': 'Jacksonville', 'color': '007487', 'alternateColor': 'd7a22a', 'isActive': True, 'isAllStar': False, 'logos': [{'href': 'https://a.espncdn.com/i/teamlogos/nfl/500/jax.png', 'alt': '', 'rel': ['full', 'default'], 'width': 500, 'height': 500}, {'href': 'https://a.espncdn.com/i/teamlogos/nfl/500-dark/jax.png', 'alt': '', 'rel': ['full', 'dark'], 'width': 500, 'height': 500}, {'href': 'https://a.espncdn.com/i/teamlogos/nfl/500/scoreboard/jax.png', 'alt': '', 'rel': ['full', 'scoreboard'], 'width': 500, 'height': 500}, {'href': 'https://a.espncdn.com/i/teamlogos/nfl/500-dark/scoreboard/jax.png', 'alt': '', 'rel': ['full', 'scoreboard', 'dark'], 'width': 500, 'height': 500}], 'links': [{'language': 'en-US', 'rel': ['clubhouse', 'desktop', 'team'], 'href': 'https://www.espn.com/nfl/team/_/name/jax/jacksonville-jaguars', 'text': 'Clubhouse', 'shortText': 'Clubhouse', 'isExternal': False, 'isPremium': False, 'isHidden': False}, {'language': 'en-US', 'rel': ['roster', 'desktop', 'team'], 'href': 'https://www.espn.com/nfl/team/roster/_/name/jax/jacksonville-jaguars', 'text': 'Roster', 'shortText': 'Roster', 'isExternal': False, 'isPremium': False, 'isHidden': False}, {'language': 'en-US', 'rel': ['stats', 'desktop', 'team'], 'href': 'https://www.espn.com/nfl/team/stats/_/name/jax/jacksonville-jaguars', 'text': 'Statistics', 'shortText': 'Statistics', 'isExternal': False, 'isPremium': False, 'isHidden': False}, {'language': 'en-US', 'rel': ['schedule', 'desktop', 'team'], 'href': 'https://www.espn.com/nfl/team/schedule/_/name/jax', 'text': 'Schedule', 'shortText': 'Schedule', 'isExternal': False, 'isPremium': False, 'isHidden': False}, {'language': 'en-US', 'rel': ['tickets', 'desktop', 'team'], 'href': 'https://www.vividseats.com/jacksonville-jaguars-tickets--sports-nfl-football/performer/381?wsUser=717', 'text': 'Tickets', 'shortText': 'Tickets', 'isExternal': True, 'isPremium': False, 'isHidden': False}, {'language': 'en-US', 'rel': ['depthchart', 'desktop', 'team'], 'href': 'https://www.espn.com/nfl/team/depth/_/name/jax', 'text': 'Depth Chart', 'shortText': 'Depth Chart', 'isExternal': False, 'isPremium': False, 'isHidden': False}]}}, {'team': {'id': '12', 'uid': 's:20~l:28~t:12', 'slug': 'kansas-city-chiefs', 'abbreviation': 'KC', 'displayName': 'Kansas City Chiefs', 'shortDisplayName': 'Chiefs', 'name': 'Chiefs', 'nickname': 'Chiefs', 'location': 'Kansas City', 'color': 'e31837', 'alternateColor': 'ffb612', 'isActive': True, 'isAllStar': False, 'logos': [{'href': 'https://a.espncdn.com/i/teamlogos/nfl/500/kc.png', 'alt': '', 'rel': ['full', 'default'], 'width': 500, 'height': 500}, {'href': 'https://a.espncdn.com/i/teamlogos/nfl/500-dark/kc.png', 'alt': '', 'rel': ['full', 'dark'], 'width': 500, 'height': 500}, {'href': 'https://a.espncdn.com/i/teamlogos/nfl/500/scoreboard/kc.png', 'alt': '', 'rel': ['full', 'scoreboard'], 'width': 500, 'height': 500}, {'href': 'https://a.espncdn.com/i/teamlogos/nfl/500-dark/scoreboard/kc.png', 'alt': '', 'rel': ['full', 'scoreboard', 'dark'], 'width': 500, 'height': 500}], 'links': [{'language': 'en-US', 'rel': ['clubhouse', 'desktop', 'team'], 'href': 'https://www.espn.com/nfl/team/_/name/kc/kansas-city-chiefs', 'text': 'Clubhouse', 'shortText': 'Clubhouse', 'isExternal': False, 'isPremium': False, 'isHidden': False}, {'language': 'en-US', 'rel': ['roster', 'desktop', 'team'], 'href': 'https://www.espn.com/nfl/team/roster/_/name/kc/kansas-city-chiefs', 'text': 'Roster', 'shortText': 'Roster', 'isExternal': False, 'isPremium': False, 'isHidden': False}, {'language': 'en-US', 'rel': ['stats', 'desktop', 'team'], 'href': 'https://www.espn.com/nfl/team/stats/_/name/kc/kansas-city-chiefs', 'text': 'Statistics', 'shortText': 'Statistics', 'isExternal': False, 'isPremium': False, 'isHidden': False}, {'language': 'en-US', 'rel': ['schedule', 'desktop', 'team'], 'href': 'https://www.espn.com/nfl/team/schedule/_/name/kc', 'text': 'Schedule', 'shortText': 'Schedule', 'isExternal': False, 'isPremium': False, 'isHidden': False}, {'language': 'en-US', 'rel': ['tickets', 'desktop', 'team'], 'href': 'https://www.vividseats.com/kansas-city-chiefs-tickets--sports-nfl-football/performer/427?wsUser=717', 'text': 'Tickets', 'shortText': 'Tickets', 'isExternal': True, 'isPremium': False, 'isHidden': False}, {'language': 'en-US', 'rel': ['depthchart', 'desktop', 'team'], 'href': 'https://www.espn.com/nfl/team/depth/_/name/kc', 'text': 'Depth Chart', 'shortText': 'Depth Chart', 'isExternal': False, 'isPremium': False, 'isHidden': False}]}}, {'team': {'id': '13', 'uid': 's:20~l:28~t:13', 'slug': 'las-vegas-raiders', 'abbreviation': 'LV', 'displayName': 'Las Vegas Raiders', 'shortDisplayName': 'Raiders', 'name': 'Raiders', 'nickname': 'Raiders', 'location': 'Las Vegas', 'color': '000000', 'alternateColor': 'a5acaf', 'isActive': True, 'isAllStar': False, 'logos': [{'href': 'https://a.espncdn.com/i/teamlogos/nfl/500/lv.png', 'alt': '', 'rel': ['full', 'default'], 'width': 500, 'height': 500}, {'href': 'https://a.espncdn.com/i/teamlogos/nfl/500-dark/lv.png', 'alt': '', 'rel': ['full', 'dark'], 'width': 500, 'height': 500}, {'href': 'https://a.espncdn.com/i/teamlogos/nfl/500/scoreboard/lv.png', 'alt': '', 'rel': ['full', 'scoreboard'], 'width': 500, 'height': 500}, {'href': 'https://a.espncdn.com/i/teamlogos/nfl/500-dark/scoreboard/lv.png', 'alt': '', 'rel': ['full', 'scoreboard', 'dark'], 'width': 500, 'height': 500}], 'links': [{'language': 'en-US', 'rel': ['clubhouse', 'desktop', 'team'], 'href': 'https://www.espn.com/nfl/team/_/name/lv/las-vegas-raiders', 'text': 'Clubhouse', 'shortText': 'Clubhouse', 'isExternal': False, 'isPremium': False, 'isHidden': False}, {'language': 'en-US', 'rel': ['roster', 'desktop', 'team'], 'href': 'https://www.espn.com/nfl/team/roster/_/name/lv/las-vegas-raiders', 'text': 'Roster', 'shortText': 'Roster', 'isExternal': False, 'isPremium': False, 'isHidden': False}, {'language': 'en-US', 'rel': ['stats', 'desktop', 'team'], 'href': 'https://www.espn.com/nfl/team/stats/_/name/lv/las-vegas-raiders', 'text': 'Statistics', 'shortText': 'Statistics', 'isExternal': False, 'isPremium': False, 'isHidden': False}, {'language': 'en-US', 'rel': ['schedule', 'desktop', 'team'], 'href': 'https://www.espn.com/nfl/team/schedule/_/name/lv', 'text': 'Schedule', 'shortText': 'Schedule', 'isExternal': False, 'isPremium': False, 'isHidden': False}, {'language': 'en-US', 'rel': ['tickets', 'desktop', 'team'], 'href': 'https://www.vividseats.com/las-vegas-raiders-tickets--sports-nfl-football/performer/626?wsUser=717', 'text': 'Tickets', 'shortText': 'Tickets', 'isExternal': True, 'isPremium': False, 'isHidden': False}, {'language': 'en-US', 'rel': ['depthchart', 'desktop', 'team'], 'href': 'https://www.espn.com/nfl/team/depth/_/name/lv', 'text': 'Depth Chart', 'shortText': 'Depth Chart', 'isExternal': False, 'isPremium': False, 'isHidden': False}]}}, {'team': {'id': '24', 'uid': 's:20~l:28~t:24', 'slug': 'los-angeles-chargers', 'abbreviation': 'LAC', 'displayName': 'Los Angeles Chargers', 'shortDisplayName': 'Chargers', 'name': 'Chargers', 'nickname': 'Chargers', 'location': 'Los Angeles', 'color': '0080c6', 'alternateColor': 'ffc20e', 'isActive': True, 'isAllStar': False, 'logos': [{'href': 'https://a.espncdn.com/i/teamlogos/nfl/500/lac.png', 'alt': '', 'rel': ['full', 'default'], 'width': 500, 'height': 500}, {'href': 'https://a.espncdn.com/i/teamlogos/nfl/500-dark/lac.png', 'alt': '', 'rel': ['full', 'dark'], 'width': 500, 'height': 500}, {'href': 'https://a.espncdn.com/i/teamlogos/nfl/500/scoreboard/lac.png', 'alt': '', 'rel': ['full', 'scoreboard'], 'width': 500, 'height': 500}, {'href': 'https://a.espncdn.com/i/teamlogos/nfl/500-dark/scoreboard/lac.png', 'alt': '', 'rel': ['full', 'scoreboard', 'dark'], 'width': 500, 'height': 500}], 'links': [{'language': 'en-US', 'rel': ['clubhouse', 'desktop', 'team'], 'href': 'https://www.espn.com/nfl/team/_/name/lac/los-angeles-chargers', 'text': 'Clubhouse', 'shortText': 'Clubhouse', 'isExternal': False, 'isPremium': False, 'isHidden': False}, {'language': 'en-US', 'rel': ['roster', 'desktop', 'team'], 'href': 'https://www.espn.com/nfl/team/roster/_/name/lac/los-angeles-chargers', 'text': 'Roster', 'shortText': 'Roster', 'isExternal': False, 'isPremium': False, 'isHidden': False}, {'language': 'en-US', 'rel': ['stats', 'desktop', 'team'], 'href': 'https://www.espn.com/nfl/team/stats/_/name/lac/los-angeles-chargers', 'text': 'Statistics', 'shortText': 'Statistics', 'isExternal': False, 'isPremium': False, 'isHidden': False}, {'language': 'en-US', 'rel': ['schedule', 'desktop', 'team'], 'href': 'https://www.espn.com/nfl/team/schedule/_/name/lac', 'text': 'Schedule', 'shortText': 'Schedule', 'isExternal': False, 'isPremium': False, 'isHidden': False}, {'language': 'en-US', 'rel': ['tickets', 'desktop', 'team'], 'href': 'https://www.vividseats.com/los-angeles-chargers-tickets--sports-nfl-football/performer/755?wsUser=717', 'text': 'Tickets', 'shortText': 'Tickets', 'isExternal': True, 'isPremium': False, 'isHidden': False}, {'language': 'en-US', 'rel': ['depthchart', 'desktop', 'team'], 'href': 'https://www.espn.com/nfl/team/depth/_/name/lac', 'text': 'Depth Chart', 'shortText': 'Depth Chart', 'isExternal': False, 'isPremium': False, 'isHidden': False}]}}, {'team': {'id': '14', 'uid': 's:20~l:28~t:14', 'slug': 'los-angeles-rams', 'abbreviation': 'LAR', 'displayName': 'Los Angeles Rams', 'shortDisplayName': 'Rams', 'name': 'Rams', 'nickname': 'Rams', 'location': 'Los Angeles', 'color': '003594', 'alternateColor': 'ffd100', 'isActive': True, 'isAllStar': False, 'logos': [{'href': 'https://a.espncdn.com/i/teamlogos/nfl/500/lar.png', 'alt': '', 'rel': ['full', 'default'], 'width': 500, 'height': 500}, {'href': 'https://a.espncdn.com/i/teamlogos/nfl/500-dark/lar.png', 'alt': '', 'rel': ['full', 'dark'], 'width': 500, 'height': 500}, {'href': 'https://a.espncdn.com/i/teamlogos/nfl/500/scoreboard/lar.png', 'alt': '', 'rel': ['full', 'scoreboard'], 'width': 500, 'height': 500}, {'href': 'https://a.espncdn.com/i/teamlogos/nfl/500-dark/scoreboard/lar.png', 'alt': '', 'rel': ['full', 'scoreboard', 'dark'], 'width': 500, 'height': 500}], 'links': [{'language': 'en-US', 'rel': ['clubhouse', 'desktop', 'team'], 'href': 'https://www.espn.com/nfl/team/_/name/lar/los-angeles-rams', 'text': 'Clubhouse', 'shortText': 'Clubhouse', 'isExternal': False, 'isPremium': False, 'isHidden': False}, {'language': 'en-US', 'rel': ['roster', 'desktop', 'team'], 'href': 'https://www.espn.com/nfl/team/roster/_/name/lar/los-angeles-rams', 'text': 'Roster', 'shortText': 'Roster', 'isExternal': False, 'isPremium': False, 'isHidden': False}, {'language': 'en-US', 'rel': ['stats', 'desktop', 'team'], 'href': 'https://www.espn.com/nfl/team/stats/_/name/lar/los-angeles-rams', 'text': 'Statistics', 'shortText': 'Statistics', 'isExternal': False, 'isPremium': False, 'isHidden': False}, {'language': 'en-US', 'rel': ['schedule', 'desktop', 'team'], 'href': 'https://www.espn.com/nfl/team/schedule/_/name/lar', 'text': 'Schedule', 'shortText': 'Schedule', 'isExternal': False, 'isPremium': False, 'isHidden': False}, {'language': 'en-US', 'rel': ['tickets', 'desktop', 'team'], 'href': 'https://www.vividseats.com/los-angeles-rams-tickets--sports-nfl-football/performer/808?wsUser=717', 'text': 'Tickets', 'shortText': 'Tickets', 'isExternal': True, 'isPremium': False, 'isHidden': False}, {'language': 'en-US', 'rel': ['depthchart', 'desktop', 'team'], 'href': 'https://www.espn.com/nfl/team/depth/_/name/lar', 'text': 'Depth Chart', 'shortText': 'Depth Chart', 'isExternal': False, 'isPremium': False, 'isHidden': False}]}}, {'team': {'id': '15', 'uid': 's:20~l:28~t:15', 'slug': 'miami-dolphins', 'abbreviation': 'MIA', 'displayName': 'Miami Dolphins', 'shortDisplayName': 'Dolphins', 'name': 'Dolphins', 'nickname': 'Dolphins', 'location': 'Miami', 'color': '008e97', 'alternateColor': 'fc4c02', 'isActive': True, 'isAllStar': False, 'logos': [{'href': 'https://a.espncdn.com/i/teamlogos/nfl/500/mia.png', 'alt': '', 'rel': ['full', 'default'], 'width': 500, 'height': 500}, {'href': 'https://a.espncdn.com/i/teamlogos/nfl/500-dark/mia.png', 'alt': '', 'rel': ['full', 'dark'], 'width': 500, 'height': 500}, {'href': 'https://a.espncdn.com/i/teamlogos/nfl/500/scoreboard/mia.png', 'alt': '', 'rel': ['full', 'scoreboard'], 'width': 500, 'height': 500}, {'href': 'https://a.espncdn.com/i/teamlogos/nfl/500-dark/scoreboard/mia.png', 'alt': '', 'rel': ['full', 'scoreboard', 'dark'], 'width': 500, 'height': 500}], 'links': [{'language': 'en-US', 'rel': ['clubhouse', 'desktop', 'team'], 'href': 'https://www.espn.com/nfl/team/_/name/mia/miami-dolphins', 'text': 'Clubhouse', 'shortText': 'Clubhouse', 'isExternal': False, 'isPremium': False, 'isHidden': False}, {'language': 'en-US', 'rel': ['roster', 'desktop', 'team'], 'href': 'https://www.espn.com/nfl/team/roster/_/name/mia/miami-dolphins', 'text': 'Roster', 'shortText': 'Roster', 'isExternal': False, 'isPremium': False, 'isHidden': False}, {'language': 'en-US', 'rel': ['stats', 'desktop', 'team'], 'href': 'https://www.espn.com/nfl/team/stats/_/name/mia/miami-dolphins', 'text': 'Statistics', 'shortText': 'Statistics', 'isExternal': False, 'isPremium': False, 'isHidden': False}, {'language': 'en-US', 'rel': ['schedule', 'desktop', 'team'], 'href': 'https://www.espn.com/nfl/team/schedule/_/name/mia', 'text': 'Schedule', 'shortText': 'Schedule', 'isExternal': False, 'isPremium': False, 'isHidden': False}, {'language': 'en-US', 'rel': ['tickets', 'desktop', 'team'], 'href': 'https://www.vividseats.com/miami-dolphins-tickets--sports-nfl-football/performer/532?wsUser=717', 'text': 'Tickets', 'shortText': 'Tickets', 'isExternal': True, 'isPremium': False, 'isHidden': False}, {'language': 'en-US', 'rel': ['depthchart', 'desktop', 'team'], 'href': 'https://www.espn.com/nfl/team/depth/_/name/mia', 'text': 'Depth Chart', 'shortText': 'Depth Chart', 'isExternal': False, 'isPremium': False, 'isHidden': False}]}}, {'team': {'id': '16', 'uid': 's:20~l:28~t:16', 'slug': 'minnesota-vikings', 'abbreviation': 'MIN', 'displayName': 'Minnesota Vikings', 'shortDisplayName': 'Vikings', 'name': 'Vikings', 'nickname': 'Vikings', 'location': 'Minnesota', 'color': '4f2683', 'alternateColor': 'ffc62f', 'isActive': True, 'isAllStar': False, 'logos': [{'href': 'https://a.espncdn.com/i/teamlogos/nfl/500/min.png', 'alt': '', 'rel': ['full', 'default'], 'width': 500, 'height': 500}, {'href': 'https://a.espncdn.com/i/teamlogos/nfl/500-dark/min.png', 'alt': '', 'rel': ['full', 'dark'], 'width': 500, 'height': 500}, {'href': 'https://a.espncdn.com/i/teamlogos/nfl/500/scoreboard/min.png', 'alt': '', 'rel': ['full', 'scoreboard'], 'width': 500, 'height': 500}, {'href': 'https://a.espncdn.com/i/teamlogos/nfl/500-dark/scoreboard/min.png', 'alt': '', 'rel': ['full', 'scoreboard', 'dark'], 'width': 500, 'height': 500}], 'links': [{'language': 'en-US', 'rel': ['clubhouse', 'desktop', 'team'], 'href': 'https://www.espn.com/nfl/team/_/name/min/minnesota-vikings', 'text': 'Clubhouse', 'shortText': 'Clubhouse', 'isExternal': False, 'isPremium': False, 'isHidden': False}, {'language': 'en-US', 'rel': ['roster', 'desktop', 'team'], 'href': 'https://www.espn.com/nfl/team/roster/_/name/min/minnesota-vikings', 'text': 'Roster', 'shortText': 'Roster', 'isExternal': False, 'isPremium': False, 'isHidden': False}, {'language': 'en-US', 'rel': ['stats', 'desktop', 'team'], 'href': 'https://www.espn.com/nfl/team/stats/_/name/min/minnesota-vikings', 'text': 'Statistics', 'shortText': 'Statistics', 'isExternal': False, 'isPremium': False, 'isHidden': False}, {'language': 'en-US', 'rel': ['schedule', 'desktop', 'team'], 'href': 'https://www.espn.com/nfl/team/schedule/_/name/min', 'text': 'Schedule', 'shortText': 'Schedule', 'isExternal': False, 'isPremium': False, 'isHidden': False}, {'language': 'en-US', 'rel': ['tickets', 'desktop', 'team'], 'href': 'https://www.vividseats.com/minnesota-vikings-tickets--sports-nfl-football/performer/555?wsUser=717', 'text': 'Tickets', 'shortText': 'Tickets', 'isExternal': True, 'isPremium': False, 'isHidden': False}, {'language': 'en-US', 'rel': ['depthchart', 'desktop', 'team'], 'href': 'https://www.espn.com/nfl/team/depth/_/name/min', 'text': 'Depth Chart', 'shortText': 'Depth Chart', 'isExternal': False, 'isPremium': False, 'isHidden': False}]}}, {'team': {'id': '17', 'uid': 's:20~l:28~t:17', 'slug': 'new-england-patriots', 'abbreviation': 'NE', 'displayName': 'New England Patriots', 'shortDisplayName': 'Patriots', 'name': 'Patriots', 'nickname': 'Patriots', 'location': 'New England', 'color': '002a5c', 'alternateColor': 'c60c30', 'isActive': True, 'isAllStar': False, 'logos': [{'href': 'https://a.espncdn.com/i/teamlogos/nfl/500/ne.png', 'alt': '', 'rel': ['full', 'default'], 'width': 500, 'height': 500}, {'href': 'https://a.espncdn.com/i/teamlogos/nfl/500-dark/ne.png', 'alt': '', 'rel': ['full', 'dark'], 'width': 500, 'height': 500}, {'href': 'https://a.espncdn.com/i/teamlogos/nfl/500/scoreboard/ne.png', 'alt': '', 'rel': ['full', 'scoreboard'], 'width': 500, 'height': 500}, {'href': 'https://a.espncdn.com/i/teamlogos/nfl/500-dark/scoreboard/ne.png', 'alt': '', 'rel': ['full', 'scoreboard', 'dark'], 'width': 500, 'height': 500}], 'links': [{'language': 'en-US', 'rel': ['clubhouse', 'desktop', 'team'], 'href': 'https://www.espn.com/nfl/team/_/name/ne/new-england-patriots', 'text': 'Clubhouse', 'shortText': 'Clubhouse', 'isExternal': False, 'isPremium': False, 'isHidden': False}, {'language': 'en-US', 'rel': ['roster', 'desktop', 'team'], 'href': 'https://www.espn.com/nfl/team/roster/_/name/ne/new-england-patriots', 'text': 'Roster', 'shortText': 'Roster', 'isExternal': False, 'isPremium': False, 'isHidden': False}, {'language': 'en-US', 'rel': ['stats', 'desktop', 'team'], 'href': 'https://www.espn.com/nfl/team/stats/_/name/ne/new-england-patriots', 'text': 'Statistics', 'shortText': 'Statistics', 'isExternal': False, 'isPremium': False, 'isHidden': False}, {'language': 'en-US', 'rel': ['schedule', 'desktop', 'team'], 'href': 'https://www.espn.com/nfl/team/schedule/_/name/ne', 'text': 'Schedule', 'shortText': 'Schedule', 'isExternal': False, 'isPremium': False, 'isHidden': False}, {'language': 'en-US', 'rel': ['tickets', 'desktop', 'team'], 'href': 'https://www.vividseats.com/new-england-patriots-tickets--sports-nfl-football/performer/592?wsUser=717', 'text': 'Tickets', 'shortText': 'Tickets', 'isExternal': True, 'isPremium': False, 'isHidden': False}, {'language': 'en-US', 'rel': ['depthchart', 'desktop', 'team'], 'href': 'https://www.espn.com/nfl/team/depth/_/name/ne', 'text': 'Depth Chart', 'shortText': 'Depth Chart', 'isExternal': False, 'isPremium': False, 'isHidden': False}]}}, {'team': {'id': '18', 'uid': 's:20~l:28~t:18', 'slug': 'new-orleans-saints', 'abbreviation': 'NO', 'displayName': 'New Orleans Saints', 'shortDisplayName': 'Saints', 'name': 'Saints', 'nickname': 'Saints', 'location': 'New Orleans', 'color': 'd3bc8d', 'alternateColor': '000000', 'isActive': True, 'isAllStar': False, 'logos': [{'href': 'https://a.espncdn.com/i/teamlogos/nfl/500/no.png', 'alt': '', 'rel': ['full', 'default'], 'width': 500, 'height': 500}, {'href': 'https://a.espncdn.com/i/teamlogos/nfl/500-dark/no.png', 'alt': '', 'rel': ['full', 'dark'], 'width': 500, 'height': 500}, {'href': 'https://a.espncdn.com/i/teamlogos/nfl/500/scoreboard/no.png', 'alt': '', 'rel': ['full', 'scoreboard'], 'width': 500, 'height': 500}, {'href': 'https://a.espncdn.com/i/teamlogos/nfl/500-dark/scoreboard/no.png', 'alt': '', 'rel': ['full', 'scoreboard', 'dark'], 'width': 500, 'height': 500}], 'links': [{'language': 'en-US', 'rel': ['clubhouse', 'desktop', 'team'], 'href': 'https://www.espn.com/nfl/team/_/name/no/new-orleans-saints', 'text': 'Clubhouse', 'shortText': 'Clubhouse', 'isExternal': False, 'isPremium': False, 'isHidden': False}, {'language': 'en-US', 'rel': ['roster', 'desktop', 'team'], 'href': 'https://www.espn.com/nfl/team/roster/_/name/no/new-orleans-saints', 'text': 'Roster', 'shortText': 'Roster', 'isExternal': False, 'isPremium': False, 'isHidden': False}, {'language': 'en-US', 'rel': ['stats', 'desktop', 'team'], 'href': 'https://www.espn.com/nfl/team/stats/_/name/no/new-orleans-saints', 'text': 'Statistics', 'shortText': 'Statistics', 'isExternal': False, 'isPremium': False, 'isHidden': False}, {'language': 'en-US', 'rel': ['schedule', 'desktop', 'team'], 'href': 'https://www.espn.com/nfl/team/schedule/_/name/no', 'text': 'Schedule', 'shortText': 'Schedule', 'isExternal': False, 'isPremium': False, 'isHidden': False}, {'language': 'en-US', 'rel': ['tickets', 'desktop', 'team'], 'href': 'https://www.vividseats.com/new-orleans-saints-tickets--sports-nfl-football/performer/597?wsUser=717', 'text': 'Tickets', 'shortText': 'Tickets', 'isExternal': True, 'isPremium': False, 'isHidden': False}, {'language': 'en-US', 'rel': ['depthchart', 'desktop', 'team'], 'href': 'https://www.espn.com/nfl/team/depth/_/name/no', 'text': 'Depth Chart', 'shortText': 'Depth Chart', 'isExternal': False, 'isPremium': False, 'isHidden': False}]}}, {'team': {'id': '19', 'uid': 's:20~l:28~t:19', 'slug': 'new-york-giants', 'abbreviation': 'NYG', 'displayName': 'New York Giants', 'shortDisplayName': 'Giants', 'name': 'Giants', 'nickname': 'Giants', 'location': 'New York', 'color': '003c7f', 'alternateColor': 'c9243f', 'isActive': True, 'isAllStar': False, 'logos': [{'href': 'https://a.espncdn.com/i/teamlogos/nfl/500/nyg.png', 'alt': '', 'rel': ['full', 'default'], 'width': 500, 'height': 500}, {'href': 'https://a.espncdn.com/i/teamlogos/nfl/500-dark/nyg.png', 'alt': '', 'rel': ['full', 'dark'], 'width': 500, 'height': 500}, {'href': 'https://a.espncdn.com/i/teamlogos/nfl/500/scoreboard/nyg.png', 'alt': '', 'rel': ['full', 'scoreboard'], 'width': 500, 'height': 500}, {'href': 'https://a.espncdn.com/i/teamlogos/nfl/500-dark/scoreboard/nyg.png', 'alt': '', 'rel': ['full', 'scoreboard', 'dark'], 'width': 500, 'height': 500}], 'links': [{'language': 'en-US', 'rel': ['clubhouse', 'desktop', 'team'], 'href': 'https://www.espn.com/nfl/team/_/name/nyg/new-york-giants', 'text': 'Clubhouse', 'shortText': 'Clubhouse', 'isExternal': False, 'isPremium': False, 'isHidden': False}, {'language': 'en-US', 'rel': ['roster', 'desktop', 'team'], 'href': 'https://www.espn.com/nfl/team/roster/_/name/nyg/new-york-giants', 'text': 'Roster', 'shortText': 'Roster', 'isExternal': False, 'isPremium': False, 'isHidden': False}, {'language': 'en-US', 'rel': ['stats', 'desktop', 'team'], 'href': 'https://www.espn.com/nfl/team/stats/_/name/nyg/new-york-giants', 'text': 'Statistics', 'shortText': 'Statistics', 'isExternal': False, 'isPremium': False, 'isHidden': False}, {'language': 'en-US', 'rel': ['schedule', 'desktop', 'team'], 'href': 'https://www.espn.com/nfl/team/schedule/_/name/nyg', 'text': 'Schedule', 'shortText': 'Schedule', 'isExternal': False, 'isPremium': False, 'isHidden': False}, {'language': 'en-US', 'rel': ['tickets', 'desktop', 'team'], 'href': 'https://www.vividseats.com/new-york-giants-tickets--sports-nfl-football/performer/599?wsUser=717', 'text': 'Tickets', 'shortText': 'Tickets', 'isExternal': True, 'isPremium': False, 'isHidden': False}, {'language': 'en-US', 'rel': ['depthchart', 'desktop', 'team'], 'href': 'https://www.espn.com/nfl/team/depth/_/name/nyg', 'text': 'Depth Chart', 'shortText': 'Depth Chart', 'isExternal': False, 'isPremium': False, 'isHidden': False}]}}, {'team': {'id': '20', 'uid': 's:20~l:28~t:20', 'slug': 'new-york-jets', 'abbreviation': 'NYJ', 'displayName': 'New York Jets', 'shortDisplayName': 'Jets', 'name': 'Jets', 'nickname': 'Jets', 'location': 'New York', 'color': '115740', 'alternateColor': 'ffffff', 'isActive': True, 'isAllStar': False, 'logos': [{'href': 'https://a.espncdn.com/i/teamlogos/nfl/500/nyj.png', 'alt': '', 'rel': ['full', 'default'], 'width': 500, 'height': 500}, {'href': 'https://a.espncdn.com/i/teamlogos/nfl/500-dark/nyj.png', 'alt': '', 'rel': ['full', 'dark'], 'width': 500, 'height': 500}, {'href': 'https://a.espncdn.com/i/teamlogos/nfl/500/scoreboard/nyj.png', 'alt': '', 'rel': ['full', 'scoreboard'], 'width': 500, 'height': 500}, {'href': 'https://a.espncdn.com/i/teamlogos/nfl/500-dark/scoreboard/nyj.png', 'alt': '', 'rel': ['full', 'scoreboard', 'dark'], 'width': 500, 'height': 500}], 'links': [{'language': 'en-US', 'rel': ['clubhouse', 'desktop', 'team'], 'href': 'https://www.espn.com/nfl/team/_/name/nyj/new-york-jets', 'text': 'Clubhouse', 'shortText': 'Clubhouse', 'isExternal': False, 'isPremium': False, 'isHidden': False}, {'language': 'en-US', 'rel': ['roster', 'desktop', 'team'], 'href': 'https://www.espn.com/nfl/team/roster/_/name/nyj/new-york-jets', 'text': 'Roster', 'shortText': 'Roster', 'isExternal': False, 'isPremium': False, 'isHidden': False}, {'language': 'en-US', 'rel': ['stats', 'desktop', 'team'], 'href': 'https://www.espn.com/nfl/team/stats/_/name/nyj/new-york-jets', 'text': 'Statistics', 'shortText': 'Statistics', 'isExternal': False, 'isPremium': False, 'isHidden': False}, {'language': 'en-US', 'rel': ['schedule', 'desktop', 'team'], 'href': 'https://www.espn.com/nfl/team/schedule/_/name/nyj', 'text': 'Schedule', 'shortText': 'Schedule', 'isExternal': False, 'isPremium': False, 'isHidden': False}, {'language': 'en-US', 'rel': ['tickets', 'desktop', 'team'], 'href': 'https://www.vividseats.com/new-york-jets-tickets--sports-nfl-football/performer/601?wsUser=717', 'text': 'Tickets', 'shortText': 'Tickets', 'isExternal': True, 'isPremium': False, 'isHidden': False}, {'language': 'en-US', 'rel': ['depthchart', 'desktop', 'team'], 'href': 'https://www.espn.com/nfl/team/depth/_/name/nyj', 'text': 'Depth Chart', 'shortText': 'Depth Chart', 'isExternal': False, 'isPremium': False, 'isHidden': False}]}}, {'team': {'id': '21', 'uid': 's:20~l:28~t:21', 'slug': 'philadelphia-eagles', 'abbreviation': 'PHI', 'displayName': 'Philadelphia Eagles', 'shortDisplayName': 'Eagles', 'name': 'Eagles', 'nickname': 'Eagles', 'location': 'Philadelphia', 'color': '06424d', 'alternateColor': '000000', 'isActive': True, 'isAllStar': False, 'logos': [{'href': 'https://a.espncdn.com/i/teamlogos/nfl/500/phi.png', 'alt': '', 'rel': ['full', 'default'], 'width': 500, 'height': 500}, {'href': 'https://a.espncdn.com/i/teamlogos/nfl/500-dark/phi.png', 'alt': '', 'rel': ['full', 'dark'], 'width': 500, 'height': 500}, {'href': 'https://a.espncdn.com/i/teamlogos/nfl/500/scoreboard/phi.png', 'alt': '', 'rel': ['full', 'scoreboard'], 'width': 500, 'height': 500}, {'href': 'https://a.espncdn.com/i/teamlogos/nfl/500-dark/scoreboard/phi.png', 'alt': '', 'rel': ['full', 'scoreboard', 'dark'], 'width': 500, 'height': 500}], 'links': [{'language': 'en-US', 'rel': ['clubhouse', 'desktop', 'team'], 'href': 'https://www.espn.com/nfl/team/_/name/phi/philadelphia-eagles', 'text': 'Clubhouse', 'shortText': 'Clubhouse', 'isExternal': False, 'isPremium': False, 'isHidden': False}, {'language': 'en-US', 'rel': ['roster', 'desktop', 'team'], 'href': 'https://www.espn.com/nfl/team/roster/_/name/phi/philadelphia-eagles', 'text': 'Roster', 'shortText': 'Roster', 'isExternal': False, 'isPremium': False, 'isHidden': False}, {'language': 'en-US', 'rel': ['stats', 'desktop', 'team'], 'href': 'https://www.espn.com/nfl/team/stats/_/name/phi/philadelphia-eagles', 'text': 'Statistics', 'shortText': 'Statistics', 'isExternal': False, 'isPremium': False, 'isHidden': False}, {'language': 'en-US', 'rel': ['schedule', 'desktop', 'team'], 'href': 'https://www.espn.com/nfl/team/schedule/_/name/phi', 'text': 'Schedule', 'shortText': 'Schedule', 'isExternal': False, 'isPremium': False, 'isHidden': False}, {'language': 'en-US', 'rel': ['tickets', 'desktop', 'team'], 'href': 'https://www.vividseats.com/philadelphia-eagles-tickets--sports-nfl-football/performer/669?wsUser=717', 'text': 'Tickets', 'shortText': 'Tickets', 'isExternal': True, 'isPremium': False, 'isHidden': False}, {'language': 'en-US', 'rel': ['depthchart', 'desktop', 'team'], 'href': 'https://www.espn.com/nfl/team/depth/_/name/phi', 'text': 'Depth Chart', 'shortText': 'Depth Chart', 'isExternal': False, 'isPremium': False, 'isHidden': False}]}}, {'team': {'id': '23', 'uid': 's:20~l:28~t:23', 'slug': 'pittsburgh-steelers', 'abbreviation': 'PIT', 'displayName': 'Pittsburgh Steelers', 'shortDisplayName': 'Steelers', 'name': 'Steelers', 'nickname': 'Steelers', 'location': 'Pittsburgh', 'color': '000000', 'alternateColor': 'ffb612', 'isActive': True, 'isAllStar': False, 'logos': [{'href': 'https://a.espncdn.com/i/teamlogos/nfl/500/pit.png', 'alt': '', 'rel': ['full', 'default'], 'width': 500, 'height': 500}, {'href': 'https://a.espncdn.com/i/teamlogos/nfl/500-dark/pit.png', 'alt': '', 'rel': ['full', 'dark'], 'width': 500, 'height': 500}, {'href': 'https://a.espncdn.com/i/teamlogos/nfl/500/scoreboard/pit.png', 'alt': '', 'rel': ['full', 'scoreboard'], 'width': 500, 'height': 500}, {'href': 'https://a.espncdn.com/i/teamlogos/nfl/500-dark/scoreboard/pit.png', 'alt': '', 'rel': ['full', 'scoreboard', 'dark'], 'width': 500, 'height': 500}], 'links': [{'language': 'en-US', 'rel': ['clubhouse', 'desktop', 'team'], 'href': 'https://www.espn.com/nfl/team/_/name/pit/pittsburgh-steelers', 'text': 'Clubhouse', 'shortText': 'Clubhouse', 'isExternal': False, 'isPremium': False, 'isHidden': False}, {'language': 'en-US', 'rel': ['roster', 'desktop', 'team'], 'href': 'https://www.espn.com/nfl/team/roster/_/name/pit/pittsburgh-steelers', 'text': 'Roster', 'shortText': 'Roster', 'isExternal': False, 'isPremium': False, 'isHidden': False}, {'language': 'en-US', 'rel': ['stats', 'desktop', 'team'], 'href': 'https://www.espn.com/nfl/team/stats/_/name/pit/pittsburgh-steelers', 'text': 'Statistics', 'shortText': 'Statistics', 'isExternal': False, 'isPremium': False, 'isHidden': False}, {'language': 'en-US', 'rel': ['schedule', 'desktop', 'team'], 'href': 'https://www.espn.com/nfl/team/schedule/_/name/pit', 'text': 'Schedule', 'shortText': 'Schedule', 'isExternal': False, 'isPremium': False, 'isHidden': False}, {'language': 'en-US', 'rel': ['tickets', 'desktop', 'team'], 'href': 'https://www.vividseats.com/pittsburgh-steelers-tickets--sports-nfl-football/performer/686?wsUser=717', 'text': 'Tickets', 'shortText': 'Tickets', 'isExternal': True, 'isPremium': False, 'isHidden': False}, {'language': 'en-US', 'rel': ['depthchart', 'desktop', 'team'], 'href': 'https://www.espn.com/nfl/team/depth/_/name/pit', 'text': 'Depth Chart', 'shortText': 'Depth Chart', 'isExternal': False, 'isPremium': False, 'isHidden': False}]}}, {'team': {'id': '25', 'uid': 's:20~l:28~t:25', 'slug': 'san-francisco-49ers', 'abbreviation': 'SF', 'displayName': 'San Francisco 49ers', 'shortDisplayName': '49ers', 'name': '49ers', 'nickname': '49ers', 'location': 'San Francisco', 'color': 'aa0000', 'alternateColor': 'b3995d', 'isActive': True, 'isAllStar': False, 'logos': [{'href': 'https://a.espncdn.com/i/teamlogos/nfl/500/sf.png', 'alt': '', 'rel': ['full', 'default'], 'width': 500, 'height': 500}, {'href': 'https://a.espncdn.com/i/teamlogos/nfl/500-dark/sf.png', 'alt': '', 'rel': ['full', 'dark'], 'width': 500, 'height': 500}, {'href': 'https://a.espncdn.com/i/teamlogos/nfl/500/scoreboard/sf.png', 'alt': '', 'rel': ['full', 'scoreboard'], 'width': 500, 'height': 500}, {'href': 'https://a.espncdn.com/i/teamlogos/nfl/500-dark/scoreboard/sf.png', 'alt': '', 'rel': ['full', 'scoreboard', 'dark'], 'width': 500, 'height': 500}], 'links': [{'language': 'en-US', 'rel': ['clubhouse', 'desktop', 'team'], 'href': 'https://www.espn.com/nfl/team/_/name/sf/san-francisco-49ers', 'text': 'Clubhouse', 'shortText': 'Clubhouse', 'isExternal': False, 'isPremium': False, 'isHidden': False}, {'language': 'en-US', 'rel': ['roster', 'desktop', 'team'], 'href': 'https://www.espn.com/nfl/team/roster/_/name/sf/san-francisco-49ers', 'text': 'Roster', 'shortText': 'Roster', 'isExternal': False, 'isPremium': False, 'isHidden': False}, {'language': 'en-US', 'rel': ['stats', 'desktop', 'team'], 'href': 'https://www.espn.com/nfl/team/stats/_/name/sf/san-francisco-49ers', 'text': 'Statistics', 'shortText': 'Statistics', 'isExternal': False, 'isPremium': False, 'isHidden': False}, {'language': 'en-US', 'rel': ['schedule', 'desktop', 'team'], 'href': 'https://www.espn.com/nfl/team/schedule/_/name/sf', 'text': 'Schedule', 'shortText': 'Schedule', 'isExternal': False, 'isPremium': False, 'isHidden': False}, {'language': 'en-US', 'rel': ['tickets', 'desktop', 'team'], 'href': 'https://www.vividseats.com/san-francisco-49ers-tickets--sports-nfl-football/performer/758?wsUser=717', 'text': 'Tickets', 'shortText': 'Tickets', 'isExternal': True, 'isPremium': False, 'isHidden': False}, {'language': 'en-US', 'rel': ['depthchart', 'desktop', 'team'], 'href': 'https://www.espn.com/nfl/team/depth/_/name/sf', 'text': 'Depth Chart', 'shortText': 'Depth Chart', 'isExternal': False, 'isPremium': False, 'isHidden': False}]}}, {'team': {'id': '26', 'uid': 's:20~l:28~t:26', 'slug': 'seattle-seahawks', 'abbreviation': 'SEA', 'displayName': 'Seattle Seahawks', 'shortDisplayName': 'Seahawks', 'name': 'Seahawks', 'nickname': 'Seahawks', 'location': 'Seattle', 'color': '002a5c', 'alternateColor': '69be28', 'isActive': True, 'isAllStar': False, 'logos': [{'href': 'https://a.espncdn.com/i/teamlogos/nfl/500/sea.png', 'alt': '', 'rel': ['full', 'default'], 'width': 500, 'height': 500}, {'href': 'https://a.espncdn.com/i/teamlogos/nfl/500-dark/sea.png', 'alt': '', 'rel': ['full', 'dark'], 'width': 500, 'height': 500}, {'href': 'https://a.espncdn.com/i/teamlogos/nfl/500/scoreboard/sea.png', 'alt': '', 'rel': ['full', 'scoreboard'], 'width': 500, 'height': 500}, {'href': 'https://a.espncdn.com/i/teamlogos/nfl/500-dark/scoreboard/sea.png', 'alt': '', 'rel': ['full', 'scoreboard', 'dark'], 'width': 500, 'height': 500}], 'links': [{'language': 'en-US', 'rel': ['clubhouse', 'desktop', 'team'], 'href': 'https://www.espn.com/nfl/team/_/name/sea/seattle-seahawks', 'text': 'Clubhouse', 'shortText': 'Clubhouse', 'isExternal': False, 'isPremium': False, 'isHidden': False}, {'language': 'en-US', 'rel': ['roster', 'desktop', 'team'], 'href': 'https://www.espn.com/nfl/team/roster/_/name/sea/seattle-seahawks', 'text': 'Roster', 'shortText': 'Roster', 'isExternal': False, 'isPremium': False, 'isHidden': False}, {'language': 'en-US', 'rel': ['stats', 'desktop', 'team'], 'href': 'https://www.espn.com/nfl/team/stats/_/name/sea/seattle-seahawks', 'text': 'Statistics', 'shortText': 'Statistics', 'isExternal': False, 'isPremium': False, 'isHidden': False}, {'language': 'en-US', 'rel': ['schedule', 'desktop', 'team'], 'href': 'https://www.espn.com/nfl/team/schedule/_/name/sea', 'text': 'Schedule', 'shortText': 'Schedule', 'isExternal': False, 'isPremium': False, 'isHidden': False}, {'language': 'en-US', 'rel': ['tickets', 'desktop', 'team'], 'href': 'https://www.vividseats.com/seattle-seahawks-tickets--sports-nfl-football/performer/772?wsUser=717', 'text': 'Tickets', 'shortText': 'Tickets', 'isExternal': True, 'isPremium': False, 'isHidden': False}, {'language': 'en-US', 'rel': ['depthchart', 'desktop', 'team'], 'href': 'https://www.espn.com/nfl/team/depth/_/name/sea', 'text': 'Depth Chart', 'shortText': 'Depth Chart', 'isExternal': False, 'isPremium': False, 'isHidden': False}]}}, {'team': {'id': '27', 'uid': 's:20~l:28~t:27', 'slug': 'tampa-bay-buccaneers', 'abbreviation': 'TB', 'displayName': 'Tampa Bay Buccaneers', 'shortDisplayName': 'Buccaneers', 'name': 'Buccaneers', 'nickname': 'Buccaneers', 'location': 'Tampa Bay', 'color': 'bd1c36', 'alternateColor': '3e3a35', 'isActive': True, 'isAllStar': False, 'logos': [{'href': 'https://a.espncdn.com/i/teamlogos/nfl/500/tb.png', 'alt': '', 'rel': ['full', 'default'], 'width': 500, 'height': 500}, {'href': 'https://a.espncdn.com/i/teamlogos/nfl/500-dark/tb.png', 'alt': '', 'rel': ['full', 'dark'], 'width': 500, 'height': 500}, {'href': 'https://a.espncdn.com/i/teamlogos/nfl/500/scoreboard/tb.png', 'alt': '', 'rel': ['full', 'scoreboard'], 'width': 500, 'height': 500}, {'href': 'https://a.espncdn.com/i/teamlogos/nfl/500-dark/scoreboard/tb.png', 'alt': '', 'rel': ['full', 'scoreboard', 'dark'], 'width': 500, 'height': 500}], 'links': [{'language': 'en-US', 'rel': ['clubhouse', 'desktop', 'team'], 'href': 'https://www.espn.com/nfl/team/_/name/tb/tampa-bay-buccaneers', 'text': 'Clubhouse', 'shortText': 'Clubhouse', 'isExternal': False, 'isPremium': False, 'isHidden': False}, {'language': 'en-US', 'rel': ['roster', 'desktop', 'team'], 'href': 'https://www.espn.com/nfl/team/roster/_/name/tb/tampa-bay-buccaneers', 'text': 'Roster', 'shortText': 'Roster', 'isExternal': False, 'isPremium': False, 'isHidden': False}, {'language': 'en-US', 'rel': ['stats', 'desktop', 'team'], 'href': 'https://www.espn.com/nfl/team/stats/_/name/tb/tampa-bay-buccaneers', 'text': 'Statistics', 'shortText': 'Statistics', 'isExternal': False, 'isPremium': False, 'isHidden': False}, {'language': 'en-US', 'rel': ['schedule', 'desktop', 'team'], 'href': 'https://www.espn.com/nfl/team/schedule/_/name/tb', 'text': 'Schedule', 'shortText': 'Schedule', 'isExternal': False, 'isPremium': False, 'isHidden': False}, {'language': 'en-US', 'rel': ['tickets', 'desktop', 'team'], 'href': 'https://www.vividseats.com/tampa-bay-buccaneers-tickets--sports-nfl-football/performer/839?wsUser=717', 'text': 'Tickets', 'shortText': 'Tickets', 'isExternal': True, 'isPremium': False, 'isHidden': False}, {'language': 'en-US', 'rel': ['depthchart', 'desktop', 'team'], 'href': 'https://www.espn.com/nfl/team/depth/_/name/tb', 'text': 'Depth Chart', 'shortText': 'Depth Chart', 'isExternal': False, 'isPremium': False, 'isHidden': False}]}}, {'team': {'id': '10', 'uid': 's:20~l:28~t:10', 'slug': 'tennessee-titans', 'abbreviation': 'TEN', 'displayName': 'Tennessee Titans', 'shortDisplayName': 'Titans', 'name': 'Titans', 'nickname': 'Titans', 'location': 'Tennessee', 'color': '4b92db', 'alternateColor': '002a5c', 'isActive': True, 'isAllStar': False, 'logos': [{'href': 'https://a.espncdn.com/i/teamlogos/nfl/500/ten.png', 'alt': '', 'rel': ['full', 'default'], 'width': 500, 'height': 500}, {'href': 'https://a.espncdn.com/i/teamlogos/nfl/500-dark/ten.png', 'alt': '', 'rel': ['full', 'dark'], 'width': 500, 'height': 500}, {'href': 'https://a.espncdn.com/i/teamlogos/nfl/500/scoreboard/ten.png', 'alt': '', 'rel': ['full', 'scoreboard'], 'width': 500, 'height': 500}, {'href': 'https://a.espncdn.com/i/teamlogos/nfl/500-dark/scoreboard/ten.png', 'alt': '', 'rel': ['full', 'scoreboard', 'dark'], 'width': 500, 'height': 500}], 'links': [{'language': 'en-US', 'rel': ['clubhouse', 'desktop', 'team'], 'href': 'https://www.espn.com/nfl/team/_/name/ten/tennessee-titans', 'text': 'Clubhouse', 'shortText': 'Clubhouse', 'isExternal': False, 'isPremium': False, 'isHidden': False}, {'language': 'en-US', 'rel': ['roster', 'desktop', 'team'], 'href': 'https://www.espn.com/nfl/team/roster/_/name/ten/tennessee-titans', 'text': 'Roster', 'shortText': 'Roster', 'isExternal': False, 'isPremium': False, 'isHidden': False}, {'language': 'en-US', 'rel': ['stats', 'desktop', 'team'], 'href': 'https://www.espn.com/nfl/team/stats/_/name/ten/tennessee-titans', 'text': 'Statistics', 'shortText': 'Statistics', 'isExternal': False, 'isPremium': False, 'isHidden': False}, {'language': 'en-US', 'rel': ['schedule', 'desktop', 'team'], 'href': 'https://www.espn.com/nfl/team/schedule/_/name/ten', 'text': 'Schedule', 'shortText': 'Schedule', 'isExternal': False, 'isPremium': False, 'isHidden': False}, {'language': 'en-US', 'rel': ['tickets', 'desktop', 'team'], 'href': 'https://www.vividseats.com/tennessee-titans-tickets--sports-nfl-football/performer/848?wsUser=717', 'text': 'Tickets', 'shortText': 'Tickets', 'isExternal': True, 'isPremium': False, 'isHidden': False}, {'language': 'en-US', 'rel': ['depthchart', 'desktop', 'team'], 'href': 'https://www.espn.com/nfl/team/depth/_/name/ten', 'text': 'Depth Chart', 'shortText': 'Depth Chart', 'isExternal': False, 'isPremium': False, 'isHidden': False}]}}, {'team': {'id': '28', 'uid': 's:20~l:28~t:28', 'slug': 'washington-commanders', 'abbreviation': 'WSH', 'displayName': 'Washington Commanders', 'shortDisplayName': 'Commanders', 'name': 'Commanders', 'nickname': 'Commanders', 'location': 'Washington', 'color': '5a1414', 'alternateColor': 'ffb612', 'isActive': True, 'isAllStar': False, 'logos': [{'href': 'https://a.espncdn.com/i/teamlogos/nfl/500/wsh.png', 'alt': '', 'rel': ['full', 'default'], 'width': 500, 'height': 500}, {'href': 'https://a.espncdn.com/i/teamlogos/nfl/500-dark/wsh.png', 'alt': '', 'rel': ['full', 'dark'], 'width': 500, 'height': 500}, {'href': 'https://a.espncdn.com/i/teamlogos/nfl/500/scoreboard/wsh.png', 'alt': '', 'rel': ['full', 'scoreboard'], 'width': 500, 'height': 500}, {'href': 'https://a.espncdn.com/i/teamlogos/nfl/500-dark/scoreboard/wsh.png', 'alt': '', 'rel': ['full', 'scoreboard', 'dark'], 'width': 500, 'height': 500}], 'links': [{'language': 'en-US', 'rel': ['clubhouse', 'desktop', 'team'], 'href': 'https://www.espn.com/nfl/team/_/name/wsh/washington-commanders', 'text': 'Clubhouse', 'shortText': 'Clubhouse', 'isExternal': False, 'isPremium': False, 'isHidden': False}, {'language': 'en-US', 'rel': ['roster', 'desktop', 'team'], 'href': 'https://www.espn.com/nfl/team/roster/_/name/wsh/washington-commanders', 'text': 'Roster', 'shortText': 'Roster', 'isExternal': False, 'isPremium': False, 'isHidden': False}, {'language': 'en-US', 'rel': ['stats', 'desktop', 'team'], 'href': 'https://www.espn.com/nfl/team/stats/_/name/wsh/washington-commanders', 'text': 'Statistics', 'shortText': 'Statistics', 'isExternal': False, 'isPremium': False, 'isHidden': False}, {'language': 'en-US', 'rel': ['schedule', 'desktop', 'team'], 'href': 'https://www.espn.com/nfl/team/schedule/_/name/wsh', 'text': 'Schedule', 'shortText': 'Schedule', 'isExternal': False, 'isPremium': False, 'isHidden': False}, {'language': 'en-US', 'rel': ['tickets', 'desktop', 'team'], 'href': 'https://www.vividseats.com/washington-commanders-tickets--sports-nfl-football/performer/925?wsUser=717', 'text': 'Tickets', 'shortText': 'Tickets', 'isExternal': True, 'isPremium': False, 'isHidden': False}, {'language': 'en-US', 'rel': ['depthchart', 'desktop', 'team'], 'href': 'https://www.espn.com/nfl/team/depth/_/name/wsh', 'text': 'Depth Chart', 'shortText': 'Depth Chart', 'isExternal': False, 'isPremium': False, 'isHidden': False}]}}]\n"
     ]
    }
   ],
   "source": [
    "url = \"https://nfl-api-data.p.rapidapi.com/nfl-team-listing/v1/data\"\n",
    "\n",
    "headers = {\n",
    "\t\"x-rapidapi-key\": \"546d4a34f1msh61af993ffc55cddp1aaecejsn67b84b3b171e\",\n",
    "\t\"x-rapidapi-host\": \"nfl-api-data.p.rapidapi.com\"\n",
    "}\n",
    "\n",
    "teams_data = requests.get(url, headers=headers)\n",
    "\n",
    "print(teams_data.json())"
   ]
  },
  {
   "cell_type": "code",
   "execution_count": 93,
   "id": "9c4525e2-1121-4431-9e8f-369e70543c02",
   "metadata": {},
   "outputs": [
    {
     "data": {
      "text/html": [
       "<div>\n",
       "<style scoped>\n",
       "    .dataframe tbody tr th:only-of-type {\n",
       "        vertical-align: middle;\n",
       "    }\n",
       "\n",
       "    .dataframe tbody tr th {\n",
       "        vertical-align: top;\n",
       "    }\n",
       "\n",
       "    .dataframe thead th {\n",
       "        text-align: right;\n",
       "    }\n",
       "</style>\n",
       "<table border=\"1\" class=\"dataframe\">\n",
       "  <thead>\n",
       "    <tr style=\"text-align: right;\">\n",
       "      <th></th>\n",
       "      <th>team.id</th>\n",
       "      <th>team.uid</th>\n",
       "      <th>team.slug</th>\n",
       "      <th>team.abbreviation</th>\n",
       "      <th>team.displayName</th>\n",
       "      <th>team.shortDisplayName</th>\n",
       "      <th>team.name</th>\n",
       "      <th>team.nickname</th>\n",
       "      <th>team.location</th>\n",
       "      <th>team.color</th>\n",
       "      <th>team.alternateColor</th>\n",
       "      <th>team.isActive</th>\n",
       "      <th>team.isAllStar</th>\n",
       "      <th>team.logos</th>\n",
       "      <th>team.links</th>\n",
       "    </tr>\n",
       "  </thead>\n",
       "  <tbody>\n",
       "    <tr>\n",
       "      <th>0</th>\n",
       "      <td>22</td>\n",
       "      <td>s:20~l:28~t:22</td>\n",
       "      <td>arizona-cardinals</td>\n",
       "      <td>ARI</td>\n",
       "      <td>Arizona Cardinals</td>\n",
       "      <td>Cardinals</td>\n",
       "      <td>Cardinals</td>\n",
       "      <td>Cardinals</td>\n",
       "      <td>Arizona</td>\n",
       "      <td>a40227</td>\n",
       "      <td>ffffff</td>\n",
       "      <td>True</td>\n",
       "      <td>False</td>\n",
       "      <td>[{'href': 'https://a.espncdn.com/i/teamlogos/n...</td>\n",
       "      <td>[{'language': 'en-US', 'rel': ['clubhouse', 'd...</td>\n",
       "    </tr>\n",
       "    <tr>\n",
       "      <th>1</th>\n",
       "      <td>1</td>\n",
       "      <td>s:20~l:28~t:1</td>\n",
       "      <td>atlanta-falcons</td>\n",
       "      <td>ATL</td>\n",
       "      <td>Atlanta Falcons</td>\n",
       "      <td>Falcons</td>\n",
       "      <td>Falcons</td>\n",
       "      <td>Falcons</td>\n",
       "      <td>Atlanta</td>\n",
       "      <td>a71930</td>\n",
       "      <td>000000</td>\n",
       "      <td>True</td>\n",
       "      <td>False</td>\n",
       "      <td>[{'href': 'https://a.espncdn.com/i/teamlogos/n...</td>\n",
       "      <td>[{'language': 'en-US', 'rel': ['clubhouse', 'd...</td>\n",
       "    </tr>\n",
       "    <tr>\n",
       "      <th>2</th>\n",
       "      <td>33</td>\n",
       "      <td>s:20~l:28~t:33</td>\n",
       "      <td>baltimore-ravens</td>\n",
       "      <td>BAL</td>\n",
       "      <td>Baltimore Ravens</td>\n",
       "      <td>Ravens</td>\n",
       "      <td>Ravens</td>\n",
       "      <td>Ravens</td>\n",
       "      <td>Baltimore</td>\n",
       "      <td>29126f</td>\n",
       "      <td>000000</td>\n",
       "      <td>True</td>\n",
       "      <td>False</td>\n",
       "      <td>[{'href': 'https://a.espncdn.com/i/teamlogos/n...</td>\n",
       "      <td>[{'language': 'en-US', 'rel': ['clubhouse', 'd...</td>\n",
       "    </tr>\n",
       "    <tr>\n",
       "      <th>3</th>\n",
       "      <td>2</td>\n",
       "      <td>s:20~l:28~t:2</td>\n",
       "      <td>buffalo-bills</td>\n",
       "      <td>BUF</td>\n",
       "      <td>Buffalo Bills</td>\n",
       "      <td>Bills</td>\n",
       "      <td>Bills</td>\n",
       "      <td>Bills</td>\n",
       "      <td>Buffalo</td>\n",
       "      <td>00338d</td>\n",
       "      <td>d50a0a</td>\n",
       "      <td>True</td>\n",
       "      <td>False</td>\n",
       "      <td>[{'href': 'https://a.espncdn.com/i/teamlogos/n...</td>\n",
       "      <td>[{'language': 'en-US', 'rel': ['clubhouse', 'd...</td>\n",
       "    </tr>\n",
       "    <tr>\n",
       "      <th>4</th>\n",
       "      <td>29</td>\n",
       "      <td>s:20~l:28~t:29</td>\n",
       "      <td>carolina-panthers</td>\n",
       "      <td>CAR</td>\n",
       "      <td>Carolina Panthers</td>\n",
       "      <td>Panthers</td>\n",
       "      <td>Panthers</td>\n",
       "      <td>Panthers</td>\n",
       "      <td>Carolina</td>\n",
       "      <td>0085ca</td>\n",
       "      <td>000000</td>\n",
       "      <td>True</td>\n",
       "      <td>False</td>\n",
       "      <td>[{'href': 'https://a.espncdn.com/i/teamlogos/n...</td>\n",
       "      <td>[{'language': 'en-US', 'rel': ['clubhouse', 'd...</td>\n",
       "    </tr>\n",
       "  </tbody>\n",
       "</table>\n",
       "</div>"
      ],
      "text/plain": [
       "  team.id        team.uid          team.slug team.abbreviation  \\\n",
       "0      22  s:20~l:28~t:22  arizona-cardinals               ARI   \n",
       "1       1   s:20~l:28~t:1    atlanta-falcons               ATL   \n",
       "2      33  s:20~l:28~t:33   baltimore-ravens               BAL   \n",
       "3       2   s:20~l:28~t:2      buffalo-bills               BUF   \n",
       "4      29  s:20~l:28~t:29  carolina-panthers               CAR   \n",
       "\n",
       "    team.displayName team.shortDisplayName  team.name team.nickname  \\\n",
       "0  Arizona Cardinals             Cardinals  Cardinals     Cardinals   \n",
       "1    Atlanta Falcons               Falcons    Falcons       Falcons   \n",
       "2   Baltimore Ravens                Ravens     Ravens        Ravens   \n",
       "3      Buffalo Bills                 Bills      Bills         Bills   \n",
       "4  Carolina Panthers              Panthers   Panthers      Panthers   \n",
       "\n",
       "  team.location team.color team.alternateColor  team.isActive  team.isAllStar  \\\n",
       "0       Arizona     a40227              ffffff           True           False   \n",
       "1       Atlanta     a71930              000000           True           False   \n",
       "2     Baltimore     29126f              000000           True           False   \n",
       "3       Buffalo     00338d              d50a0a           True           False   \n",
       "4      Carolina     0085ca              000000           True           False   \n",
       "\n",
       "                                          team.logos  \\\n",
       "0  [{'href': 'https://a.espncdn.com/i/teamlogos/n...   \n",
       "1  [{'href': 'https://a.espncdn.com/i/teamlogos/n...   \n",
       "2  [{'href': 'https://a.espncdn.com/i/teamlogos/n...   \n",
       "3  [{'href': 'https://a.espncdn.com/i/teamlogos/n...   \n",
       "4  [{'href': 'https://a.espncdn.com/i/teamlogos/n...   \n",
       "\n",
       "                                          team.links  \n",
       "0  [{'language': 'en-US', 'rel': ['clubhouse', 'd...  \n",
       "1  [{'language': 'en-US', 'rel': ['clubhouse', 'd...  \n",
       "2  [{'language': 'en-US', 'rel': ['clubhouse', 'd...  \n",
       "3  [{'language': 'en-US', 'rel': ['clubhouse', 'd...  \n",
       "4  [{'language': 'en-US', 'rel': ['clubhouse', 'd...  "
      ]
     },
     "execution_count": 93,
     "metadata": {},
     "output_type": "execute_result"
    }
   ],
   "source": [
    "# Step 4: Normalize the nested data to flatten it\n",
    "df = pd.json_normalize(data)\n",
    "\n",
    "# Step 5: Display the DataFrame in a readable format\n",
    "df.head()  # Display the first few rows of the flattened DataFrame"
   ]
  },
  {
   "cell_type": "markdown",
   "id": "59fade8c-757d-4287-be9c-a5921cdd311c",
   "metadata": {},
   "source": [
    "### Part 1: Replace Headers"
   ]
  },
  {
   "cell_type": "code",
   "execution_count": 97,
   "id": "9bab6288-434c-4d13-b5ed-173a2093126d",
   "metadata": {},
   "outputs": [
    {
     "name": "stdout",
     "output_type": "stream",
     "text": [
      "  team.id        team.uid          team.slug team.abbreviation  \\\n",
      "0      22  s:20~l:28~t:22  arizona-cardinals               ARI   \n",
      "1       1   s:20~l:28~t:1    atlanta-falcons               ATL   \n",
      "2      33  s:20~l:28~t:33   baltimore-ravens               BAL   \n",
      "3       2   s:20~l:28~t:2      buffalo-bills               BUF   \n",
      "4      29  s:20~l:28~t:29  carolina-panthers               CAR   \n",
      "\n",
      "    team.displayName team.shortDisplayName  Team Name   Nickname   Location  \\\n",
      "0  Arizona Cardinals             Cardinals  Cardinals  Cardinals    Arizona   \n",
      "1    Atlanta Falcons               Falcons    Falcons    Falcons    Atlanta   \n",
      "2   Baltimore Ravens                Ravens     Ravens     Ravens  Baltimore   \n",
      "3      Buffalo Bills                 Bills      Bills      Bills    Buffalo   \n",
      "4  Carolina Panthers              Panthers   Panthers   Panthers   Carolina   \n",
      "\n",
      "  team.color team.alternateColor  team.isActive  team.isAllStar  \\\n",
      "0     a40227              ffffff           True           False   \n",
      "1     a71930              000000           True           False   \n",
      "2     29126f              000000           True           False   \n",
      "3     00338d              d50a0a           True           False   \n",
      "4     0085ca              000000           True           False   \n",
      "\n",
      "                                          team.logos  \\\n",
      "0  [{'href': 'https://a.espncdn.com/i/teamlogos/n...   \n",
      "1  [{'href': 'https://a.espncdn.com/i/teamlogos/n...   \n",
      "2  [{'href': 'https://a.espncdn.com/i/teamlogos/n...   \n",
      "3  [{'href': 'https://a.espncdn.com/i/teamlogos/n...   \n",
      "4  [{'href': 'https://a.espncdn.com/i/teamlogos/n...   \n",
      "\n",
      "                                          team.links  \n",
      "0  [{'language': 'en-US', 'rel': ['clubhouse', 'd...  \n",
      "1  [{'language': 'en-US', 'rel': ['clubhouse', 'd...  \n",
      "2  [{'language': 'en-US', 'rel': ['clubhouse', 'd...  \n",
      "3  [{'language': 'en-US', 'rel': ['clubhouse', 'd...  \n",
      "4  [{'language': 'en-US', 'rel': ['clubhouse', 'd...  \n"
     ]
    }
   ],
   "source": [
    "# Rename columns (e.g., from 'team.name' to 'Team Name')\n",
    "df.rename(columns={\n",
    "    'team.name': 'Team Name',\n",
    "    'team.nickname': 'Nickname',\n",
    "    'team.location': 'Location'\n",
    "}, inplace=True)\n",
    "\n",
    "# Display the cleaned DataFrame\n",
    "print(df.head())  # Display the first few rows of the renamed DataFrame"
   ]
  },
  {
   "cell_type": "markdown",
   "id": "f0c66008-2faa-457f-9248-ace4ce70064d",
   "metadata": {},
   "source": [
    "### Part 2 Find Duplicates"
   ]
  },
  {
   "cell_type": "code",
   "execution_count": 107,
   "id": "a99df040-043b-47a9-bbd4-bd4877b11454",
   "metadata": {},
   "outputs": [
    {
     "name": "stdout",
     "output_type": "stream",
     "text": [
      "No duplicates found.\n"
     ]
    }
   ],
   "source": [
    "# Check for duplicates based on the actual column names \n",
    "duplicates = df[df.duplicated(subset=['Team Name', 'Location'], keep=False)]\n",
    "\n",
    "# Display the duplicated rows\n",
    "if not duplicates.empty:\n",
    "    print(\"Duplicate rows found:\")\n",
    "    print(duplicates)\n",
    "else:\n",
    "    print(\"No duplicates found.\")"
   ]
  },
  {
   "cell_type": "markdown",
   "id": "162d936e-8b74-4187-a3ab-465148756f09",
   "metadata": {},
   "source": [
    "### Part 3 Format data into a more readable format"
   ]
  },
  {
   "cell_type": "code",
   "execution_count": 72,
   "id": "e96cea53-94c7-4639-af71-3e893d8cbfff",
   "metadata": {},
   "outputs": [
    {
     "name": "stdout",
     "output_type": "stream",
     "text": [
      "Formatted DataFrame:\n",
      "   Team Name   Nickname   Location\n",
      "0  Cardinals  Cardinals    Arizona\n",
      "1    Falcons    Falcons    Atlanta\n",
      "2     Ravens     Ravens  Baltimore\n",
      "3      Bills      Bills    Buffalo\n",
      "4   Panthers   Panthers   Carolina\n"
     ]
    }
   ],
   "source": [
    "# Select important columns\n",
    "df_cleaned = df_cleaned[['Team Name', 'Nickname', 'Location']]  \n",
    "\n",
    "# Display the cleaned and formatted DataFrame\n",
    "print(\"Formatted DataFrame:\")\n",
    "print(df_cleaned.head())"
   ]
  },
  {
   "cell_type": "markdown",
   "id": "04dcb52d-e4c1-4ff8-8175-46b3653056f5",
   "metadata": {},
   "source": [
    "### Part 4 Identify outliers and bad data"
   ]
  },
  {
   "cell_type": "code",
   "execution_count": 81,
   "id": "359e0d3c-1fad-4d72-ad85-99e26135f286",
   "metadata": {},
   "outputs": [
    {
     "name": "stdout",
     "output_type": "stream",
     "text": [
      "Outliers based on Z-score:\n",
      " Empty DataFrame\n",
      "Columns: [team.id, team.uid, team.slug, team.abbreviation, team.displayName, team.shortDisplayName, Team Name, Nickname, Location, team.color, team.alternateColor, team.isActive, team.isAllStar, team.logos, team.links]\n",
      "Index: []\n",
      "Outliers based on IQR:\n",
      " Empty DataFrame\n",
      "Columns: [team.id, team.uid, team.slug, team.abbreviation, team.displayName, team.shortDisplayName, Team Name, Nickname, Location, team.color, team.alternateColor, team.isActive, team.isAllStar, team.logos, team.links]\n",
      "Index: []\n",
      "Cleaned DataFrame:\n",
      "    team.id        team.uid          team.slug team.abbreviation  \\\n",
      "0       22  s:20~l:28~t:22  arizona-cardinals               ARI   \n",
      "1        1   s:20~l:28~t:1    atlanta-falcons               ATL   \n",
      "2       33  s:20~l:28~t:33   baltimore-ravens               BAL   \n",
      "3        2   s:20~l:28~t:2      buffalo-bills               BUF   \n",
      "4       29  s:20~l:28~t:29  carolina-panthers               CAR   \n",
      "\n",
      "    team.displayName team.shortDisplayName  Team Name   Nickname   Location  \\\n",
      "0  Arizona Cardinals             Cardinals  Cardinals  Cardinals    Arizona   \n",
      "1    Atlanta Falcons               Falcons    Falcons    Falcons    Atlanta   \n",
      "2   Baltimore Ravens                Ravens     Ravens     Ravens  Baltimore   \n",
      "3      Buffalo Bills                 Bills      Bills      Bills    Buffalo   \n",
      "4  Carolina Panthers              Panthers   Panthers   Panthers   Carolina   \n",
      "\n",
      "  team.color team.alternateColor  team.isActive  team.isAllStar  \\\n",
      "0     a40227              ffffff           True           False   \n",
      "1     a71930              000000           True           False   \n",
      "2     29126f              000000           True           False   \n",
      "3     00338d              d50a0a           True           False   \n",
      "4     0085ca              000000           True           False   \n",
      "\n",
      "                                          team.logos  \\\n",
      "0  [{'href': 'https://a.espncdn.com/i/teamlogos/n...   \n",
      "1  [{'href': 'https://a.espncdn.com/i/teamlogos/n...   \n",
      "2  [{'href': 'https://a.espncdn.com/i/teamlogos/n...   \n",
      "3  [{'href': 'https://a.espncdn.com/i/teamlogos/n...   \n",
      "4  [{'href': 'https://a.espncdn.com/i/teamlogos/n...   \n",
      "\n",
      "                                          team.links  \n",
      "0  [{'language': 'en-US', 'rel': ['clubhouse', 'd...  \n",
      "1  [{'language': 'en-US', 'rel': ['clubhouse', 'd...  \n",
      "2  [{'language': 'en-US', 'rel': ['clubhouse', 'd...  \n",
      "3  [{'language': 'en-US', 'rel': ['clubhouse', 'd...  \n",
      "4  [{'language': 'en-US', 'rel': ['clubhouse', 'd...  \n"
     ]
    }
   ],
   "source": [
    "import numpy as np  # Import numpy to handle numerical operations\n",
    "from scipy import stats  # Import scipy for Z-score calculation\n",
    "\n",
    "# Identify outliers using Z-score\n",
    "numeric_columns = ['team.id'] \n",
    "df_cleaned[numeric_columns] = df_cleaned[numeric_columns].apply(pd.to_numeric, errors='coerce')\n",
    "\n",
    "# Calculate Z-scores\n",
    "z_scores = np.abs(stats.zscore(df_cleaned[numeric_columns]))\n",
    "outliers = df_cleaned[(z_scores > 3).any(axis=1)]  # Identifies rows where Z-score > 3 (outliers)\n",
    "\n",
    "print(\"Outliers based on Z-score:\\n\", outliers)\n",
    "\n",
    "# identify outliers using IQR (Interquartile Range)\n",
    "Q1 = df_cleaned[numeric_columns].quantile(0.25)\n",
    "Q3 = df_cleaned[numeric_columns].quantile(0.75)\n",
    "IQR = Q3 - Q1\n",
    "\n",
    "# Define outliers as data points below Q1 - 1.5*IQR or above Q3 + 1.5*IQR\n",
    "outliers_iqr = df_cleaned[((df_cleaned[numeric_columns] < (Q1 - 1.5 * IQR)) | \n",
    "                           (df_cleaned[numeric_columns] > (Q3 + 1.5 * IQR))).any(axis=1)]\n",
    "\n",
    "print(\"Outliers based on IQR:\\n\", outliers_iqr)\n",
    "\n",
    "# Cleaning and formatting\n",
    "df_final = df_cleaned.drop(outliers.index)  # Remove outliers if needed\n",
    "print(\"Cleaned DataFrame:\\n\", df_final.head())"
   ]
  },
  {
   "cell_type": "markdown",
   "id": "8a258709-c418-49c3-be09-baa266b079bb",
   "metadata": {},
   "source": [
    "### Part 5 Fix casing or inconsistent values"
   ]
  },
  {
   "cell_type": "code",
   "execution_count": 101,
   "id": "895578e0-0fd5-4d9f-b355-9c5667c0b386",
   "metadata": {},
   "outputs": [
    {
     "name": "stdout",
     "output_type": "stream",
     "text": [
      "Cleaned and standardized DataFrame:\n",
      "  team.id        team.uid          team.slug team.abbreviation  \\\n",
      "0      22  s:20~l:28~t:22  arizona-cardinals               ARI   \n",
      "1       1   s:20~l:28~t:1    atlanta-falcons               ATL   \n",
      "2      33  s:20~l:28~t:33   baltimore-ravens               BAL   \n",
      "3       2   s:20~l:28~t:2      buffalo-bills               BUF   \n",
      "4      29  s:20~l:28~t:29  carolina-panthers               CAR   \n",
      "\n",
      "    team.displayName team.shortDisplayName  Team Name   Nickname   Location  \\\n",
      "0  Arizona Cardinals             Cardinals  Cardinals  cardinals    Arizona   \n",
      "1    Atlanta Falcons               Falcons    Falcons    falcons    Atlanta   \n",
      "2   Baltimore Ravens                Ravens     Ravens     ravens  Baltimore   \n",
      "3      Buffalo Bills                 Bills      Bills      bills    Buffalo   \n",
      "4  Carolina Panthers              Panthers   Panthers   panthers   Carolina   \n",
      "\n",
      "  team.color team.alternateColor  team.isActive  team.isAllStar  \\\n",
      "0     a40227              ffffff           True           False   \n",
      "1     a71930              000000           True           False   \n",
      "2     29126f              000000           True           False   \n",
      "3     00338d              d50a0a           True           False   \n",
      "4     0085ca              000000           True           False   \n",
      "\n",
      "                                          team.logos  \\\n",
      "0  [{'href': 'https://a.espncdn.com/i/teamlogos/n...   \n",
      "1  [{'href': 'https://a.espncdn.com/i/teamlogos/n...   \n",
      "2  [{'href': 'https://a.espncdn.com/i/teamlogos/n...   \n",
      "3  [{'href': 'https://a.espncdn.com/i/teamlogos/n...   \n",
      "4  [{'href': 'https://a.espncdn.com/i/teamlogos/n...   \n",
      "\n",
      "                                          team.links  \n",
      "0  [{'language': 'en-US', 'rel': ['clubhouse', 'd...  \n",
      "1  [{'language': 'en-US', 'rel': ['clubhouse', 'd...  \n",
      "2  [{'language': 'en-US', 'rel': ['clubhouse', 'd...  \n",
      "3  [{'language': 'en-US', 'rel': ['clubhouse', 'd...  \n",
      "4  [{'language': 'en-US', 'rel': ['clubhouse', 'd...  \n"
     ]
    }
   ],
   "source": [
    "# Fix casing and remove extra whitespace in relevant columns\n",
    "df['Team Name'] = df['Team Name'].str.strip().str.title()  # Title case for team names\n",
    "df['Nickname'] = df['Nickname'].str.strip().str.lower()  # Lowercase for nicknames\n",
    "df['Location'] = df['Location'].str.strip().str.title()  # Title case for location\n",
    "\n",
    "# Handle inconsistent values \n",
    "df['Location'] = df['Location'].replace({\n",
    "    'Sf': 'San Francisco', \n",
    "    'San Fran': 'San Francisco'\n",
    "})\n",
    "\n",
    "# Display the cleaned and standardized DataFrame\n",
    "print(\"Cleaned and standardized DataFrame:\")\n",
    "print(df.head())"
   ]
  },
  {
   "cell_type": "code",
   "execution_count": null,
   "id": "8e2d9a45-6c47-45f0-be4d-fecef90ad314",
   "metadata": {},
   "outputs": [],
   "source": []
  }
 ],
 "metadata": {
  "kernelspec": {
   "display_name": "Python 3 (ipykernel)",
   "language": "python",
   "name": "python3"
  },
  "language_info": {
   "codemirror_mode": {
    "name": "ipython",
    "version": 3
   },
   "file_extension": ".py",
   "mimetype": "text/x-python",
   "name": "python",
   "nbconvert_exporter": "python",
   "pygments_lexer": "ipython3",
   "version": "3.11.7"
  }
 },
 "nbformat": 4,
 "nbformat_minor": 5
}
