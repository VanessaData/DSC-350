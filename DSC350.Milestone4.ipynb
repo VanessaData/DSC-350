{
 "cells": [
  {
   "cell_type": "code",
   "execution_count": 37,
   "id": "dcdb1983-9c09-46a4-96c1-fe15691b86cf",
   "metadata": {},
   "outputs": [],
   "source": [
    "import pandas as pd\n",
    "import numpy as py"
   ]
  },
  {
   "cell_type": "code",
   "execution_count": 39,
   "id": "eff21b77-628b-4754-8459-cbbcd422e825",
   "metadata": {},
   "outputs": [
    {
     "name": "stdout",
     "output_type": "stream",
     "text": [
      "Requirement already satisfied: requests in c:\\users\\tnh05\\anaconda3\\aco\\lib\\site-packages (2.31.0)Note: you may need to restart the kernel to use updated packages.\n",
      "\n",
      "Requirement already satisfied: charset-normalizer<4,>=2 in c:\\users\\tnh05\\anaconda3\\aco\\lib\\site-packages (from requests) (2.0.4)\n",
      "Requirement already satisfied: idna<4,>=2.5 in c:\\users\\tnh05\\anaconda3\\aco\\lib\\site-packages (from requests) (3.4)\n",
      "Requirement already satisfied: urllib3<3,>=1.21.1 in c:\\users\\tnh05\\anaconda3\\aco\\lib\\site-packages (from requests) (2.0.7)\n",
      "Requirement already satisfied: certifi>=2017.4.17 in c:\\users\\tnh05\\anaconda3\\aco\\lib\\site-packages (from requests) (2024.8.30)\n"
     ]
    }
   ],
   "source": [
    "pip install requests"
   ]
  },
  {
   "cell_type": "code",
   "execution_count": 40,
   "id": "5be1d9a4-f033-4773-b455-02e41222eee9",
   "metadata": {},
   "outputs": [],
   "source": [
    "import requests"
   ]
  },
  {
   "cell_type": "code",
   "execution_count": 43,
   "id": "13fc58cc-37b7-4f48-b8be-c7a0027f04c1",
   "metadata": {},
   "outputs": [
    {
     "name": "stdout",
     "output_type": "stream",
     "text": [
      "Requirement already satisfied: beautifulsoup4 in c:\\users\\tnh05\\anaconda3\\aco\\lib\\site-packages (4.12.2)\n",
      "Requirement already satisfied: soupsieve>1.2 in c:\\users\\tnh05\\anaconda3\\aco\\lib\\site-packages (from beautifulsoup4) (2.5)\n",
      "Note: you may need to restart the kernel to use updated packages.\n"
     ]
    }
   ],
   "source": [
    "pip install beautifulsoup4"
   ]
  },
  {
   "cell_type": "code",
   "execution_count": 47,
   "id": "411d415d-cd30-4105-9291-6b9ac0d23414",
   "metadata": {},
   "outputs": [
    {
     "name": "stdout",
     "output_type": "stream",
     "text": [
      "Successfully extracted data\n"
     ]
    }
   ],
   "source": [
    "url = 'https://www.pro-football-reference.com/years/#years'\n",
    "response = requests.get(url)\n",
    "if response.status_code == 200:\n",
    "    htmlcontent = response.text\n",
    "    print('Successfully extracted data')\n",
    "else: \n",
    "    print('There was a problem')"
   ]
  },
  {
   "cell_type": "code",
   "execution_count": null,
   "id": "121ab644-5bcc-4a56-9452-a6fb36804602",
   "metadata": {},
   "outputs": [],
   "source": [
    "response = requests.get(url)\n",
    "response.raise_for_status() "
   ]
  },
  {
   "cell_type": "code",
   "execution_count": null,
   "id": "53546813-270c-4921-ad4b-1246799a7228",
   "metadata": {},
   "outputs": [],
   "source": []
  },
  {
   "cell_type": "code",
   "execution_count": 56,
   "id": "f85160ca-6555-4ff6-be6c-9509756101ac",
   "metadata": {},
   "outputs": [
    {
     "name": "stdout",
     "output_type": "stream",
     "text": [
      "Table 1\n",
      "   Year   Lg                                         Unnamed: 2\n",
      "0  2024  NFL                                                NaN\n",
      "1  2023  NFL  Super Bowl LVIII: Kansas City Chiefs (AFC,11-6...\n",
      "2  2022  NFL  Super Bowl LVII: Kansas City Chiefs (AFC,14-3)...\n",
      "3  2021  NFL  Super Bowl LVI: Los Angeles Rams (NFC,12-5) de...\n",
      "4  2020  NFL  Super Bowl LV: Tampa Bay Buccaneers (NFC,11-5)...\n",
      "\n",
      "\n"
     ]
    }
   ],
   "source": [
    "import requests\n",
    "\n",
    "# Make a GET request to fetch the page content\n",
    "response = requests.get(url)\n",
    "response.raise_for_status()  # Check if the request was successful\n",
    "\n",
    "# Parse the page content with BeautifulSoup\n",
    "soup = BeautifulSoup(response.text, 'html.parser')\n",
    "\n",
    "# Find tables on the page and extract them into pandas dataframes\n",
    "# (assuming each year's stats are within HTML tables)\n",
    "tables = pd.read_html(str(soup))\n",
    "\n",
    "# Print each table\n",
    "for i, table in enumerate(tables):\n",
    "    print(f\"Table {i + 1}\")\n",
    "    print(table.head())  # Display the first few rows of each table for inspection\n",
    "    print(\"\\n\")\n"
   ]
  },
  {
   "cell_type": "markdown",
   "id": "45c8b166-ca89-4142-b020-ed18ddb98465",
   "metadata": {},
   "source": [
    "### Part 1 Replace Headers"
   ]
  },
  {
   "cell_type": "code",
   "execution_count": 59,
   "id": "fde94643-1127-4976-a13a-f184db5a015d",
   "metadata": {},
   "outputs": [
    {
     "name": "stdout",
     "output_type": "stream",
     "text": [
      "Modified Table with Updated Headers:\n",
      "     Yr league                                         Unnamed: 2\n",
      "0  2024    NFL                                                NaN\n",
      "1  2023    NFL  Super Bowl LVIII: Kansas City Chiefs (AFC,11-6...\n",
      "2  2022    NFL  Super Bowl LVII: Kansas City Chiefs (AFC,14-3)...\n",
      "3  2021    NFL  Super Bowl LVI: Los Angeles Rams (NFC,12-5) de...\n",
      "4  2020    NFL  Super Bowl LV: Tampa Bay Buccaneers (NFC,11-5)...\n"
     ]
    }
   ],
   "source": [
    "# Select the table you want to modify (assuming we want the first table here)\n",
    "table = tables[0]  # Modify this if you want a different table\n",
    "\n",
    "# Replace headers in the table\n",
    "# Replacing \"Year\" with \"Yr\" and \"Lg\" with \"league\"\n",
    "table = table.rename(columns={\"Year\": \"Yr\", \"Lg\": \"league\"})\n",
    "\n",
    "# Print the modified table\n",
    "print(\"Modified Table with Updated Headers:\")\n",
    "print(table.head())"
   ]
  },
  {
   "cell_type": "markdown",
   "id": "b2bb306c-665e-43bd-8213-facc94ce2046",
   "metadata": {},
   "source": [
    "### Part 2 Format data into a more readable format"
   ]
  },
  {
   "cell_type": "code",
   "execution_count": 74,
   "id": "7b76203e-f76b-494d-9b86-dd05d0dc7f02",
   "metadata": {},
   "outputs": [
    {
     "name": "stdout",
     "output_type": "stream",
     "text": [
      "Cleaned and Formatted Table:\n",
      "     Yr league                                                                                             Unnamed: 2\n",
      "0  2024    NFL                                                                                                    NaN\n",
      "1  2023    NFL  Super Bowl LVIII: Kansas City Chiefs (AFC,11-6) defeated San Francisco 49ers (NFC,12-5), Score: 25-22\n",
      "2  2022    NFL   Super Bowl LVII: Kansas City Chiefs (AFC,14-3) defeated Philadelphia Eagles (NFC,14-3), Score: 38-35\n",
      "3  2021    NFL       Super Bowl LVI: Los Angeles Rams (NFC,12-5) defeated Cincinnati Bengals (AFC,10-7), Score: 23-20\n",
      "4  2020    NFL     Super Bowl LV: Tampa Bay Buccaneers (NFC,11-5) defeated Kansas City Chiefs (AFC,14-2), Score: 31-9\n"
     ]
    }
   ],
   "source": [
    "# Step 7: Clean up and format the data for readability\n",
    "# Removing any extraneous whitespace from column names\n",
    "table.columns = table.columns.str.strip()\n",
    "\n",
    "# Display settings for better readability in pandas\n",
    "pd.set_option(\"display.max_columns\", None)  # Show all columns\n",
    "pd.set_option(\"display.width\", 1000)        # Set display width\n",
    "pd.set_option(\"display.float_format\", '{:,.0f}'.format)  # No decimals for floats\n",
    "\n",
    "# Print the cleaned and formatted table\n",
    "print(\"Cleaned and Formatted Table:\")\n",
    "print(table.head())"
   ]
  },
  {
   "cell_type": "markdown",
   "id": "3e1f16a8-1414-4bb4-8052-adc0a54f970a",
   "metadata": {},
   "source": [
    "### Part 3 Find Duplicates"
   ]
  },
  {
   "cell_type": "code",
   "execution_count": 78,
   "id": "5f76843f-3ae8-40de-a7ae-0c6d41f3b68e",
   "metadata": {},
   "outputs": [
    {
     "name": "stdout",
     "output_type": "stream",
     "text": [
      "No duplicate rows found.\n"
     ]
    }
   ],
   "source": [
    "# Find duplicate rows\n",
    "duplicates = table[table.duplicated()]\n",
    "\n",
    "# Print duplicate rows if any\n",
    "if not duplicates.empty:\n",
    "    print(\"Duplicate Rows Found:\")\n",
    "    print(duplicates)\n",
    "else:\n",
    "    print(\"No duplicate rows found.\")"
   ]
  },
  {
   "cell_type": "markdown",
   "id": "e329b78b-dbe0-4ece-8f32-b6de496b5068",
   "metadata": {},
   "source": [
    "### Part 4 Identify outliers and bad data"
   ]
  },
  {
   "cell_type": "code",
   "execution_count": 86,
   "id": "7dca095b-daf0-4fa2-977c-15643bf6e199",
   "metadata": {},
   "outputs": [
    {
     "name": "stdout",
     "output_type": "stream",
     "text": [
      "No outliers found.\n",
      "\n",
      "Rows with Bad Data (e.g., missing values):\n",
      "     Yr league Unnamed: 2\n",
      "0  2024    NFL        NaN\n"
     ]
    }
   ],
   "source": [
    "# Detect outliers using the Interquartile Range (IQR) for numerical columns\n",
    "outliers = pd.DataFrame()\n",
    "for column in table.select_dtypes(include=['number']).columns:\n",
    "    Q1 = table[column].quantile(0.25)\n",
    "    Q3 = table[column].quantile(0.75)\n",
    "    IQR = Q3 - Q1\n",
    "    # Define outliers as data points that fall outside of 1.5 * IQR from the Q1 or Q3\n",
    "    outliers_in_col = table[(table[column] < (Q1 - 1.5 * IQR)) | (table[column] > (Q3 + 1.5 * IQR))]\n",
    "    outliers = pd.concat([outliers, outliers_in_col])\n",
    "\n",
    "# Removing duplicates from the outliers dataframe if a row appears multiple times\n",
    "outliers = outliers.drop_duplicates()\n",
    "\n",
    "# Identify \"bad data\" like missing values or unexpected types\n",
    "bad_data = table[table.isnull().any(axis=1)]  # Rows with any missing values\n",
    "\n",
    "# Print outliers and bad data\n",
    "if not outliers.empty:\n",
    "    print(\"Outliers Found:\")\n",
    "    print(outliers)\n",
    "else:\n",
    "    print(\"No outliers found.\")\n",
    "\n",
    "if not bad_data.empty:\n",
    "    print(\"\\nRows with Bad Data (e.g., missing values):\")\n",
    "    print(bad_data)\n",
    "else:\n",
    "    print(\"\\nNo bad data found.\")\n"
   ]
  },
  {
   "cell_type": "markdown",
   "id": "ef688f84-874d-4e77-8881-a786c5186ec7",
   "metadata": {},
   "source": [
    "### Part 5 Conduct Fuzzy Matching"
   ]
  },
  {
   "cell_type": "code",
   "execution_count": 91,
   "id": "b6958bbf-cc24-49f9-8152-bcc0beb5699f",
   "metadata": {},
   "outputs": [
    {
     "name": "stdout",
     "output_type": "stream",
     "text": [
      "Collecting fuzzywuzzy[speedup]Note: you may need to restart the kernel to use updated packages.\n",
      "\n",
      "  Downloading fuzzywuzzy-0.18.0-py2.py3-none-any.whl.metadata (4.9 kB)\n",
      "Collecting python-levenshtein>=0.12 (from fuzzywuzzy[speedup])\n",
      "  Downloading python_Levenshtein-0.26.1-py3-none-any.whl.metadata (3.7 kB)\n",
      "Collecting Levenshtein==0.26.1 (from python-levenshtein>=0.12->fuzzywuzzy[speedup])\n",
      "  Downloading levenshtein-0.26.1-cp311-cp311-win_amd64.whl.metadata (3.2 kB)\n",
      "Requirement already satisfied: rapidfuzz<4.0.0,>=3.9.0 in c:\\users\\tnh05\\anaconda3\\aco\\lib\\site-packages (from Levenshtein==0.26.1->python-levenshtein>=0.12->fuzzywuzzy[speedup]) (3.10.0)\n",
      "Downloading python_Levenshtein-0.26.1-py3-none-any.whl (9.4 kB)\n",
      "Downloading levenshtein-0.26.1-cp311-cp311-win_amd64.whl (98 kB)\n",
      "   ---------------------------------------- 0.0/98.5 kB ? eta -:--:--\n",
      "   ------------------------------------- -- 92.2/98.5 kB 2.6 MB/s eta 0:00:01\n",
      "   ---------------------------------------- 98.5/98.5 kB 802.5 kB/s eta 0:00:00\n",
      "Downloading fuzzywuzzy-0.18.0-py2.py3-none-any.whl (18 kB)\n",
      "Installing collected packages: fuzzywuzzy, Levenshtein, python-levenshtein\n",
      "Successfully installed Levenshtein-0.26.1 fuzzywuzzy-0.18.0 python-levenshtein-0.26.1\n"
     ]
    }
   ],
   "source": [
    "pip install fuzzywuzzy[speedup]"
   ]
  },
  {
   "cell_type": "code",
   "execution_count": 93,
   "id": "eba3dd72-290e-4762-a541-3ea3fea5c9a6",
   "metadata": {},
   "outputs": [
    {
     "name": "stdout",
     "output_type": "stream",
     "text": [
      "Requirement already satisfied: rapidfuzz in c:\\users\\tnh05\\anaconda3\\aco\\lib\\site-packages (3.10.0)\n",
      "Note: you may need to restart the kernel to use updated packages.\n"
     ]
    }
   ],
   "source": [
    "pip install rapidfuzz"
   ]
  },
  {
   "cell_type": "code",
   "execution_count": 99,
   "id": "aacad94e-463c-4564-bf41-01475d0090da",
   "metadata": {},
   "outputs": [],
   "source": [
    "from fuzzywuzzy import fuzz\n",
    "from fuzzywuzzy import process\n",
    "from rapidfuzz import fuzz, process"
   ]
  },
  {
   "cell_type": "code",
   "execution_count": 101,
   "id": "8dc1220f-f4d2-4ba5-b74f-4b2686c3a23f",
   "metadata": {},
   "outputs": [
    {
     "name": "stdout",
     "output_type": "stream",
     "text": [
      "No fuzzy matches found.\n"
     ]
    }
   ],
   "source": [
    "# Perform fuzzy matching on the \"league\" column using rapidfuzz\n",
    "# Set a similarity threshold (e.g., 90) for fuzzy matches\n",
    "similarity_threshold = 90\n",
    "fuzzy_matches = []\n",
    "\n",
    "# Use process.extract to get similar entries within the \"league\" column\n",
    "for i, entry in enumerate(table['league']):\n",
    "    matches = process.extract(entry, table['league'], scorer=fuzz.ratio)\n",
    "    # Filter matches that are above the threshold and not the exact same row\n",
    "    similar_entries = [match for match in matches if match[1] >= similarity_threshold and match[0] != entry]\n",
    "    \n",
    "    # Collect results for each entry with its similar matches\n",
    "    if similar_entries:\n",
    "        fuzzy_matches.append((entry, similar_entries))\n",
    "\n",
    "# Print fuzzy matches if any\n",
    "if fuzzy_matches:\n",
    "    print(\"Fuzzy Matches Found:\")\n",
    "    for entry, matches in fuzzy_matches:\n",
    "        print(f\"\\nOriginal Entry: {entry}\")\n",
    "        print(\"Similar Entries:\")\n",
    "        for match in matches:\n",
    "            print(f\" - {match[0]} (Similarity: {match[1]}%)\")\n",
    "else:\n",
    "    print(\"No fuzzy matches found.\")"
   ]
  },
  {
   "cell_type": "code",
   "execution_count": null,
   "id": "902dcee6-2e72-43bb-96de-364dedf9d959",
   "metadata": {},
   "outputs": [],
   "source": []
  }
 ],
 "metadata": {
  "kernelspec": {
   "display_name": "Python 3 (ipykernel)",
   "language": "python",
   "name": "python3"
  },
  "language_info": {
   "codemirror_mode": {
    "name": "ipython",
    "version": 3
   },
   "file_extension": ".py",
   "mimetype": "text/x-python",
   "name": "python",
   "nbconvert_exporter": "python",
   "pygments_lexer": "ipython3",
   "version": "3.11.7"
  }
 },
 "nbformat": 4,
 "nbformat_minor": 5
}
