{
 "cells": [
  {
   "cell_type": "markdown",
   "id": "e5bdb0f1-2234-467d-90a9-0b302eaf59de",
   "metadata": {},
   "source": [
    "## Vanessa Williams\n",
    "## Week 9"
   ]
  },
  {
   "cell_type": "code",
   "execution_count": 1,
   "id": "5418632b-25c2-4bd6-83d5-427ee5e882fa",
   "metadata": {},
   "outputs": [],
   "source": [
    "import numpy as np\n",
    "import pandas as pd\n",
    "import random\n",
    "from tempfile import NamedTemporaryFile\n",
    "from os.path import getsize"
   ]
  },
  {
   "cell_type": "markdown",
   "id": "b5d7dc70-96f4-4b2d-9c3c-3602952cd872",
   "metadata": {},
   "source": [
    "# Part 1"
   ]
  },
  {
   "cell_type": "code",
   "execution_count": 2,
   "id": "cd7ff2b5-727c-432f-8334-571114980420",
   "metadata": {},
   "outputs": [
    {
     "name": "stdout",
     "output_type": "stream",
     "text": [
      "[[6 8 1 0]\n",
      " [8 4 5 0]\n",
      " [6 4 1 5]]\n"
     ]
    }
   ],
   "source": [
    "#creating an array of numbers\n",
    "np.random.default_rng(10)\n",
    "array = np.random.randint(0, 10, size=(3,4))\n",
    "print(array)"
   ]
  },
  {
   "cell_type": "code",
   "execution_count": 3,
   "id": "a499ba16-422a-4f13-b8f2-d845bf796ee1",
   "metadata": {},
   "outputs": [
    {
     "name": "stdout",
     "output_type": "stream",
     "text": [
      "   0  1  2  3\n",
      "0  6  8  1  0\n",
      "1  8  4  5  0\n",
      "2  6  4  1  5\n"
     ]
    }
   ],
   "source": [
    "#saving as a csv file and creating it as a Dataframe\n",
    "np.savetxt('array.csv', array, delimiter=',', fmt='%d', header='Column1,Column2,Column3')\n",
    "df = pd.DataFrame(array)\n",
    "print(df)"
   ]
  },
  {
   "cell_type": "code",
   "execution_count": 4,
   "id": "4738ed17-83c0-4db6-b04b-f039187792c9",
   "metadata": {},
   "outputs": [],
   "source": [
    "# Whrite the dataframe int a csv file\n",
    "df.to_csv('pd.csv', float_format='%.2f', na_rep='NAN!')"
   ]
  },
  {
   "cell_type": "markdown",
   "id": "da977fa6-b2d8-4e91-a2a9-b26c2e982904",
   "metadata": {},
   "source": [
    "# Part 2"
   ]
  },
  {
   "cell_type": "code",
   "execution_count": 5,
   "id": "4a991810-bbf7-4a6a-a656-ccce8c3d97be",
   "metadata": {},
   "outputs": [
    {
     "name": "stdout",
     "output_type": "stream",
     "text": [
      "[[7 7 9 2]\n",
      " [3 9 8 7]\n",
      " [1 0 2 6]\n",
      " ...\n",
      " [9 5 3 6]\n",
      " [2 9 1 7]\n",
      " [9 5 9 2]]\n"
     ]
    }
   ],
   "source": [
    "##create a 365 by 4 array of random numbers\n",
    "np.random.default_rng(42)\n",
    "array2 = np.random.randint(0, 10, size=(365,4))\n",
    "print(array2)"
   ]
  },
  {
   "cell_type": "code",
   "execution_count": 6,
   "id": "0848ec16-4b15-4294-a470-256d7a37f7a8",
   "metadata": {},
   "outputs": [
    {
     "name": "stdout",
     "output_type": "stream",
     "text": [
      "size of file:  32400\n"
     ]
    }
   ],
   "source": [
    "#saving the array and checking its size\n",
    "temp = NamedTemporaryFile()\n",
    "np.savetxt(temp, array2, delimiter=',')\n",
    "print(\"size of file: \", getsize(temp.name))"
   ]
  },
  {
   "cell_type": "code",
   "execution_count": 8,
   "id": "3706da13-b836-49fb-a841-d08a13c95dc6",
   "metadata": {},
   "outputs": [
    {
     "name": "stdout",
     "output_type": "stream",
     "text": [
      "Shape:  (365, 4)\n",
      "Size of .npy file:  42468\n"
     ]
    }
   ],
   "source": [
    "#saving into a numpy format and reading file size and shape\n",
    "np.save(temp, array2)\n",
    "temp.seek(0)\n",
    "load = np.load(temp)\n",
    "print(\"Shape: \", load.shape)\n",
    "print(\"Size of .npy file: \", getsize(temp.name))"
   ]
  },
  {
   "cell_type": "code",
   "execution_count": 9,
   "id": "a241c552-8473-423a-b0ad-b0c6c14cd3b8",
   "metadata": {},
   "outputs": [
    {
     "ename": "PermissionError",
     "evalue": "[Errno 13] Permission denied: 'C:\\\\Users\\\\isisV\\\\AppData\\\\Local\\\\Temp\\\\tmpn8xis8x4'",
     "output_type": "error",
     "traceback": [
      "\u001b[1;31m---------------------------------------------------------------------------\u001b[0m",
      "\u001b[1;31mPermissionError\u001b[0m                           Traceback (most recent call last)",
      "\u001b[1;32m~\\AppData\\Local\\Temp\\ipykernel_28808\\3827355211.py\u001b[0m in \u001b[0;36m<module>\u001b[1;34m\u001b[0m\n\u001b[0;32m      1\u001b[0m \u001b[0mdf2\u001b[0m \u001b[1;33m=\u001b[0m \u001b[0mpd\u001b[0m\u001b[1;33m.\u001b[0m\u001b[0mDataFrame\u001b[0m\u001b[1;33m(\u001b[0m\u001b[0marray2\u001b[0m\u001b[1;33m)\u001b[0m\u001b[1;33m\u001b[0m\u001b[1;33m\u001b[0m\u001b[0m\n\u001b[1;32m----> 2\u001b[1;33m \u001b[0mdf2\u001b[0m\u001b[1;33m.\u001b[0m\u001b[0mto_pickle\u001b[0m\u001b[1;33m(\u001b[0m\u001b[0mtemp\u001b[0m\u001b[1;33m.\u001b[0m\u001b[0mname\u001b[0m\u001b[1;33m)\u001b[0m\u001b[1;33m\u001b[0m\u001b[1;33m\u001b[0m\u001b[0m\n\u001b[0m\u001b[0;32m      3\u001b[0m \u001b[0mprint\u001b[0m\u001b[1;33m(\u001b[0m\u001b[1;34m\"Size of pickle data: \"\u001b[0m\u001b[1;33m,\u001b[0m \u001b[0mgetsize\u001b[0m\u001b[1;33m(\u001b[0m\u001b[0mtemp\u001b[0m\u001b[1;33m.\u001b[0m\u001b[0mname\u001b[0m\u001b[1;33m)\u001b[0m\u001b[1;33m)\u001b[0m\u001b[1;33m\u001b[0m\u001b[1;33m\u001b[0m\u001b[0m\n\u001b[0;32m      4\u001b[0m \u001b[0mprint\u001b[0m\u001b[1;33m(\u001b[0m\u001b[1;34m\"DF from pickle: \\n\"\u001b[0m\u001b[1;33m,\u001b[0m \u001b[0mpd\u001b[0m\u001b[1;33m.\u001b[0m\u001b[0mread_pickle\u001b[0m\u001b[1;33m(\u001b[0m\u001b[0mtemp\u001b[0m\u001b[1;33m.\u001b[0m\u001b[0mname\u001b[0m\u001b[1;33m)\u001b[0m\u001b[1;33m)\u001b[0m\u001b[1;33m\u001b[0m\u001b[1;33m\u001b[0m\u001b[0m\n",
      "\u001b[1;32m~\\anaconda3\\lib\\site-packages\\pandas\\core\\generic.py\u001b[0m in \u001b[0;36mto_pickle\u001b[1;34m(self, path, compression, protocol, storage_options)\u001b[0m\n\u001b[0;32m   3024\u001b[0m         \u001b[1;32mfrom\u001b[0m \u001b[0mpandas\u001b[0m\u001b[1;33m.\u001b[0m\u001b[0mio\u001b[0m\u001b[1;33m.\u001b[0m\u001b[0mpickle\u001b[0m \u001b[1;32mimport\u001b[0m \u001b[0mto_pickle\u001b[0m\u001b[1;33m\u001b[0m\u001b[1;33m\u001b[0m\u001b[0m\n\u001b[0;32m   3025\u001b[0m \u001b[1;33m\u001b[0m\u001b[0m\n\u001b[1;32m-> 3026\u001b[1;33m         to_pickle(\n\u001b[0m\u001b[0;32m   3027\u001b[0m             \u001b[0mself\u001b[0m\u001b[1;33m,\u001b[0m\u001b[1;33m\u001b[0m\u001b[1;33m\u001b[0m\u001b[0m\n\u001b[0;32m   3028\u001b[0m             \u001b[0mpath\u001b[0m\u001b[1;33m,\u001b[0m\u001b[1;33m\u001b[0m\u001b[1;33m\u001b[0m\u001b[0m\n",
      "\u001b[1;32m~\\anaconda3\\lib\\site-packages\\pandas\\io\\pickle.py\u001b[0m in \u001b[0;36mto_pickle\u001b[1;34m(obj, filepath_or_buffer, compression, protocol, storage_options)\u001b[0m\n\u001b[0;32m     95\u001b[0m         \u001b[0mprotocol\u001b[0m \u001b[1;33m=\u001b[0m \u001b[0mpickle\u001b[0m\u001b[1;33m.\u001b[0m\u001b[0mHIGHEST_PROTOCOL\u001b[0m\u001b[1;33m\u001b[0m\u001b[1;33m\u001b[0m\u001b[0m\n\u001b[0;32m     96\u001b[0m \u001b[1;33m\u001b[0m\u001b[0m\n\u001b[1;32m---> 97\u001b[1;33m     with get_handle(\n\u001b[0m\u001b[0;32m     98\u001b[0m         \u001b[0mfilepath_or_buffer\u001b[0m\u001b[1;33m,\u001b[0m\u001b[1;33m\u001b[0m\u001b[1;33m\u001b[0m\u001b[0m\n\u001b[0;32m     99\u001b[0m         \u001b[1;34m\"wb\"\u001b[0m\u001b[1;33m,\u001b[0m\u001b[1;33m\u001b[0m\u001b[1;33m\u001b[0m\u001b[0m\n",
      "\u001b[1;32m~\\anaconda3\\lib\\site-packages\\pandas\\io\\common.py\u001b[0m in \u001b[0;36mget_handle\u001b[1;34m(path_or_buf, mode, encoding, compression, memory_map, is_text, errors, storage_options)\u001b[0m\n\u001b[0;32m    793\u001b[0m         \u001b[1;32melse\u001b[0m\u001b[1;33m:\u001b[0m\u001b[1;33m\u001b[0m\u001b[1;33m\u001b[0m\u001b[0m\n\u001b[0;32m    794\u001b[0m             \u001b[1;31m# Binary mode\u001b[0m\u001b[1;33m\u001b[0m\u001b[1;33m\u001b[0m\u001b[0m\n\u001b[1;32m--> 795\u001b[1;33m             \u001b[0mhandle\u001b[0m \u001b[1;33m=\u001b[0m \u001b[0mopen\u001b[0m\u001b[1;33m(\u001b[0m\u001b[0mhandle\u001b[0m\u001b[1;33m,\u001b[0m \u001b[0mioargs\u001b[0m\u001b[1;33m.\u001b[0m\u001b[0mmode\u001b[0m\u001b[1;33m)\u001b[0m\u001b[1;33m\u001b[0m\u001b[1;33m\u001b[0m\u001b[0m\n\u001b[0m\u001b[0;32m    796\u001b[0m         \u001b[0mhandles\u001b[0m\u001b[1;33m.\u001b[0m\u001b[0mappend\u001b[0m\u001b[1;33m(\u001b[0m\u001b[0mhandle\u001b[0m\u001b[1;33m)\u001b[0m\u001b[1;33m\u001b[0m\u001b[1;33m\u001b[0m\u001b[0m\n\u001b[0;32m    797\u001b[0m \u001b[1;33m\u001b[0m\u001b[0m\n",
      "\u001b[1;31mPermissionError\u001b[0m: [Errno 13] Permission denied: 'C:\\\\Users\\\\isisV\\\\AppData\\\\Local\\\\Temp\\\\tmpn8xis8x4'"
     ]
    }
   ],
   "source": [
    "#Creating a DataFrame from second array and writting it to a pickle, then retrieve it from the pickle. However, I am recieving a permission denied error so I can not retrieve it nor print the size\n",
    "df2 = pd.DataFrame(array2)\n",
    "df2.to_pickle(temp.name)\n",
    "print(\"Size of pickle data: \", getsize(temp.name))\n",
    "print(\"DF from pickle: \\n\", pd.read_pickle(temp.name))"
   ]
  },
  {
   "cell_type": "code",
   "execution_count": 10,
   "id": "899a11ee-d5d6-49a5-bb29-b6dd42ce174c",
   "metadata": {},
   "outputs": [
    {
     "name": "stdout",
     "output_type": "stream",
     "text": [
      "Requirement already satisfied: openpyxl in c:\\users\\isisv\\anaconda3\\lib\\site-packages (3.0.10)\n",
      "Requirement already satisfied: xlsxwriter in c:\\users\\isisv\\anaconda3\\lib\\site-packages (3.0.3)\n",
      "Requirement already satisfied: xlrd in c:\\users\\isisv\\anaconda3\\lib\\site-packages (2.0.1)\n",
      "Requirement already satisfied: et_xmlfile in c:\\users\\isisv\\anaconda3\\lib\\site-packages (from openpyxl) (1.1.0)\n",
      "Note: you may need to restart the kernel to use updated packages.\n"
     ]
    }
   ],
   "source": [
    "pip install openpyxl xlsxwriter xlrd"
   ]
  },
  {
   "cell_type": "markdown",
   "id": "60fdb609-4252-4e59-9f75-089164c33ba9",
   "metadata": {},
   "source": [
    "# Part 3"
   ]
  },
  {
   "cell_type": "code",
   "execution_count": 14,
   "id": "1fb700d9-02b1-4e67-ad4b-684d2949dc22",
   "metadata": {},
   "outputs": [
    {
     "name": "stdout",
     "output_type": "stream",
     "text": [
      "     Unnamed: 0  0  1  2  3\n",
      "0             0  7  7  9  2\n",
      "1             1  3  9  8  7\n",
      "2             2  1  0  2  6\n",
      "3             3  3  2  6  5\n",
      "4             4  1  6  0  4\n",
      "..          ... .. .. .. ..\n",
      "360         360  6  9  4  3\n",
      "361         361  5  8  8  6\n",
      "362         362  9  5  3  6\n",
      "363         363  2  9  1  7\n",
      "364         364  9  5  9  2\n",
      "\n",
      "[365 rows x 5 columns]\n"
     ]
    }
   ],
   "source": [
    "#Saving the 365 by 4 array into an excel file and printing results\n",
    "filename = 'excel_demo.xlsx'\n",
    "df2.to_excel(filename, sheet_name='Random_data')\n",
    "print(pd.read_excel(filename, 'Random_data'))"
   ]
  },
  {
   "cell_type": "markdown",
   "id": "717d978c-6dc5-4ba8-8103-e09b26fe2d75",
   "metadata": {},
   "source": [
    "# Part 4"
   ]
  },
  {
   "cell_type": "code",
   "execution_count": 23,
   "id": "ed188540-e7c2-45e3-b4a1-8d32c85ecb9c",
   "metadata": {},
   "outputs": [
    {
     "name": "stdout",
     "output_type": "stream",
     "text": [
      "country:  Netherlands\n"
     ]
    }
   ],
   "source": [
    "import json\n",
    "#Json string\n",
    "json_string = '''{\"country\":\"Netherlands\",\n",
    "        \"dma_code\":\"0\",\n",
    "        \"timezone\":\"Europe\\/Amsterdam\",\n",
    "        \"area_code\":\"0\",\n",
    "        \"ip\":\"46.19.37.108\",\n",
    "        \"asn\":\"AS196752\",\n",
    "        \"continent_code\":\n",
    "        \"EU\",\"isp\":\"Tilaa V.O.F.\",\n",
    "        \"longitude\":5.75,\n",
    "        \"latitude\":52.5,\n",
    "        \"country_code\":\"NL\",\n",
    "        \"country_code3\":\"NLD\"}'''\n",
    "\n",
    "#parsing the data using loads()        \n",
    "data1 = json.loads(json_string)\n",
    "print( \"country: \", data1[\"country\"])"
   ]
  },
  {
   "cell_type": "code",
   "execution_count": 25,
   "id": "dd4cfe78-450b-4ad0-aeed-004c9d0c8b1d",
   "metadata": {},
   "outputs": [
    {
     "name": "stdout",
     "output_type": "stream",
     "text": [
      "{\"country\": \"Brazil\", \"dma_code\": \"0\", \"timezone\": \"Europe/Amsterdam\", \"area_code\": \"0\", \"ip\": \"46.19.37.108\", \"asn\": \"AS196752\", \"continent_code\": \"EU\", \"isp\": \"Tilaa V.O.F.\", \"longitude\": 5.75, \"latitude\": 52.5, \"country_code\": \"NL\", \"country_code3\": \"NLD\"}\n"
     ]
    }
   ],
   "source": [
    "#overwritting value country\n",
    "data1[\"country\"] = \"Brazil\"\n",
    "print (json.dumps(data1))"
   ]
  },
  {
   "cell_type": "markdown",
   "id": "14a4fb14-e183-4dd6-95c6-c7bd25ecd345",
   "metadata": {},
   "source": [
    "# Part 5"
   ]
  },
  {
   "cell_type": "code",
   "execution_count": 30,
   "id": "d6e8b3da-d014-4038-8b38-86e4a1b08026",
   "metadata": {},
   "outputs": [
    {
     "name": "stdout",
     "output_type": "stream",
     "text": [
      "<bound method NDFrame.to_json of country                     Brazil\n",
      "dma_code                         0\n",
      "timezone          Europe/Amsterdam\n",
      "area_code                        0\n",
      "ip                    46.19.37.108\n",
      "asn                       AS196752\n",
      "continent_code                  EU\n",
      "isp                   Tilaa V.O.F.\n",
      "longitude                     5.75\n",
      "latitude                      52.5\n",
      "country_code                    NL\n",
      "country_code3                  NLD\n",
      "dtype: object>\n"
     ]
    }
   ],
   "source": [
    "#creating a pandas series\n",
    "data2 = pd.read_json(json_string, typ='series')\n",
    "#changing the country value\n",
    "data2[\"country\"] = \"Brazil\"\n",
    "#printing results\n",
    "print(data2.to_json)"
   ]
  },
  {
   "cell_type": "markdown",
   "id": "8abfb90c-d0c2-442c-b44f-032831c7f326",
   "metadata": {},
   "source": [
    "# Part 6"
   ]
  },
  {
   "cell_type": "markdown",
   "id": "967d693b-3e29-4d98-963a-4f3bf8f08ce8",
   "metadata": {},
   "source": [
    "Follow along:"
   ]
  },
  {
   "cell_type": "code",
   "execution_count": 1,
   "id": "469be830-5c5b-418c-b4cb-c93fc79ea756",
   "metadata": {},
   "outputs": [],
   "source": [
    "from bs4 import BeautifulSoup\n",
    "import re"
   ]
  },
  {
   "cell_type": "code",
   "execution_count": 4,
   "id": "9a9a4e47-18bb-43ef-b2b1-a3d6e7ccce63",
   "metadata": {},
   "outputs": [
    {
     "name": "stdout",
     "output_type": "stream",
     "text": [
      "First div \n",
      ". <div class=\"tile\">\n",
      "<h4>Development</h4>\n",
      "     0.10.1 - July 2014<br/>\n",
      "</div>\n"
     ]
    }
   ],
   "source": [
    "#open file\n",
    "soup = BeautifulSoup(open('loremIpsum.html'))\n",
    "#print first div\n",
    "print(\"First div \\n.\", soup.div)"
   ]
  },
  {
   "cell_type": "code",
   "execution_count": 5,
   "id": "04d7642e-7c22-493d-8d12-5018d1d07b53",
   "metadata": {},
   "outputs": [
    {
     "name": "stdout",
     "output_type": "stream",
     "text": [
      "First div class ['tile']\n"
     ]
    }
   ],
   "source": [
    "#print class atrribute\n",
    "print(\"First div class\", soup.div['class'])"
   ]
  },
  {
   "cell_type": "code",
   "execution_count": 6,
   "id": "75e6171a-e839-4ed4-8b7b-13e2cba307a1",
   "metadata": {},
   "outputs": [
    {
     "name": "stdout",
     "output_type": "stream",
     "text": [
      "First dfn text Quare attende, quaeso.\n"
     ]
    }
   ],
   "source": [
    "#print the next attribute\n",
    "print(\"First dfn text\", soup.dl.dt.dfn.text)"
   ]
  },
  {
   "cell_type": "code",
   "execution_count": 8,
   "id": "04c16bdc-7cda-40f7-b496-6025a961cb44",
   "metadata": {},
   "outputs": [
    {
     "name": "stdout",
     "output_type": "stream",
     "text": [
      "Link text loripsum.net URL http://loripsum.net/\n",
      "Link text Poterat autem inpune; URL http://loripsum.net/\n",
      "Link text Is es profecto tu. URL http://loripsum.net/\n",
      "0 ['\\n', <h4>Development</h4>, '\\n     0.10.1 - July 2014', <br/>, '\\n']\n",
      "1 ['\\n', <h4>Official Release</h4>, '\\n     0.10.0 June 2014', <br/>, '\\n']\n",
      "2 ['\\n', <h4>Previous Release</h4>, '\\n     0.09.1 June 2013', <br/>, '\\n']\n",
      "Official Version 0.10.0 June 2014\n",
      "# elements with class 3\n",
      "# Tile classes 2\n",
      "# Divs with class containing tile 3\n",
      "Using CSS selector\n",
      " [<div class=\"notile\">\n",
      "<h4>Previous Release</h4>\n",
      "     0.09.1 June 2013<br/>\n",
      "</div>]\n",
      "Selecting ordered list list items\n",
      " [<li>Cur id non ita fit?</li>, <li>In qua si nihil est praeter rationem, sit in una virtute finis bonorum;</li>]\n",
      "Second list item in ordered list [<li>In qua si nihil est praeter rationem, sit in una virtute finis bonorum;</li>]\n",
      "Searching for text string ['\\n     0.10.1 - July 2014', '\\n     0.10.0 June 2014']\n"
     ]
    }
   ],
   "source": [
    "#looping through hyperlinks of document\n",
    "for link in soup.find_all('a'):\n",
    "   print(\"Link text\", link.string, \"URL\", link.get('href'))\n",
    "\n",
    "# looping through hyperlinks omitting find_all\n",
    "for i, div in enumerate(soup('div')):\n",
    "   print(i, div.contents)\n",
    "\n",
    "#Div with id=official\n",
    "official_div = soup.find_all(\"div\", id=\"official\")\n",
    "print(\"Official Version\", official_div[0].contents[2].strip())\n",
    "\n",
    "#Get number of div tags with a defined class attribute\n",
    "print(\"# elements with class\", len(soup.find_all(class_=True)))\n",
    "\n",
    "#find the number of tags with the class tile\n",
    "tile_class = soup.find_all(\"div\", class_=\"tile\")\n",
    "print(\"# Tile classes\", len(tile_class))\n",
    "\n",
    "#matching all div tags\n",
    "print(\"# Divs with class containing tile\", len(soup.find_all(\"div\", class_=re.compile(\"tile\"))))\n",
    "\n",
    "#matching the div elements with the notile class\n",
    "print(\"Using CSS selector\\n\", soup.select('div.notile'))\n",
    "\n",
    "#Selecting first two list items in an ordered list\n",
    "print(\"Selecting ordered list list items\\n\", soup.select(\"ol > li\")[:2])\n",
    "#Selecting second list item\n",
    "print(\"Second list item in ordered list\", soup.select(\"ol > li:nth-of-type(2)\"))\n",
    "#finding all text nodes containing the strin 2014\n",
    "print(\"Searching for text string\", soup.find_all(text=re.compile(\"2014\")))"
   ]
  },
  {
   "cell_type": "code",
   "execution_count": null,
   "id": "6ab719c2-56b3-469f-aa96-319ead5d6b5b",
   "metadata": {},
   "outputs": [],
   "source": []
  }
 ],
 "metadata": {
  "kernelspec": {
   "display_name": "Python 3 (ipykernel)",
   "language": "python",
   "name": "python3"
  },
  "language_info": {
   "codemirror_mode": {
    "name": "ipython",
    "version": 3
   },
   "file_extension": ".py",
   "mimetype": "text/x-python",
   "name": "python",
   "nbconvert_exporter": "python",
   "pygments_lexer": "ipython3",
   "version": "3.11.7"
  }
 },
 "nbformat": 4,
 "nbformat_minor": 5
}
