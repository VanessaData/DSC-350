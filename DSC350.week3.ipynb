{
 "cells": [
  {
   "cell_type": "code",
   "execution_count": 49,
   "id": "de8086ee-ae4f-4da9-8118-f99dcf144a13",
   "metadata": {},
   "outputs": [
    {
     "data": {
      "text/html": [
       "<div>\n",
       "<style scoped>\n",
       "    .dataframe tbody tr th:only-of-type {\n",
       "        vertical-align: middle;\n",
       "    }\n",
       "\n",
       "    .dataframe tbody tr th {\n",
       "        vertical-align: top;\n",
       "    }\n",
       "\n",
       "    .dataframe thead th {\n",
       "        text-align: right;\n",
       "    }\n",
       "</style>\n",
       "<table border=\"1\" class=\"dataframe\">\n",
       "  <thead>\n",
       "    <tr style=\"text-align: right;\">\n",
       "      <th></th>\n",
       "      <th>alert</th>\n",
       "      <th>cdi</th>\n",
       "      <th>code</th>\n",
       "      <th>detail</th>\n",
       "      <th>dmin</th>\n",
       "      <th>felt</th>\n",
       "      <th>gap</th>\n",
       "      <th>ids</th>\n",
       "      <th>mag</th>\n",
       "      <th>magType</th>\n",
       "      <th>...</th>\n",
       "      <th>status</th>\n",
       "      <th>time</th>\n",
       "      <th>title</th>\n",
       "      <th>tsunami</th>\n",
       "      <th>type</th>\n",
       "      <th>types</th>\n",
       "      <th>tz</th>\n",
       "      <th>updated</th>\n",
       "      <th>url</th>\n",
       "      <th>parsed_place</th>\n",
       "    </tr>\n",
       "  </thead>\n",
       "  <tbody>\n",
       "    <tr>\n",
       "      <th>0</th>\n",
       "      <td>NaN</td>\n",
       "      <td>NaN</td>\n",
       "      <td>37389218</td>\n",
       "      <td>https://earthquake.usgs.gov/fdsnws/event/1/que...</td>\n",
       "      <td>0.008693</td>\n",
       "      <td>NaN</td>\n",
       "      <td>85.0</td>\n",
       "      <td>,ci37389218,</td>\n",
       "      <td>1.35</td>\n",
       "      <td>ml</td>\n",
       "      <td>...</td>\n",
       "      <td>automatic</td>\n",
       "      <td>1.539480e+12</td>\n",
       "      <td>M 1.4 - 9km NE of Aguanga, CA</td>\n",
       "      <td>0</td>\n",
       "      <td>earthquake</td>\n",
       "      <td>,geoserve,nearby-cities,origin,phase-data,</td>\n",
       "      <td>-480.0</td>\n",
       "      <td>1.539480e+12</td>\n",
       "      <td>https://earthquake.usgs.gov/earthquakes/eventp...</td>\n",
       "      <td>California</td>\n",
       "    </tr>\n",
       "    <tr>\n",
       "      <th>1</th>\n",
       "      <td>NaN</td>\n",
       "      <td>NaN</td>\n",
       "      <td>37389202</td>\n",
       "      <td>https://earthquake.usgs.gov/fdsnws/event/1/que...</td>\n",
       "      <td>0.020030</td>\n",
       "      <td>NaN</td>\n",
       "      <td>79.0</td>\n",
       "      <td>,ci37389202,</td>\n",
       "      <td>1.29</td>\n",
       "      <td>ml</td>\n",
       "      <td>...</td>\n",
       "      <td>automatic</td>\n",
       "      <td>1.539480e+12</td>\n",
       "      <td>M 1.3 - 9km NE of Aguanga, CA</td>\n",
       "      <td>0</td>\n",
       "      <td>earthquake</td>\n",
       "      <td>,geoserve,nearby-cities,origin,phase-data,</td>\n",
       "      <td>-480.0</td>\n",
       "      <td>1.539480e+12</td>\n",
       "      <td>https://earthquake.usgs.gov/earthquakes/eventp...</td>\n",
       "      <td>California</td>\n",
       "    </tr>\n",
       "    <tr>\n",
       "      <th>2</th>\n",
       "      <td>NaN</td>\n",
       "      <td>4.4</td>\n",
       "      <td>37389194</td>\n",
       "      <td>https://earthquake.usgs.gov/fdsnws/event/1/que...</td>\n",
       "      <td>0.021370</td>\n",
       "      <td>28.0</td>\n",
       "      <td>21.0</td>\n",
       "      <td>,ci37389194,</td>\n",
       "      <td>3.42</td>\n",
       "      <td>ml</td>\n",
       "      <td>...</td>\n",
       "      <td>automatic</td>\n",
       "      <td>1.539480e+12</td>\n",
       "      <td>M 3.4 - 8km NE of Aguanga, CA</td>\n",
       "      <td>0</td>\n",
       "      <td>earthquake</td>\n",
       "      <td>,dyfi,focal-mechanism,geoserve,nearby-cities,o...</td>\n",
       "      <td>-480.0</td>\n",
       "      <td>1.539540e+12</td>\n",
       "      <td>https://earthquake.usgs.gov/earthquakes/eventp...</td>\n",
       "      <td>California</td>\n",
       "    </tr>\n",
       "    <tr>\n",
       "      <th>3</th>\n",
       "      <td>NaN</td>\n",
       "      <td>NaN</td>\n",
       "      <td>37389186</td>\n",
       "      <td>https://earthquake.usgs.gov/fdsnws/event/1/que...</td>\n",
       "      <td>0.026180</td>\n",
       "      <td>NaN</td>\n",
       "      <td>39.0</td>\n",
       "      <td>,ci37389186,</td>\n",
       "      <td>0.44</td>\n",
       "      <td>ml</td>\n",
       "      <td>...</td>\n",
       "      <td>automatic</td>\n",
       "      <td>1.539470e+12</td>\n",
       "      <td>M 0.4 - 9km NE of Aguanga, CA</td>\n",
       "      <td>0</td>\n",
       "      <td>earthquake</td>\n",
       "      <td>,geoserve,nearby-cities,origin,phase-data,</td>\n",
       "      <td>-480.0</td>\n",
       "      <td>1.539480e+12</td>\n",
       "      <td>https://earthquake.usgs.gov/earthquakes/eventp...</td>\n",
       "      <td>California</td>\n",
       "    </tr>\n",
       "    <tr>\n",
       "      <th>4</th>\n",
       "      <td>NaN</td>\n",
       "      <td>NaN</td>\n",
       "      <td>73096941</td>\n",
       "      <td>https://earthquake.usgs.gov/fdsnws/event/1/que...</td>\n",
       "      <td>0.077990</td>\n",
       "      <td>NaN</td>\n",
       "      <td>192.0</td>\n",
       "      <td>,nc73096941,</td>\n",
       "      <td>2.16</td>\n",
       "      <td>md</td>\n",
       "      <td>...</td>\n",
       "      <td>automatic</td>\n",
       "      <td>1.539470e+12</td>\n",
       "      <td>M 2.2 - 10km NW of Avenal, CA</td>\n",
       "      <td>0</td>\n",
       "      <td>earthquake</td>\n",
       "      <td>,geoserve,nearby-cities,origin,phase-data,scit...</td>\n",
       "      <td>-480.0</td>\n",
       "      <td>1.539480e+12</td>\n",
       "      <td>https://earthquake.usgs.gov/earthquakes/eventp...</td>\n",
       "      <td>California</td>\n",
       "    </tr>\n",
       "  </tbody>\n",
       "</table>\n",
       "<p>5 rows × 27 columns</p>\n",
       "</div>"
      ],
      "text/plain": [
       "  alert  cdi      code                                             detail  \\\n",
       "0   NaN  NaN  37389218  https://earthquake.usgs.gov/fdsnws/event/1/que...   \n",
       "1   NaN  NaN  37389202  https://earthquake.usgs.gov/fdsnws/event/1/que...   \n",
       "2   NaN  4.4  37389194  https://earthquake.usgs.gov/fdsnws/event/1/que...   \n",
       "3   NaN  NaN  37389186  https://earthquake.usgs.gov/fdsnws/event/1/que...   \n",
       "4   NaN  NaN  73096941  https://earthquake.usgs.gov/fdsnws/event/1/que...   \n",
       "\n",
       "       dmin  felt    gap           ids   mag magType  ...     status  \\\n",
       "0  0.008693   NaN   85.0  ,ci37389218,  1.35      ml  ...  automatic   \n",
       "1  0.020030   NaN   79.0  ,ci37389202,  1.29      ml  ...  automatic   \n",
       "2  0.021370  28.0   21.0  ,ci37389194,  3.42      ml  ...  automatic   \n",
       "3  0.026180   NaN   39.0  ,ci37389186,  0.44      ml  ...  automatic   \n",
       "4  0.077990   NaN  192.0  ,nc73096941,  2.16      md  ...  automatic   \n",
       "\n",
       "           time                          title tsunami        type  \\\n",
       "0  1.539480e+12  M 1.4 - 9km NE of Aguanga, CA       0  earthquake   \n",
       "1  1.539480e+12  M 1.3 - 9km NE of Aguanga, CA       0  earthquake   \n",
       "2  1.539480e+12  M 3.4 - 8km NE of Aguanga, CA       0  earthquake   \n",
       "3  1.539470e+12  M 0.4 - 9km NE of Aguanga, CA       0  earthquake   \n",
       "4  1.539470e+12  M 2.2 - 10km NW of Avenal, CA       0  earthquake   \n",
       "\n",
       "                                               types     tz       updated  \\\n",
       "0         ,geoserve,nearby-cities,origin,phase-data, -480.0  1.539480e+12   \n",
       "1         ,geoserve,nearby-cities,origin,phase-data, -480.0  1.539480e+12   \n",
       "2  ,dyfi,focal-mechanism,geoserve,nearby-cities,o... -480.0  1.539540e+12   \n",
       "3         ,geoserve,nearby-cities,origin,phase-data, -480.0  1.539480e+12   \n",
       "4  ,geoserve,nearby-cities,origin,phase-data,scit... -480.0  1.539480e+12   \n",
       "\n",
       "                                                 url parsed_place  \n",
       "0  https://earthquake.usgs.gov/earthquakes/eventp...   California  \n",
       "1  https://earthquake.usgs.gov/earthquakes/eventp...   California  \n",
       "2  https://earthquake.usgs.gov/earthquakes/eventp...   California  \n",
       "3  https://earthquake.usgs.gov/earthquakes/eventp...   California  \n",
       "4  https://earthquake.usgs.gov/earthquakes/eventp...   California  \n",
       "\n",
       "[5 rows x 27 columns]"
      ]
     },
     "execution_count": 49,
     "metadata": {},
     "output_type": "execute_result"
    }
   ],
   "source": [
    "import pandas as pd\n",
    "\n",
    "#Load the csv\n",
    "df = pd.read_csv(r'C:\\Users\\tnh05\\OneDrive\\Desktop\\Data Wrang\\parsed.csv')\n",
    "\n",
    "# Check the first few rows\n",
    "df.head()"
   ]
  },
  {
   "cell_type": "markdown",
   "id": "4bb86343-1f45-42f4-a918-91b96a5c9710",
   "metadata": {},
   "source": [
    "# Problem 1"
   ]
  },
  {
   "cell_type": "markdown",
   "id": "e256271a-1060-44dd-ada2-6ec84863c880",
   "metadata": {},
   "source": [
    "#### -selecting the appropriate columns and values while finding the 95th percentile using quantile()"
   ]
  },
  {
   "cell_type": "code",
   "execution_count": 52,
   "id": "e95d8431-7991-4b46-baab-b2d649743418",
   "metadata": {},
   "outputs": [
    {
     "data": {
      "text/plain": [
       "Index(['alert', 'cdi', 'code', 'detail', 'dmin', 'felt', 'gap', 'ids', 'mag',\n",
       "       'magType', 'mmi', 'net', 'nst', 'place', 'rms', 'sig', 'sources',\n",
       "       'status', 'time', 'title', 'tsunami', 'type', 'types', 'tz', 'updated',\n",
       "       'url', 'parsed_place'],\n",
       "      dtype='object')"
      ]
     },
     "execution_count": 52,
     "metadata": {},
     "output_type": "execute_result"
    }
   ],
   "source": [
    "df.columns"
   ]
  },
  {
   "cell_type": "code",
   "execution_count": 54,
   "id": "9a1a9915-4c44-4ec7-9cc1-8038e0d83422",
   "metadata": {},
   "outputs": [
    {
     "data": {
      "text/plain": [
       "array([ 1.35,  1.29,  3.42,  0.44,  2.16,  2.61,  1.7 ,  1.13,  0.92,\n",
       "        4.7 ,  0.5 ,  2.77,  4.5 ,  2.13,  2.  ,  0.72,  1.69,  2.82,\n",
       "        0.81,  0.55,  0.67,  2.1 ,  2.8 ,  1.1 ,  1.8 ,  0.93,  1.52,\n",
       "        2.3 ,  1.3 ,  2.2 ,  1.9 ,  5.  ,  1.6 ,  2.12, -0.1 ,  1.31,\n",
       "        0.2 ,  0.86,  2.92,  0.32,  1.84,  1.14,  0.9 ,  2.4 ,  2.5 ,\n",
       "        1.46,  4.6 ,  2.21,  1.83,  2.15,  1.44,  2.07,  0.1 ,  2.76,\n",
       "        2.24,  1.45,  0.35,  0.7 ,  2.43,  1.12,  1.5 ,  0.62,  2.01,\n",
       "        1.4 ,  0.83,  0.  ,  3.22,  0.75,  1.57,  1.2 ,  0.59,  1.33,\n",
       "        0.03,  1.64,  0.57,  2.81,  0.29,  2.84,  6.7 ,  2.36,  0.73,\n",
       "        2.97,  2.09,  1.85,  0.4 ,  0.8 ,  2.7 , -0.4 ,  0.33,  2.49,\n",
       "        3.  ,  0.89,  4.2 ,  0.6 ,  2.9 ,  0.58,  0.74,  1.38,  0.61,\n",
       "        0.65, -0.02,  0.88,  1.41,  1.08,  0.68,  5.2 ,  1.75,  0.54,\n",
       "        1.72,  1.36,  1.  ,  1.16,  0.56,  0.82, -0.2 ,  1.01,  0.87,\n",
       "        1.87,  2.33,  3.29,  0.52,  1.03,  2.83,  3.07,  4.4 ,  5.7 ,\n",
       "        4.9 ,  1.92,  1.81,  0.78,  3.1 ,  1.54,  1.98,  0.99,  1.24,\n",
       "        5.1 ,  0.96,  1.28,  2.03,  0.91,  0.49,  0.69,  1.89,  2.05,\n",
       "        3.05,  2.39,  1.17,  2.44,  1.62,  1.07,  0.36,  0.51,  0.08,\n",
       "        2.06,  3.3 ,  0.63,  0.76,  0.3 ,  1.58,  3.34,  3.2 ,  2.45,\n",
       "       -0.12,  1.22, -0.14, -0.3 ,  4.8 ,  0.95,  1.49, -0.63,  3.32,\n",
       "        1.77,  2.41,  2.29,  0.53,  0.98,  2.56,  1.88,  0.38,  0.06,\n",
       "        0.79,  0.42,  2.6 ,  0.45,  1.32,  1.21,  1.26,  1.79,  0.16,\n",
       "       -0.42,  0.21,  0.11,  2.88,  0.46,  1.47,  1.73,  1.43,  1.74,\n",
       "        0.02,  0.18,  2.37,  1.11,  0.77,  1.71,  1.56,  0.25,  0.64,\n",
       "       -0.19,  0.85,  5.6 ,  2.28,  1.59,  0.24,  0.27,  0.19,  0.41,\n",
       "        0.26, -0.5 ,  0.84,  1.04,  1.15,  0.34,  1.94, -0.08,  1.67,\n",
       "        0.66,  1.02,  2.22,  0.97,  1.37,  2.02, -0.35,  1.76,  2.19,\n",
       "        1.18,  2.14, -1.09, -0.71, -0.92,  1.05,  0.05,  0.31,  3.19,\n",
       "        2.55,  2.96,  1.99,  1.95, -0.16,  1.09,  0.48,  2.08,  0.15,\n",
       "       -0.23,  2.57, -0.67,  0.47,  1.86, -0.57,  1.51, -0.26, -0.24,\n",
       "       -0.25,  1.25,  3.18,  2.52,  6.5 ,  6.2 ,  3.24,  1.19,  5.9 ,\n",
       "        0.17,  1.42,  7.  ,  6.1 , -0.59, -0.77,  0.37,  4.3 ,  3.44,\n",
       "        1.23,  6.  ,  4.1 ,  0.94,  2.18,  2.63,  1.91, -0.62,  3.5 ,\n",
       "        1.39,  1.34,  1.27, -0.52,  0.43,  0.28,  3.6 ,  1.63,  3.35,\n",
       "        1.06,  1.97,  2.85,  5.3 ,  0.04,  0.23,  2.17,  2.35,  3.14,\n",
       "       -0.18, -0.37,  5.4 ,  1.96, -0.9 ,  3.09,  2.89,  1.68,  3.02,\n",
       "        1.48,  2.53,  2.95,  2.98,  0.71,  2.27,  3.31,  3.61,  3.8 ,\n",
       "        2.38,  4.  ,  3.04,  2.32, -0.36, -0.56,  2.04, -0.44,  3.23,\n",
       "       -0.13,  3.83,  0.07, -0.51, -0.6 ,  0.22, -0.38,  2.68,  2.47,\n",
       "        1.82,  2.91,  2.72,  3.4 ,  2.11, -0.43,  5.5 ,  1.61, -0.75,\n",
       "        3.16,  1.55,  1.78,  3.11,  2.62,  2.46,  2.69,  1.53, -0.04,\n",
       "        2.25,  0.39, -1.11, -0.54,  1.93, -0.7 , -1.08,  3.21, -0.11,\n",
       "       -0.34,  0.09,  1.65, -0.31, -0.65,  0.01,  2.48, -0.21,  2.42,\n",
       "        2.93,  3.15, -0.46,  5.8 , -0.01, -0.17, -1.22, -1.26,  2.26,\n",
       "       -1.12, -0.72,  3.12,  2.87,  1.66, -0.49, -0.69, -0.83,  3.27,\n",
       "        0.13,  2.23, -0.06,  3.7 , -0.07,  0.12,  3.03,  4.11,  3.58,\n",
       "       -0.03,  3.9 ,  2.78,  2.34,  2.65, -0.32,  2.51,  2.31,  3.08,\n",
       "        3.48,  2.94, -0.68,  2.66, -1.23,  2.99,  2.74,  3.56,  3.17,\n",
       "        3.41,  3.06,  2.59,  0.14, -0.27,  2.79,  4.41, -0.41,  3.95,\n",
       "        7.5 , -0.09, -1.02, -0.15,  3.28, -0.78, -0.48, -0.84,  2.75,\n",
       "       -0.81,  2.71, -0.95, -0.91, -1.24, -0.99, -0.05,  3.38,   nan,\n",
       "       -1.04, -0.61, -0.8 ,  2.73, -0.74, -0.33, -0.22, -0.79, -1.1 ,\n",
       "       -0.29,  2.64,  2.54,  3.59, -0.39, -0.64, -0.73,  3.13,  3.25,\n",
       "        2.58,  3.69,  3.36,  3.43, -0.28, -0.87,  2.67, -0.58,  3.39,\n",
       "        2.86])"
      ]
     },
     "execution_count": 54,
     "metadata": {},
     "output_type": "execute_result"
    }
   ],
   "source": [
    "df['mag'].unique()"
   ]
  },
  {
   "cell_type": "code",
   "execution_count": 56,
   "id": "b638ae28-1d13-49b5-8c2e-2a1698a760a7",
   "metadata": {},
   "outputs": [
    {
     "name": "stdout",
     "output_type": "stream",
     "text": [
      "4.9\n"
     ]
    }
   ],
   "source": [
    "# Filtering earthquakes with mg magnitude types\n",
    "japan_earthquakes_mb = df[(df['parsed_place'] == 'Japan') & (df['magType'] == 'mb')]\n",
    "\n",
    "# Calculating the 95th percentile of magnitude\n",
    "percentile_95 = japan_earthquakes_mb['mag'].quantile(0.95)\n",
    "print(percentile_95)"
   ]
  },
  {
   "cell_type": "markdown",
   "id": "5c4c4166-776e-417f-86b0-55884fb7b021",
   "metadata": {},
   "source": [
    "### 4.9 is the 95th percentile of mb type of earthquakes in Japan"
   ]
  },
  {
   "cell_type": "markdown",
   "id": "3af12422-bc99-4d24-b1a9-8fe7a8314297",
   "metadata": {},
   "source": [
    "# Problem 2"
   ]
  },
  {
   "cell_type": "markdown",
   "id": "c49e93a8-88ba-4ae3-be50-f4ebe237fe23",
   "metadata": {},
   "source": [
    "#### Finding the percentage of earthquakes in Indonesia that were coupled with tsunamis"
   ]
  },
  {
   "cell_type": "code",
   "execution_count": 59,
   "id": "1f453025-f521-42c7-87bf-8a371d05f7d1",
   "metadata": {},
   "outputs": [
    {
     "name": "stdout",
     "output_type": "stream",
     "text": [
      "Percentage of earthquakes in Indonesia coupled with tsunamis: 23.13%\n"
     ]
    }
   ],
   "source": [
    "# Filtering earthquakes within Indonesia\n",
    "indonesia_earthquakes = df[df['parsed_place'] == 'Indonesia']\n",
    "\n",
    "# Count the total number of earthquakes coupled with tsunamis\n",
    "total_earthquakes_indonesia = len(indonesia_earthquakes)\n",
    "tsunami_earthquakes = len(indonesia_earthquakes[indonesia_earthquakes['tsunami'] == 1])\n",
    "\n",
    "# Calculate the percentage of earthquakes coupled with tsunamis\n",
    "percentage_tsunami = (tsunami_earthquakes / total_earthquakes_indonesia) * 100\n",
    "print(f\"Percentage of earthquakes in Indonesia coupled with tsunamis: {percentage_tsunami:.2f}%\")"
   ]
  },
  {
   "cell_type": "code",
   "execution_count": 60,
   "id": "78e22402-7db4-4e37-ac6f-5d91dbf0c5a7",
   "metadata": {},
   "outputs": [
    {
     "name": "stdout",
     "output_type": "stream",
     "text": [
      "Percentage of earthquakes in Indonesia coupled with tsunamis: 23.13%\n"
     ]
    }
   ],
   "source": [
    "# Filtering earthquakes within Indonesia\n",
    "indonesia_earthquakes = df[df['parsed_place'] == 'Indonesia']\n",
    "\n",
    "# Count the total number of earthquakes coupled with tsunamis\n",
    "total_earthquakes_indonesia = len(indonesia_earthquakes)\n",
    "tsunami_earthquakes = len(indonesia_earthquakes[indonesia_earthquakes['tsunami'] == 1])\n",
    "\n",
    "# Calculate the percentage of earthquakes coupled with tsunamis\n",
    "percentage_tsunami = (tsunami_earthquakes / total_earthquakes_indonesia) * 100\n",
    "print(f\"Percentage of earthquakes in Indonesia coupled with tsunamis: {percentage_tsunami:.2f}%\")"
   ]
  },
  {
   "cell_type": "markdown",
   "id": "c62c71cc-75aa-486e-b893-e9b065006ade",
   "metadata": {},
   "source": [
    "# Problem 3"
   ]
  },
  {
   "cell_type": "markdown",
   "id": "7ae9cfb5-7160-48bf-b2c9-f86ce851bfdd",
   "metadata": {},
   "source": [
    "#### Calculate summary statistics for earthquakes in Nevada"
   ]
  },
  {
   "cell_type": "code",
   "execution_count": 70,
   "id": "1e233339-7726-4916-8799-060a1da25383",
   "metadata": {},
   "outputs": [
    {
     "data": {
      "text/html": [
       "<div>\n",
       "<style scoped>\n",
       "    .dataframe tbody tr th:only-of-type {\n",
       "        vertical-align: middle;\n",
       "    }\n",
       "\n",
       "    .dataframe tbody tr th {\n",
       "        vertical-align: top;\n",
       "    }\n",
       "\n",
       "    .dataframe thead th {\n",
       "        text-align: right;\n",
       "    }\n",
       "</style>\n",
       "<table border=\"1\" class=\"dataframe\">\n",
       "  <thead>\n",
       "    <tr style=\"text-align: right;\">\n",
       "      <th></th>\n",
       "      <th>cdi</th>\n",
       "      <th>dmin</th>\n",
       "      <th>felt</th>\n",
       "      <th>gap</th>\n",
       "      <th>mag</th>\n",
       "      <th>mmi</th>\n",
       "      <th>nst</th>\n",
       "      <th>rms</th>\n",
       "      <th>sig</th>\n",
       "      <th>time</th>\n",
       "      <th>tsunami</th>\n",
       "      <th>tz</th>\n",
       "      <th>updated</th>\n",
       "    </tr>\n",
       "  </thead>\n",
       "  <tbody>\n",
       "    <tr>\n",
       "      <th>count</th>\n",
       "      <td>15.000000</td>\n",
       "      <td>681.000000</td>\n",
       "      <td>15.000000</td>\n",
       "      <td>681.000000</td>\n",
       "      <td>681.000000</td>\n",
       "      <td>1.00</td>\n",
       "      <td>681.000000</td>\n",
       "      <td>681.000000</td>\n",
       "      <td>681.000000</td>\n",
       "      <td>6.810000e+02</td>\n",
       "      <td>681.0</td>\n",
       "      <td>681.0</td>\n",
       "      <td>6.810000e+02</td>\n",
       "    </tr>\n",
       "    <tr>\n",
       "      <th>mean</th>\n",
       "      <td>2.440000</td>\n",
       "      <td>0.166199</td>\n",
       "      <td>2.400000</td>\n",
       "      <td>153.668120</td>\n",
       "      <td>0.500073</td>\n",
       "      <td>2.84</td>\n",
       "      <td>12.618209</td>\n",
       "      <td>0.151986</td>\n",
       "      <td>10.970631</td>\n",
       "      <td>1.538314e+12</td>\n",
       "      <td>0.0</td>\n",
       "      <td>-480.0</td>\n",
       "      <td>1.538401e+12</td>\n",
       "    </tr>\n",
       "    <tr>\n",
       "      <th>std</th>\n",
       "      <td>0.501142</td>\n",
       "      <td>0.166228</td>\n",
       "      <td>4.626013</td>\n",
       "      <td>68.735302</td>\n",
       "      <td>0.696710</td>\n",
       "      <td>NaN</td>\n",
       "      <td>9.866963</td>\n",
       "      <td>0.084662</td>\n",
       "      <td>19.607150</td>\n",
       "      <td>5.966149e+08</td>\n",
       "      <td>0.0</td>\n",
       "      <td>0.0</td>\n",
       "      <td>6.012149e+08</td>\n",
       "    </tr>\n",
       "    <tr>\n",
       "      <th>min</th>\n",
       "      <td>2.000000</td>\n",
       "      <td>0.001000</td>\n",
       "      <td>1.000000</td>\n",
       "      <td>29.140000</td>\n",
       "      <td>-0.500000</td>\n",
       "      <td>2.84</td>\n",
       "      <td>3.000000</td>\n",
       "      <td>0.000500</td>\n",
       "      <td>0.000000</td>\n",
       "      <td>1.537250e+12</td>\n",
       "      <td>0.0</td>\n",
       "      <td>-480.0</td>\n",
       "      <td>1.537310e+12</td>\n",
       "    </tr>\n",
       "    <tr>\n",
       "      <th>25%</th>\n",
       "      <td>2.000000</td>\n",
       "      <td>0.053000</td>\n",
       "      <td>1.000000</td>\n",
       "      <td>97.380000</td>\n",
       "      <td>-0.100000</td>\n",
       "      <td>2.84</td>\n",
       "      <td>6.000000</td>\n",
       "      <td>0.106900</td>\n",
       "      <td>0.000000</td>\n",
       "      <td>1.537850e+12</td>\n",
       "      <td>0.0</td>\n",
       "      <td>-480.0</td>\n",
       "      <td>1.537930e+12</td>\n",
       "    </tr>\n",
       "    <tr>\n",
       "      <th>50%</th>\n",
       "      <td>2.200000</td>\n",
       "      <td>0.112000</td>\n",
       "      <td>1.000000</td>\n",
       "      <td>149.140000</td>\n",
       "      <td>0.400000</td>\n",
       "      <td>2.84</td>\n",
       "      <td>10.000000</td>\n",
       "      <td>0.146300</td>\n",
       "      <td>2.000000</td>\n",
       "      <td>1.538280e+12</td>\n",
       "      <td>0.0</td>\n",
       "      <td>-480.0</td>\n",
       "      <td>1.538430e+12</td>\n",
       "    </tr>\n",
       "    <tr>\n",
       "      <th>75%</th>\n",
       "      <td>2.900000</td>\n",
       "      <td>0.233000</td>\n",
       "      <td>1.000000</td>\n",
       "      <td>199.720000</td>\n",
       "      <td>0.900000</td>\n",
       "      <td>2.84</td>\n",
       "      <td>16.000000</td>\n",
       "      <td>0.187100</td>\n",
       "      <td>12.000000</td>\n",
       "      <td>1.538820e+12</td>\n",
       "      <td>0.0</td>\n",
       "      <td>-480.0</td>\n",
       "      <td>1.538880e+12</td>\n",
       "    </tr>\n",
       "    <tr>\n",
       "      <th>max</th>\n",
       "      <td>3.300000</td>\n",
       "      <td>1.414000</td>\n",
       "      <td>19.000000</td>\n",
       "      <td>355.910000</td>\n",
       "      <td>2.900000</td>\n",
       "      <td>2.84</td>\n",
       "      <td>61.000000</td>\n",
       "      <td>0.863400</td>\n",
       "      <td>129.000000</td>\n",
       "      <td>1.539460e+12</td>\n",
       "      <td>0.0</td>\n",
       "      <td>-480.0</td>\n",
       "      <td>1.539480e+12</td>\n",
       "    </tr>\n",
       "  </tbody>\n",
       "</table>\n",
       "</div>"
      ],
      "text/plain": [
       "             cdi        dmin       felt         gap         mag   mmi  \\\n",
       "count  15.000000  681.000000  15.000000  681.000000  681.000000  1.00   \n",
       "mean    2.440000    0.166199   2.400000  153.668120    0.500073  2.84   \n",
       "std     0.501142    0.166228   4.626013   68.735302    0.696710   NaN   \n",
       "min     2.000000    0.001000   1.000000   29.140000   -0.500000  2.84   \n",
       "25%     2.000000    0.053000   1.000000   97.380000   -0.100000  2.84   \n",
       "50%     2.200000    0.112000   1.000000  149.140000    0.400000  2.84   \n",
       "75%     2.900000    0.233000   1.000000  199.720000    0.900000  2.84   \n",
       "max     3.300000    1.414000  19.000000  355.910000    2.900000  2.84   \n",
       "\n",
       "              nst         rms         sig          time  tsunami     tz  \\\n",
       "count  681.000000  681.000000  681.000000  6.810000e+02    681.0  681.0   \n",
       "mean    12.618209    0.151986   10.970631  1.538314e+12      0.0 -480.0   \n",
       "std      9.866963    0.084662   19.607150  5.966149e+08      0.0    0.0   \n",
       "min      3.000000    0.000500    0.000000  1.537250e+12      0.0 -480.0   \n",
       "25%      6.000000    0.106900    0.000000  1.537850e+12      0.0 -480.0   \n",
       "50%     10.000000    0.146300    2.000000  1.538280e+12      0.0 -480.0   \n",
       "75%     16.000000    0.187100   12.000000  1.538820e+12      0.0 -480.0   \n",
       "max     61.000000    0.863400  129.000000  1.539460e+12      0.0 -480.0   \n",
       "\n",
       "            updated  \n",
       "count  6.810000e+02  \n",
       "mean   1.538401e+12  \n",
       "std    6.012149e+08  \n",
       "min    1.537310e+12  \n",
       "25%    1.537930e+12  \n",
       "50%    1.538430e+12  \n",
       "75%    1.538880e+12  \n",
       "max    1.539480e+12  "
      ]
     },
     "execution_count": 70,
     "metadata": {},
     "output_type": "execute_result"
    }
   ],
   "source": [
    "# Using describe() to check out the summary of the Nevada value in the parsed_place columns\n",
    "df[df.parsed_place == 'Nevada'].describe()"
   ]
  },
  {
   "cell_type": "markdown",
   "id": "28b3d228-69d2-40a4-be6a-008842e7fe35",
   "metadata": {},
   "source": [
    "# Problem 4"
   ]
  },
  {
   "cell_type": "markdown",
   "id": "d0412a04-7543-48b1-91be-4011eff167e8",
   "metadata": {},
   "source": [
    "#### Calculate summary statistics for earthquakes in Nevada"
   ]
  },
  {
   "cell_type": "code",
   "execution_count": 81,
   "id": "070f84cf-7e3c-4bbb-9646-0d8667d8736a",
   "metadata": {},
   "outputs": [],
   "source": [
    "# code creates a new coloumn ring of fire location that checks in the appropriate column accesing\n",
    "# the values with str and using the function contains() then joining a set of vaulues\n",
    "df['ring_of_fire_location'] = df.parsed_place.str.contains(r'|'.join(['Alaska', 'Antarctic', 'Bolivia', 'California', 'Canada','Chile', 'Costa Rica', 'Ecuador', 'Fiji', 'Guatemala',\n",
    "'Indonesia', 'Japan', 'Kermadec Islands', '^Mexico','New Zealand', 'Peru', 'Philippines', 'Russia','Taiwan', 'Tonga', 'Washington']))"
   ]
  },
  {
   "cell_type": "markdown",
   "id": "660f901f-2726-4cc0-ac8b-1c05a77bb243",
   "metadata": {},
   "source": [
    "# Problem 5"
   ]
  },
  {
   "cell_type": "markdown",
   "id": "f06dc52c-980d-402b-bfd8-f4dc260e162e",
   "metadata": {},
   "source": [
    "#### Calculate the number of earthquakes in the ring of fire locations and the number outside"
   ]
  },
  {
   "cell_type": "code",
   "execution_count": 88,
   "id": "d7741615-e160-4f6a-a29b-e7c964d53a08",
   "metadata": {},
   "outputs": [
    {
     "data": {
      "text/plain": [
       "ring_of_fire_location\n",
       "True     7188\n",
       "False    2144\n",
       "Name: count, dtype: int64"
      ]
     },
     "execution_count": 88,
     "metadata": {},
     "output_type": "execute_result"
    }
   ],
   "source": [
    "# using value_counts() wihtout any paramaters\n",
    "df.ring_of_fire_location.value_counts()"
   ]
  },
  {
   "cell_type": "markdown",
   "id": "493a7761-8f83-4b8d-a3c1-222738ff51bb",
   "metadata": {},
   "source": [
    "# Problem 6"
   ]
  },
  {
   "cell_type": "markdown",
   "id": "2b2be667-57f5-48b3-af37-968924a1d477",
   "metadata": {},
   "source": [
    "#### Find the tsunami count along the ring of fire"
   ]
  },
  {
   "cell_type": "code",
   "execution_count": 93,
   "id": "dd2adfc0-520d-4f07-b35c-a02d06514d1b",
   "metadata": {},
   "outputs": [
    {
     "data": {
      "text/plain": [
       "45"
      ]
     },
     "execution_count": 93,
     "metadata": {},
     "output_type": "execute_result"
    }
   ],
   "source": [
    "# -using sum() to find the count of tsunamis\n",
    "df.loc[df.ring_of_fire_location, 'tsunami'].sum()"
   ]
  },
  {
   "cell_type": "markdown",
   "id": "27892ba4-a876-4ffc-9f58-d8d9a6d762fa",
   "metadata": {},
   "source": [
    "### Title: 3.2 Exercise\n",
    "### Author: Stefanie Molin\n",
    "### Date: 09/13/2024\n",
    "### Modified By: Vanessa Williams\n",
    "### Description: Using to add a column containing specific locations"
   ]
  },
  {
   "cell_type": "code",
   "execution_count": null,
   "id": "176ac848-9de1-4684-85ae-941927db463c",
   "metadata": {},
   "outputs": [],
   "source": []
  }
 ],
 "metadata": {
  "kernelspec": {
   "display_name": "Python 3 (ipykernel)",
   "language": "python",
   "name": "python3"
  },
  "language_info": {
   "codemirror_mode": {
    "name": "ipython",
    "version": 3
   },
   "file_extension": ".py",
   "mimetype": "text/x-python",
   "name": "python",
   "nbconvert_exporter": "python",
   "pygments_lexer": "ipython3",
   "version": "3.11.7"
  }
 },
 "nbformat": 4,
 "nbformat_minor": 5
}
