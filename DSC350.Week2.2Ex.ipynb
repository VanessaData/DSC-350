{
 "cells": [
  {
   "cell_type": "markdown",
   "id": "a2cf0a01-c107-4ed0-a31d-882a83b5ece9",
   "metadata": {},
   "source": [
    "#problem 1"
   ]
  },
  {
   "cell_type": "code",
   "execution_count": 1,
   "id": "fd9b0d39-25e7-4263-bacc-94b40a33305f",
   "metadata": {},
   "outputs": [],
   "source": [
    "import sys\n",
    "from datetime import datetime\n",
    "import numpy as np"
   ]
  },
  {
   "cell_type": "code",
   "execution_count": 2,
   "id": "eaaff7fb-9b92-4190-b8c7-e86fa18e8fe6",
   "metadata": {},
   "outputs": [],
   "source": [
    "def numpysum(n):\n",
    "    a = numpy.arrange(n)**2\n",
    "    b = numpy.arrange(n)**3\n",
    "    c = a +b\n",
    "    return c"
   ]
  },
  {
   "cell_type": "code",
   "execution_count": 3,
   "id": "43a6fd03-1f47-4cce-bd8f-2e6dc4961854",
   "metadata": {},
   "outputs": [],
   "source": [
    "def pythonsum(n):\n",
    "    a = list(range(n))\n",
    "    b = list(range(n))\n",
    "    c = []\n",
    "    for i in range(len(a)):\n",
    "        a[i] = i**2\n",
    "        b[i] = i**3\n",
    "        c.append(a[i] + b[i])\n",
    "        return c"
   ]
  },
  {
   "cell_type": "markdown",
   "id": "2acacec5-9961-466b-a28d-949806b15c1b",
   "metadata": {},
   "source": [
    "#import iris dataset"
   ]
  },
  {
   "cell_type": "code",
   "execution_count": 39,
   "id": "101beb19-e786-4fa7-b6bc-2697c9658f2c",
   "metadata": {},
   "outputs": [],
   "source": [
    "from sklearn.datasets import load_iris"
   ]
  },
  {
   "cell_type": "code",
   "execution_count": 41,
   "id": "bdc1bc0b-dee1-43dd-86d0-52f6fd92cfba",
   "metadata": {},
   "outputs": [
    {
     "name": "stdout",
     "output_type": "stream",
     "text": [
      ".. _iris_dataset:\n",
      "\n",
      "Iris plants dataset\n",
      "--------------------\n",
      "\n",
      "**Data Set Characteristics:**\n",
      "\n",
      "    :Number of Instances: 150 (50 in each of three classes)\n",
      "    :Number of Attributes: 4 numeric, predictive attributes and the class\n",
      "    :Attribute Information:\n",
      "        - sepal length in cm\n",
      "        - sepal width in cm\n",
      "        - petal length in cm\n",
      "        - petal width in cm\n",
      "        - class:\n",
      "                - Iris-Setosa\n",
      "                - Iris-Versicolour\n",
      "                - Iris-Virginica\n",
      "                \n",
      "    :Summary Statistics:\n",
      "\n",
      "    ============== ==== ==== ======= ===== ====================\n",
      "                    Min  Max   Mean    SD   Class Correlation\n",
      "    ============== ==== ==== ======= ===== ====================\n",
      "    sepal length:   4.3  7.9   5.84   0.83    0.7826\n",
      "    sepal width:    2.0  4.4   3.05   0.43   -0.4194\n",
      "    petal length:   1.0  6.9   3.76   1.76    0.9490  (high!)\n",
      "    petal width:    0.1  2.5   1.20   0.76    0.9565  (high!)\n",
      "    ============== ==== ==== ======= ===== ====================\n",
      "\n",
      "    :Missing Attribute Values: None\n",
      "    :Class Distribution: 33.3% for each of 3 classes.\n",
      "    :Creator: R.A. Fisher\n",
      "    :Donor: Michael Marshall (MARSHALL%PLU@io.arc.nasa.gov)\n",
      "    :Date: July, 1988\n",
      "\n",
      "The famous Iris database, first used by Sir R.A. Fisher. The dataset is taken\n",
      "from Fisher's paper. Note that it's the same as in R, but not as in the UCI\n",
      "Machine Learning Repository, which has two wrong data points.\n",
      "\n",
      "This is perhaps the best known database to be found in the\n",
      "pattern recognition literature.  Fisher's paper is a classic in the field and\n",
      "is referenced frequently to this day.  (See Duda & Hart, for example.)  The\n",
      "data set contains 3 classes of 50 instances each, where each class refers to a\n",
      "type of iris plant.  One class is linearly separable from the other 2; the\n",
      "latter are NOT linearly separable from each other.\n",
      "\n",
      ".. topic:: References\n",
      "\n",
      "   - Fisher, R.A. \"The use of multiple measurements in taxonomic problems\"\n",
      "     Annual Eugenics, 7, Part II, 179-188 (1936); also in \"Contributions to\n",
      "     Mathematical Statistics\" (John Wiley, NY, 1950).\n",
      "   - Duda, R.O., & Hart, P.E. (1973) Pattern Classification and Scene Analysis.\n",
      "     (Q327.D83) John Wiley & Sons.  ISBN 0-471-22361-1.  See page 218.\n",
      "   - Dasarathy, B.V. (1980) \"Nosing Around the Neighborhood: A New System\n",
      "     Structure and Classification Rule for Recognition in Partially Exposed\n",
      "     Environments\".  IEEE Transactions on Pattern Analysis and Machine\n",
      "     Intelligence, Vol. PAMI-2, No. 1, 67-71.\n",
      "   - Gates, G.W. (1972) \"The Reduced Nearest Neighbor Rule\".  IEEE Transactions\n",
      "     on Information Theory, May 1972, 431-433.\n",
      "   - See also: 1988 MLC Proceedings, 54-64.  Cheeseman et al\"s AUTOCLASS II\n",
      "     conceptual clustering system finds 3 classes in the data.\n",
      "   - Many, many more ...\n"
     ]
    }
   ],
   "source": [
    "iris = load_iris()\n",
    "\n",
    "#print description of Iris dataset\n",
    "print(iris.DESCR)"
   ]
  },
  {
   "cell_type": "markdown",
   "id": "4f560fa2-2dfe-42af-a5ff-2f49e2c25084",
   "metadata": {},
   "source": [
    "#import matplotib library"
   ]
  },
  {
   "cell_type": "code",
   "execution_count": 45,
   "id": "bfd12f66-d509-4882-9b07-632b419e6194",
   "metadata": {},
   "outputs": [],
   "source": [
    "from matplotlib import pyplot as plt"
   ]
  },
  {
   "cell_type": "markdown",
   "id": "8b488242-d610-48cd-9715-9bbac8180a49",
   "metadata": {},
   "source": [
    "#create scatterplot plot column 1 (sepal length) as x and column 2 (sepal width) as y "
   ]
  },
  {
   "cell_type": "code",
   "execution_count": 47,
   "id": "ff96e91b-0996-49be-baa8-e0e29f3c551d",
   "metadata": {},
   "outputs": [
    {
     "data": {
      "image/png": "[encoded data removed]",
      "text/plain": [
       "<Figure size 640x480 with 1 Axes>"
      ]
     },
     "metadata": {},
     "output_type": "display_data"
    }
   ],
   "source": [
    "data=iris.data\n",
    "plt.plot(data[:,0],data[:,1],\".\")\n",
    "plt.show()"
   ]
  },
  {
   "cell_type": "markdown",
   "id": "850b93fa-64e4-4250-961f-01de7dcb24f2",
   "metadata": {},
   "source": [
    "#problem 3"
   ]
  },
  {
   "cell_type": "markdown",
   "id": "cbf29a7b-8fc0-4708-a06b-039c148c3057",
   "metadata": {},
   "source": [
    "#import Boston dataset"
   ]
  },
  {
   "cell_type": "code",
   "execution_count": 49,
   "id": "948d6548-eaec-42bd-89d3-3a37f44915b0",
   "metadata": {},
   "outputs": [
    {
     "ename": "ImportError",
     "evalue": "\n`load_boston` has been removed from scikit-learn since version 1.2.\n\nThe Boston housing prices dataset has an ethical problem: as\ninvestigated in [1], the authors of this dataset engineered a\nnon-invertible variable \"B\" assuming that racial self-segregation had a\npositive impact on house prices [2]. Furthermore the goal of the\nresearch that led to the creation of this dataset was to study the\nimpact of air quality but it did not give adequate demonstration of the\nvalidity of this assumption.\n\nThe scikit-learn maintainers therefore strongly discourage the use of\nthis dataset unless the purpose of the code is to study and educate\nabout ethical issues in data science and machine learning.\n\nIn this special case, you can fetch the dataset from the original\nsource::\n\n    import pandas as pd\n    import numpy as np\n\n    data_url = \"http://lib.stat.cmu.edu/datasets/boston\"\n    raw_df = pd.read_csv(data_url, sep=\"\\s+\", skiprows=22, header=None)\n    data = np.hstack([raw_df.values[::2, :], raw_df.values[1::2, :2]])\n    target = raw_df.values[1::2, 2]\n\nAlternative datasets include the California housing dataset and the\nAmes housing dataset. You can load the datasets as follows::\n\n    from sklearn.datasets import fetch_california_housing\n    housing = fetch_california_housing()\n\nfor the California housing dataset and::\n\n    from sklearn.datasets import fetch_openml\n    housing = fetch_openml(name=\"house_prices\", as_frame=True)\n\nfor the Ames housing dataset.\n\n[1] M Carlisle.\n\"Racist data destruction?\"\n<https://medium.com/@docintangible/racist-data-destruction-113e3eff54a8>\n\n[2] Harrison Jr, David, and Daniel L. Rubinfeld.\n\"Hedonic housing prices and the demand for clean air.\"\nJournal of environmental economics and management 5.1 (1978): 81-102.\n<https://www.researchgate.net/publication/4974606_Hedonic_housing_prices_and_the_demand_for_clean_air>\n",
     "output_type": "error",
     "traceback": [
      "\u001b[1;31m---------------------------------------------------------------------------\u001b[0m",
      "\u001b[1;31mImportError\u001b[0m                               Traceback (most recent call last)",
      "Cell \u001b[1;32mIn[49], line 1\u001b[0m\n\u001b[1;32m----> 1\u001b[0m \u001b[38;5;28;01mfrom\u001b[39;00m \u001b[38;5;21;01msklearn\u001b[39;00m\u001b[38;5;21;01m.\u001b[39;00m\u001b[38;5;21;01mdatasets\u001b[39;00m \u001b[38;5;28;01mimport\u001b[39;00m load_boston\n",
      "File \u001b[1;32m~\\anaconda3\\aco\\Lib\\site-packages\\sklearn\\datasets\\__init__.py:156\u001b[0m, in \u001b[0;36m__getattr__\u001b[1;34m(name)\u001b[0m\n\u001b[0;32m    105\u001b[0m \u001b[38;5;28;01mif\u001b[39;00m name \u001b[38;5;241m==\u001b[39m \u001b[38;5;124m\"\u001b[39m\u001b[38;5;124mload_boston\u001b[39m\u001b[38;5;124m\"\u001b[39m:\n\u001b[0;32m    106\u001b[0m     msg \u001b[38;5;241m=\u001b[39m textwrap\u001b[38;5;241m.\u001b[39mdedent(\n\u001b[0;32m    107\u001b[0m \u001b[38;5;250m        \u001b[39m\u001b[38;5;124;03m\"\"\"\u001b[39;00m\n\u001b[0;32m    108\u001b[0m \u001b[38;5;124;03m        `load_boston` has been removed from scikit-learn since version 1.2.\u001b[39;00m\n\u001b[1;32m   (...)\u001b[0m\n\u001b[0;32m    154\u001b[0m \u001b[38;5;124;03m        \"\"\"\u001b[39;00m\n\u001b[0;32m    155\u001b[0m     )\n\u001b[1;32m--> 156\u001b[0m     \u001b[38;5;28;01mraise\u001b[39;00m \u001b[38;5;167;01mImportError\u001b[39;00m(msg)\n\u001b[0;32m    157\u001b[0m \u001b[38;5;28;01mtry\u001b[39;00m:\n\u001b[0;32m    158\u001b[0m     \u001b[38;5;28;01mreturn\u001b[39;00m \u001b[38;5;28mglobals\u001b[39m()[name]\n",
      "\u001b[1;31mImportError\u001b[0m: \n`load_boston` has been removed from scikit-learn since version 1.2.\n\nThe Boston housing prices dataset has an ethical problem: as\ninvestigated in [1], the authors of this dataset engineered a\nnon-invertible variable \"B\" assuming that racial self-segregation had a\npositive impact on house prices [2]. Furthermore the goal of the\nresearch that led to the creation of this dataset was to study the\nimpact of air quality but it did not give adequate demonstration of the\nvalidity of this assumption.\n\nThe scikit-learn maintainers therefore strongly discourage the use of\nthis dataset unless the purpose of the code is to study and educate\nabout ethical issues in data science and machine learning.\n\nIn this special case, you can fetch the dataset from the original\nsource::\n\n    import pandas as pd\n    import numpy as np\n\n    data_url = \"http://lib.stat.cmu.edu/datasets/boston\"\n    raw_df = pd.read_csv(data_url, sep=\"\\s+\", skiprows=22, header=None)\n    data = np.hstack([raw_df.values[::2, :], raw_df.values[1::2, :2]])\n    target = raw_df.values[1::2, 2]\n\nAlternative datasets include the California housing dataset and the\nAmes housing dataset. You can load the datasets as follows::\n\n    from sklearn.datasets import fetch_california_housing\n    housing = fetch_california_housing()\n\nfor the California housing dataset and::\n\n    from sklearn.datasets import fetch_openml\n    housing = fetch_openml(name=\"house_prices\", as_frame=True)\n\nfor the Ames housing dataset.\n\n[1] M Carlisle.\n\"Racist data destruction?\"\n<https://medium.com/@docintangible/racist-data-destruction-113e3eff54a8>\n\n[2] Harrison Jr, David, and Daniel L. Rubinfeld.\n\"Hedonic housing prices and the demand for clean air.\"\nJournal of environmental economics and management 5.1 (1978): 81-102.\n<https://www.researchgate.net/publication/4974606_Hedonic_housing_prices_and_the_demand_for_clean_air>\n"
     ]
    }
   ],
   "source": [
    "from sklearn.datasets import load_boston"
   ]
  },
  {
   "cell_type": "code",
   "execution_count": 59,
   "id": "f453cb73-e26f-4eb7-9d62-2a9d53a1941e",
   "metadata": {},
   "outputs": [],
   "source": [
    "import pandas as pd\n",
    "import numpy as np\n",
    "\n",
    "data_url = \"http://lib.stat.cmu.edu/datasets/boston\"\n",
    "raw_df = pd.read_csv(data_url, sep=\"\\s+\", skiprows=22, header=None)\n",
    "data = np.hstack([raw_df.values[::2, :], raw_df.values[1::2, :2]])\n",
    "target = raw_df.values[1::2, 2]"
   ]
  },
  {
   "cell_type": "code",
   "execution_count": 65,
   "id": "563ef541-a74a-4016-9105-532ecc78197d",
   "metadata": {},
   "outputs": [
    {
     "ename": "TypeError",
     "evalue": "'numpy.ndarray' object is not callable",
     "output_type": "error",
     "traceback": [
      "\u001b[1;31m---------------------------------------------------------------------------\u001b[0m",
      "\u001b[1;31mTypeError\u001b[0m                                 Traceback (most recent call last)",
      "Cell \u001b[1;32mIn[65], line 1\u001b[0m\n\u001b[1;32m----> 1\u001b[0m boston \u001b[38;5;241m=\u001b[39m target()\n\u001b[0;32m      2\u001b[0m \u001b[38;5;28mprint\u001b[39m(boston\u001b[38;5;241m.\u001b[39mDESCR)\n",
      "\u001b[1;31mTypeError\u001b[0m: 'numpy.ndarray' object is not callable"
     ]
    }
   ],
   "source": [
    "boston = target()\n",
    "print(boston.DESCR)"
   ]
  },
  {
   "cell_type": "code",
   "execution_count": null,
   "id": "45260b8e-77bc-4d4f-9409-b22415e94efa",
   "metadata": {},
   "outputs": [],
   "source": []
  },
  {
   "cell_type": "markdown",
   "id": "3553da33-e24f-4589-b5be-f5f2f7c0d9a8",
   "metadata": {},
   "source": [
    "#problem 4"
   ]
  },
  {
   "cell_type": "markdown",
   "id": "b79c9fb3-2c52-4b85-b3d9-00cf785c3eb1",
   "metadata": {},
   "source": [
    "#Create a multi-dimensional array"
   ]
  },
  {
   "cell_type": "code",
   "execution_count": 69,
   "id": "7bc19a14-57b9-4eef-ac1c-d6276cc9b30d",
   "metadata": {},
   "outputs": [],
   "source": [
    "m = np.array([np.arange(2), np.arange(2)])"
   ]
  },
  {
   "cell_type": "code",
   "execution_count": 71,
   "id": "db3ff286-cd0a-4e0b-9056-9f1a16f66dd5",
   "metadata": {},
   "outputs": [
    {
     "data": {
      "text/plain": [
       "array([[0, 1],\n",
       "       [0, 1]])"
      ]
     },
     "execution_count": 71,
     "metadata": {},
     "output_type": "execute_result"
    }
   ],
   "source": [
    "m"
   ]
  },
  {
   "cell_type": "code",
   "execution_count": 73,
   "id": "97ab6a0b-4841-4f29-9a56-f764bf99db84",
   "metadata": {},
   "outputs": [
    {
     "data": {
      "text/plain": [
       "(2, 2)"
      ]
     },
     "execution_count": 73,
     "metadata": {},
     "output_type": "execute_result"
    }
   ],
   "source": [
    "m.shape"
   ]
  },
  {
   "cell_type": "code",
   "execution_count": null,
   "id": "34eea59a-fe06-4f15-9f9e-1f0cfbe86538",
   "metadata": {},
   "outputs": [],
   "source": []
  },
  {
   "cell_type": "markdown",
   "id": "35aded96-fd83-4060-92e3-3bb727783b02",
   "metadata": {},
   "source": [
    "#problem 5"
   ]
  },
  {
   "cell_type": "markdown",
   "id": "80cf9017-928b-4c59-ae51-f1205da83f76",
   "metadata": {},
   "source": [
    "#Produce an array of single precision floats"
   ]
  },
  {
   "cell_type": "code",
   "execution_count": 105,
   "id": "d01170a6-86ec-4d07-a433-9814b7ffcef7",
   "metadata": {},
   "outputs": [
    {
     "name": "stdout",
     "output_type": "stream",
     "text": [
      "[1.1 2.2 3.3 4.4 5.5]\n"
     ]
    }
   ],
   "source": [
    "float_array = np.array([1.1, 2.2, 3.3, 4.4, 5.5], dtype=np.float32)\n",
    "print(float_array)\n"
   ]
  },
  {
   "cell_type": "markdown",
   "id": "1e5412d7-a32f-46bc-b118-9a747ef6192a",
   "metadata": {},
   "source": [
    "#is this right ^"
   ]
  },
  {
   "cell_type": "code",
   "execution_count": 77,
   "id": "8078cfe3-9805-47ce-86a9-51b620d44ad1",
   "metadata": {},
   "outputs": [],
   "source": [
    "a = np.array([[1,2],[3,4]])"
   ]
  },
  {
   "cell_type": "code",
   "execution_count": 79,
   "id": "0ebdc66c-236c-490b-9a59-9084284d8a0d",
   "metadata": {},
   "outputs": [
    {
     "data": {
      "text/plain": [
       "array([[1, 2],\n",
       "       [3, 4]])"
      ]
     },
     "execution_count": 79,
     "metadata": {},
     "output_type": "execute_result"
    }
   ],
   "source": [
    "a"
   ]
  },
  {
   "cell_type": "code",
   "execution_count": 81,
   "id": "c232903a-41f9-40e3-9bff-86a70f694ab2",
   "metadata": {},
   "outputs": [
    {
     "data": {
      "text/plain": [
       "1"
      ]
     },
     "execution_count": 81,
     "metadata": {},
     "output_type": "execute_result"
    }
   ],
   "source": [
    "a[0,0]"
   ]
  },
  {
   "cell_type": "code",
   "execution_count": 83,
   "id": "37836b22-a44e-4070-b0eb-9d4c2c7dfdeb",
   "metadata": {},
   "outputs": [
    {
     "data": {
      "text/plain": [
       "2"
      ]
     },
     "execution_count": 83,
     "metadata": {},
     "output_type": "execute_result"
    }
   ],
   "source": [
    "a[0,1]"
   ]
  },
  {
   "cell_type": "code",
   "execution_count": 85,
   "id": "4b3e4301-28ec-4199-a915-9213a5b2be3c",
   "metadata": {},
   "outputs": [
    {
     "data": {
      "text/plain": [
       "3"
      ]
     },
     "execution_count": 85,
     "metadata": {},
     "output_type": "execute_result"
    }
   ],
   "source": [
    "a[1,0]"
   ]
  },
  {
   "cell_type": "code",
   "execution_count": 87,
   "id": "16b768e0-c6fe-4de0-933b-525ee6351003",
   "metadata": {},
   "outputs": [
    {
     "data": {
      "text/plain": [
       "4"
      ]
     },
     "execution_count": 87,
     "metadata": {},
     "output_type": "execute_result"
    }
   ],
   "source": [
    "a[1,1]"
   ]
  },
  {
   "cell_type": "markdown",
   "id": "dda898a4-8ecf-4308-8da4-aa82e20ec404",
   "metadata": {},
   "source": [
    "#problem 6"
   ]
  },
  {
   "cell_type": "markdown",
   "id": "380bf52a-7a0c-45a8-b74d-fb4c545188ad",
   "metadata": {},
   "source": [
    "#Produce an array of complex numbers"
   ]
  },
  {
   "cell_type": "code",
   "execution_count": 109,
   "id": "fb4c9b8d-424c-4afa-a0a4-406c48fceac5",
   "metadata": {},
   "outputs": [
    {
     "name": "stdout",
     "output_type": "stream",
     "text": [
      "[1.+2.j 3.+4.j 5.+6.j 7.+8.j]\n"
     ]
    }
   ],
   "source": [
    "complex_array = np.array([1+2j, 3+4j, 5+6j, 7+8j], dtype=np.complex128)\n",
    "print(complex_array)"
   ]
  },
  {
   "cell_type": "code",
   "execution_count": null,
   "id": "cd333094-d571-45d7-87b7-8b69a36c009e",
   "metadata": {},
   "outputs": [],
   "source": []
  },
  {
   "cell_type": "markdown",
   "id": "c1b97d9f-0ad4-446b-a86c-86292428a0f7",
   "metadata": {},
   "source": [
    "#problem 7"
   ]
  },
  {
   "cell_type": "markdown",
   "id": "7fec1783-2382-4f30-ae3f-7b220ab11481",
   "metadata": {},
   "source": [
    "#part a: define an array containing the numbers 0, 1, 2, and so on up to and including 8."
   ]
  },
  {
   "cell_type": "code",
   "execution_count": 111,
   "id": "07a2ed73-70b2-4e45-ab78-0379a2935da9",
   "metadata": {},
   "outputs": [
    {
     "name": "stdout",
     "output_type": "stream",
     "text": [
      "[0 1 2 3 4 5 6 7 8]\n"
     ]
    }
   ],
   "source": [
    "numbers = np.array([0, 1, 2, 3, 4, 5, 6, 7, 8])\n",
    "print(numbers)"
   ]
  },
  {
   "cell_type": "markdown",
   "id": "48c3125f-c4a7-4012-9c07-35b8c6fa2244",
   "metadata": {},
   "source": [
    "#part b: select a part of the array from indexes 3 to 7, which extract the elements of the arrays 3 through 6"
   ]
  },
  {
   "cell_type": "code",
   "execution_count": 115,
   "id": "ffe1c342-7036-4657-b76f-db238d7d815d",
   "metadata": {},
   "outputs": [
    {
     "name": "stdout",
     "output_type": "stream",
     "text": [
      "[3 4 5 6]\n"
     ]
    }
   ],
   "source": [
    "array = np.array([0, 1, 2, 3, 4, 5, 6, 7, 8])\n",
    "sub_array = array[3:7]\n",
    "print(sub_array)"
   ]
  },
  {
   "cell_type": "markdown",
   "id": "4cc0e9e3-cbf5-46d8-a761-2d35b43b57d7",
   "metadata": {},
   "source": [
    "#part c: choose elements from an index of 0 to 7 with an increment of 2"
   ]
  },
  {
   "cell_type": "code",
   "execution_count": 119,
   "id": "bd806f5b-b9b9-4f51-abbd-53382071f0dd",
   "metadata": {},
   "outputs": [
    {
     "name": "stdout",
     "output_type": "stream",
     "text": [
      "Original array: [0 1 2 3 4 5 6 7 8]\n",
      "Part of the array (index 3 to 6): [3 4 5 6]\n",
      "Elements with an incrementof 2 from index to 7: [0 2 4 6]\n"
     ]
    }
   ],
   "source": [
    "array = np.array([0, 1, 2, 3, 4, 5, 6, 7, 8])\n",
    "part_array = array[3:7]\n",
    "step_array = array[0:8:2]\n",
    "print(\"Original array:\", array)\n",
    "print(\"Part of the array (index 3 to 6):\", part_array)\n",
    "print(\"Elements with an incrementof 2 from index to 7:\", step_array)"
   ]
  },
  {
   "cell_type": "code",
   "execution_count": null,
   "id": "0aafeb99-f55d-43ae-891c-1b1d48a864a6",
   "metadata": {},
   "outputs": [],
   "source": [
    "part d: reverse array"
   ]
  },
  {
   "cell_type": "code",
   "execution_count": 123,
   "id": "66b7afaa-305b-4b67-9f69-463cad41bfdd",
   "metadata": {},
   "outputs": [
    {
     "name": "stdout",
     "output_type": "stream",
     "text": [
      "Original array: [0 1 2 3 4 5 6 7 8]\n",
      "Part of the array (index 3 to 6): [3 4 5 6]\n",
      "Elements with an incrementof 2 from index to 7: [0 2 4 6]\n",
      "Reversed array: [8 7 6 5 4 3 2 1 0]\n"
     ]
    }
   ],
   "source": [
    "array = np.array([0, 1, 2, 3, 4, 5, 6, 7, 8])\n",
    "part_array = array[3:7]\n",
    "step_array = array[0:8:2]\n",
    "reversed_array = array[::-1]\n",
    "print(\"Original array:\", array)\n",
    "print(\"Part of the array (index 3 to 6):\", part_array)\n",
    "print(\"Elements with an incrementof 2 from index to 7:\", step_array)\n",
    "print(\"Reversed array:\", reversed_array)"
   ]
  },
  {
   "cell_type": "markdown",
   "id": "3b01302c-d92e-4bb4-a475-e1685f951491",
   "metadata": {},
   "source": [
    "#problem 8"
   ]
  },
  {
   "cell_type": "markdown",
   "id": "496f95b3-a141-4605-9c86-8c7f1af38040",
   "metadata": {},
   "source": [
    "#create an array for parts a through e"
   ]
  },
  {
   "cell_type": "code",
   "execution_count": 129,
   "id": "563dd7d2-f329-4b1a-868b-a5478dd26ec0",
   "metadata": {},
   "outputs": [
    {
     "name": "stdout",
     "output_type": "stream",
     "text": [
      "[[[ 0  1  2  3]\n",
      "  [ 4  5  6  7]\n",
      "  [ 8  9 10 11]]\n",
      "\n",
      " [[12 13 14 15]\n",
      "  [16 17 18 19]\n",
      "  [20 21 22 23]]]\n"
     ]
    }
   ],
   "source": [
    "b = np.arange(24).reshape(2, 3, 4)\n",
    "print(b)"
   ]
  },
  {
   "cell_type": "markdown",
   "id": "7bb6d179-2456-4f11-9124-89999ba90dfa",
   "metadata": {},
   "source": [
    "#part a: Ravel"
   ]
  },
  {
   "cell_type": "code",
   "execution_count": 131,
   "id": "b796077f-51e5-46f7-b1d7-2fa4b205f6be",
   "metadata": {},
   "outputs": [
    {
     "name": "stdout",
     "output_type": "stream",
     "text": [
      "[[[ 0  1  2  3]\n",
      "  [ 4  5  6  7]\n",
      "  [ 8  9 10 11]]\n",
      "\n",
      " [[12 13 14 15]\n",
      "  [16 17 18 19]\n",
      "  [20 21 22 23]]]\n",
      "[ 0  1  2  3  4  5  6  7  8  9 10 11 12 13 14 15 16 17 18 19 20 21 22 23]\n"
     ]
    }
   ],
   "source": [
    "b = np.arange(24).reshape(2,3,4)\n",
    "print(b)\n",
    "print(b.ravel())"
   ]
  },
  {
   "cell_type": "markdown",
   "id": "46009552-f9a4-436a-bd8b-ab9348866441",
   "metadata": {},
   "source": [
    "#part b: Flatten"
   ]
  },
  {
   "cell_type": "code",
   "execution_count": 133,
   "id": "6d204e32-d679-489b-b81a-1f4393e4ceac",
   "metadata": {},
   "outputs": [
    {
     "name": "stdout",
     "output_type": "stream",
     "text": [
      "[[[ 0  1  2  3]\n",
      "  [ 4  5  6  7]\n",
      "  [ 8  9 10 11]]\n",
      "\n",
      " [[12 13 14 15]\n",
      "  [16 17 18 19]\n",
      "  [20 21 22 23]]]\n",
      "[ 0  1  2  3  4  5  6  7  8  9 10 11 12 13 14 15 16 17 18 19 20 21 22 23]\n"
     ]
    }
   ],
   "source": [
    "b = np.arange(24).reshape(2,3,4)\n",
    "print(b)\n",
    "print(b.flatten())"
   ]
  },
  {
   "cell_type": "markdown",
   "id": "a4ebf710-6c6f-412f-bf94-f9efc5146dbc",
   "metadata": {},
   "source": [
    "#part c: Setting the shape with a tuple"
   ]
  },
  {
   "cell_type": "code",
   "execution_count": 135,
   "id": "edcad166-c5ef-4a53-8f7d-3f88f6fc898a",
   "metadata": {},
   "outputs": [
    {
     "name": "stdout",
     "output_type": "stream",
     "text": [
      "[[ 0  1  2  3]\n",
      " [ 4  5  6  7]\n",
      " [ 8  9 10 11]\n",
      " [12 13 14 15]\n",
      " [16 17 18 19]\n",
      " [20 21 22 23]]\n"
     ]
    }
   ],
   "source": [
    "b.shape = (6,4)\n",
    "print(b)"
   ]
  },
  {
   "cell_type": "markdown",
   "id": "9f9b49be-9628-4650-b246-7d7d68e2c8b7",
   "metadata": {},
   "source": [
    "#part d: Transpose"
   ]
  },
  {
   "cell_type": "code",
   "execution_count": 137,
   "id": "d6c94f4e-90fb-4753-869c-6c7693f9e85c",
   "metadata": {},
   "outputs": [
    {
     "name": "stdout",
     "output_type": "stream",
     "text": [
      "[[ 0  4  8 12 16 20]\n",
      " [ 1  5  9 13 17 21]\n",
      " [ 2  6 10 14 18 22]\n",
      " [ 3  7 11 15 19 23]]\n"
     ]
    }
   ],
   "source": [
    "print(b.transpose())"
   ]
  },
  {
   "cell_type": "markdown",
   "id": "a9cd3ff3-a90f-47c1-a31c-95b126fe22bf",
   "metadata": {},
   "source": [
    "#part e: Resize"
   ]
  },
  {
   "cell_type": "code",
   "execution_count": 139,
   "id": "4c80fe8e-50a4-4895-8dc4-eea07c8696ef",
   "metadata": {},
   "outputs": [
    {
     "name": "stdout",
     "output_type": "stream",
     "text": [
      "[[ 0  1  2  3  4  5  6  7  8  9 10 11]\n",
      " [12 13 14 15 16 17 18 19 20 21 22 23]]\n"
     ]
    }
   ],
   "source": [
    "b.resize((2,12))\n",
    "print(b)"
   ]
  },
  {
   "cell_type": "code",
   "execution_count": null,
   "id": "bbfe9afd-9543-414c-8a6c-2563cfaaf898",
   "metadata": {},
   "outputs": [],
   "source": []
  },
  {
   "cell_type": "markdown",
   "id": "789d037c-3b90-48c3-b716-009cb199c355",
   "metadata": {},
   "source": [
    "#problem 9"
   ]
  },
  {
   "cell_type": "markdown",
   "id": "c3e7d943-1906-46e5-9103-253bab9377ea",
   "metadata": {},
   "source": [
    "#create an array for parts a through d"
   ]
  },
  {
   "cell_type": "code",
   "execution_count": 141,
   "id": "e6e318e5-ec5f-41eb-871e-130d873630b3",
   "metadata": {},
   "outputs": [
    {
     "name": "stdout",
     "output_type": "stream",
     "text": [
      "[[[ 0  1  2  3]\n",
      "  [ 4  5  6  7]\n",
      "  [ 8  9 10 11]]\n",
      "\n",
      " [[12 13 14 15]\n",
      "  [16 17 18 19]\n",
      "  [20 21 22 23]]]\n"
     ]
    }
   ],
   "source": [
    "b = np.arange(24).reshape(2, 3, 4)\n",
    "print(b)"
   ]
  },
  {
   "cell_type": "markdown",
   "id": "afbe78cf-6365-4268-a648-d0c059b347fb",
   "metadata": {},
   "source": [
    "part a : Number of dimensions"
   ]
  },
  {
   "cell_type": "code",
   "execution_count": 149,
   "id": "b6eb93aa-3eec-4f88-a924-b57da6a85dc2",
   "metadata": {},
   "outputs": [
    {
     "data": {
      "text/plain": [
       "3"
      ]
     },
     "execution_count": 149,
     "metadata": {},
     "output_type": "execute_result"
    }
   ],
   "source": [
    "b.ndim"
   ]
  },
  {
   "cell_type": "markdown",
   "id": "ca256901-baf4-4096-8cda-6c73db1ce9b0",
   "metadata": {},
   "source": [
    "part b: Count of elements"
   ]
  },
  {
   "cell_type": "code",
   "execution_count": 147,
   "id": "7a3568c6-36dd-4e07-bcd4-302a2260f42b",
   "metadata": {},
   "outputs": [
    {
     "data": {
      "text/plain": [
       "24"
      ]
     },
     "execution_count": 147,
     "metadata": {},
     "output_type": "execute_result"
    }
   ],
   "source": [
    "b.size"
   ]
  },
  {
   "cell_type": "markdown",
   "id": "0a969d46-cdb7-4ed0-891f-c78777726b85",
   "metadata": {},
   "source": [
    "part c: Count of bytes"
   ]
  },
  {
   "cell_type": "code",
   "execution_count": 163,
   "id": "1b3fe00e-cc6e-4da2-82a5-80dc1f3eeecf",
   "metadata": {},
   "outputs": [
    {
     "name": "stdout",
     "output_type": "stream",
     "text": [
      "4\n"
     ]
    }
   ],
   "source": [
    "b.itemsize\n",
    "print(b.itemsize)"
   ]
  },
  {
   "cell_type": "markdown",
   "id": "e75fa977-c12e-45ee-bda7-59afe82bed6e",
   "metadata": {},
   "source": [
    "part d: Full count of bytes"
   ]
  },
  {
   "cell_type": "code",
   "execution_count": 153,
   "id": "0c17c825-2547-4616-a91e-371f46effccd",
   "metadata": {},
   "outputs": [
    {
     "data": {
      "text/plain": [
       "96"
      ]
     },
     "execution_count": 153,
     "metadata": {},
     "output_type": "execute_result"
    }
   ],
   "source": [
    "b.nbytes\n",
    "b.size * b.itemsize\n"
   ]
  },
  {
   "cell_type": "markdown",
   "id": "25818376-694d-4dc4-a320-231b47ef5c20",
   "metadata": {},
   "source": [
    "#problem 10"
   ]
  },
  {
   "cell_type": "markdown",
   "id": "30577600-15f7-4ac7-a9db-d0d22b1ea39d",
   "metadata": {},
   "source": [
    "#convert an array to a Python list"
   ]
  },
  {
   "cell_type": "markdown",
   "id": "5b0d1938-6766-42af-b7f6-8a59c0aaec3b",
   "metadata": {},
   "source": [
    "#create a numpy array"
   ]
  },
  {
   "cell_type": "code",
   "execution_count": 155,
   "id": "af8894f2-1c12-4451-8a97-24d363e13230",
   "metadata": {},
   "outputs": [],
   "source": [
    "array = np.array([1, 2, 3, 4, 5])"
   ]
  },
  {
   "cell_type": "markdown",
   "id": "50f6954f-e925-45cc-b5d9-9139f8ec4da9",
   "metadata": {},
   "source": [
    "#convert the numpy array to a Python list "
   ]
  },
  {
   "cell_type": "code",
   "execution_count": 158,
   "id": "bb90b64c-b8b3-4f37-96c3-4848701d1364",
   "metadata": {},
   "outputs": [],
   "source": [
    "python_list = array.tolist()"
   ]
  },
  {
   "cell_type": "markdown",
   "id": "e9e1e2ba-b06d-4ad0-b233-6dc4ee6d421b",
   "metadata": {},
   "source": [
    "#print the list"
   ]
  },
  {
   "cell_type": "code",
   "execution_count": 161,
   "id": "726a4972-5f12-4c4e-b7d4-d910f285620f",
   "metadata": {},
   "outputs": [
    {
     "name": "stdout",
     "output_type": "stream",
     "text": [
      "[1, 2, 3, 4, 5]\n"
     ]
    }
   ],
   "source": [
    "print(python_list)"
   ]
  },
  {
   "cell_type": "code",
   "execution_count": null,
   "id": "d758123d-28cc-4a7b-ac83-984333414710",
   "metadata": {},
   "outputs": [],
   "source": []
  }
 ],
 "metadata": {
  "kernelspec": {
   "display_name": "Python 3 (ipykernel)",
   "language": "python",
   "name": "python3"
  },
  "language_info": {
   "codemirror_mode": {
    "name": "ipython",
    "version": 3
   },
   "file_extension": ".py",
   "mimetype": "text/x-python",
   "name": "python",
   "nbconvert_exporter": "python",
   "pygments_lexer": "ipython3",
   "version": "3.11.7"
  }
 },
 "nbformat": 4,
 "nbformat_minor": 5
}
